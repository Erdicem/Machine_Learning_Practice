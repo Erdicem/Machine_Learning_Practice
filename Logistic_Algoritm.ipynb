{
 "cells": [
  {
   "cell_type": "markdown",
   "metadata": {},
   "source": [
    "# Campus Recruitment"
   ]
  },
  {
   "cell_type": "code",
   "execution_count": 1,
   "metadata": {},
   "outputs": [],
   "source": [
    "import pandas as pd \n",
    "import numpy as np \n",
    "import matplotlib.pyplot as plt\n",
    "import seaborn as sns \n",
    "\n",
    "import warnings\n",
    "warnings.filterwarnings('ignore')"
   ]
  },
  {
   "cell_type": "code",
   "execution_count": 2,
   "metadata": {},
   "outputs": [
    {
     "data": {
      "text/html": [
       "<div>\n",
       "<style scoped>\n",
       "    .dataframe tbody tr th:only-of-type {\n",
       "        vertical-align: middle;\n",
       "    }\n",
       "\n",
       "    .dataframe tbody tr th {\n",
       "        vertical-align: top;\n",
       "    }\n",
       "\n",
       "    .dataframe thead th {\n",
       "        text-align: right;\n",
       "    }\n",
       "</style>\n",
       "<table border=\"1\" class=\"dataframe\">\n",
       "  <thead>\n",
       "    <tr style=\"text-align: right;\">\n",
       "      <th></th>\n",
       "      <th>sl_no</th>\n",
       "      <th>gender</th>\n",
       "      <th>ssc_p</th>\n",
       "      <th>ssc_b</th>\n",
       "      <th>hsc_p</th>\n",
       "      <th>hsc_b</th>\n",
       "      <th>hsc_s</th>\n",
       "      <th>degree_p</th>\n",
       "      <th>degree_t</th>\n",
       "      <th>workex</th>\n",
       "      <th>etest_p</th>\n",
       "      <th>specialisation</th>\n",
       "      <th>mba_p</th>\n",
       "      <th>status</th>\n",
       "      <th>salary</th>\n",
       "    </tr>\n",
       "  </thead>\n",
       "  <tbody>\n",
       "    <tr>\n",
       "      <td>0</td>\n",
       "      <td>1</td>\n",
       "      <td>M</td>\n",
       "      <td>67.00</td>\n",
       "      <td>Others</td>\n",
       "      <td>91.00</td>\n",
       "      <td>Others</td>\n",
       "      <td>Commerce</td>\n",
       "      <td>58.00</td>\n",
       "      <td>Sci&amp;Tech</td>\n",
       "      <td>No</td>\n",
       "      <td>55.0</td>\n",
       "      <td>Mkt&amp;HR</td>\n",
       "      <td>58.80</td>\n",
       "      <td>Placed</td>\n",
       "      <td>270000.0</td>\n",
       "    </tr>\n",
       "    <tr>\n",
       "      <td>1</td>\n",
       "      <td>2</td>\n",
       "      <td>M</td>\n",
       "      <td>79.33</td>\n",
       "      <td>Central</td>\n",
       "      <td>78.33</td>\n",
       "      <td>Others</td>\n",
       "      <td>Science</td>\n",
       "      <td>77.48</td>\n",
       "      <td>Sci&amp;Tech</td>\n",
       "      <td>Yes</td>\n",
       "      <td>86.5</td>\n",
       "      <td>Mkt&amp;Fin</td>\n",
       "      <td>66.28</td>\n",
       "      <td>Placed</td>\n",
       "      <td>200000.0</td>\n",
       "    </tr>\n",
       "    <tr>\n",
       "      <td>2</td>\n",
       "      <td>3</td>\n",
       "      <td>M</td>\n",
       "      <td>65.00</td>\n",
       "      <td>Central</td>\n",
       "      <td>68.00</td>\n",
       "      <td>Central</td>\n",
       "      <td>Arts</td>\n",
       "      <td>64.00</td>\n",
       "      <td>Comm&amp;Mgmt</td>\n",
       "      <td>No</td>\n",
       "      <td>75.0</td>\n",
       "      <td>Mkt&amp;Fin</td>\n",
       "      <td>57.80</td>\n",
       "      <td>Placed</td>\n",
       "      <td>250000.0</td>\n",
       "    </tr>\n",
       "    <tr>\n",
       "      <td>3</td>\n",
       "      <td>4</td>\n",
       "      <td>M</td>\n",
       "      <td>56.00</td>\n",
       "      <td>Central</td>\n",
       "      <td>52.00</td>\n",
       "      <td>Central</td>\n",
       "      <td>Science</td>\n",
       "      <td>52.00</td>\n",
       "      <td>Sci&amp;Tech</td>\n",
       "      <td>No</td>\n",
       "      <td>66.0</td>\n",
       "      <td>Mkt&amp;HR</td>\n",
       "      <td>59.43</td>\n",
       "      <td>Not Placed</td>\n",
       "      <td>NaN</td>\n",
       "    </tr>\n",
       "    <tr>\n",
       "      <td>4</td>\n",
       "      <td>5</td>\n",
       "      <td>M</td>\n",
       "      <td>85.80</td>\n",
       "      <td>Central</td>\n",
       "      <td>73.60</td>\n",
       "      <td>Central</td>\n",
       "      <td>Commerce</td>\n",
       "      <td>73.30</td>\n",
       "      <td>Comm&amp;Mgmt</td>\n",
       "      <td>No</td>\n",
       "      <td>96.8</td>\n",
       "      <td>Mkt&amp;Fin</td>\n",
       "      <td>55.50</td>\n",
       "      <td>Placed</td>\n",
       "      <td>425000.0</td>\n",
       "    </tr>\n",
       "  </tbody>\n",
       "</table>\n",
       "</div>"
      ],
      "text/plain": [
       "   sl_no gender  ssc_p    ssc_b  hsc_p    hsc_b     hsc_s  degree_p  \\\n",
       "0      1      M  67.00   Others  91.00   Others  Commerce     58.00   \n",
       "1      2      M  79.33  Central  78.33   Others   Science     77.48   \n",
       "2      3      M  65.00  Central  68.00  Central      Arts     64.00   \n",
       "3      4      M  56.00  Central  52.00  Central   Science     52.00   \n",
       "4      5      M  85.80  Central  73.60  Central  Commerce     73.30   \n",
       "\n",
       "    degree_t workex  etest_p specialisation  mba_p      status    salary  \n",
       "0   Sci&Tech     No     55.0         Mkt&HR  58.80      Placed  270000.0  \n",
       "1   Sci&Tech    Yes     86.5        Mkt&Fin  66.28      Placed  200000.0  \n",
       "2  Comm&Mgmt     No     75.0        Mkt&Fin  57.80      Placed  250000.0  \n",
       "3   Sci&Tech     No     66.0         Mkt&HR  59.43  Not Placed       NaN  \n",
       "4  Comm&Mgmt     No     96.8        Mkt&Fin  55.50      Placed  425000.0  "
      ]
     },
     "execution_count": 2,
     "metadata": {},
     "output_type": "execute_result"
    }
   ],
   "source": [
    "df= pd.read_csv('Logistic_Regression.csv')\n",
    "df.head()"
   ]
  },
  {
   "cell_type": "code",
   "execution_count": 3,
   "metadata": {},
   "outputs": [
    {
     "name": "stdout",
     "output_type": "stream",
     "text": [
      "<class 'pandas.core.frame.DataFrame'>\n",
      "RangeIndex: 215 entries, 0 to 214\n",
      "Data columns (total 15 columns):\n",
      "sl_no             215 non-null int64\n",
      "gender            215 non-null object\n",
      "ssc_p             215 non-null float64\n",
      "ssc_b             215 non-null object\n",
      "hsc_p             215 non-null float64\n",
      "hsc_b             215 non-null object\n",
      "hsc_s             215 non-null object\n",
      "degree_p          215 non-null float64\n",
      "degree_t          215 non-null object\n",
      "workex            215 non-null object\n",
      "etest_p           215 non-null float64\n",
      "specialisation    215 non-null object\n",
      "mba_p             215 non-null float64\n",
      "status            215 non-null object\n",
      "salary            148 non-null float64\n",
      "dtypes: float64(6), int64(1), object(8)\n",
      "memory usage: 25.3+ KB\n"
     ]
    }
   ],
   "source": [
    "df.info()"
   ]
  },
  {
   "cell_type": "markdown",
   "metadata": {},
   "source": [
    "# Missing Values"
   ]
  },
  {
   "cell_type": "code",
   "execution_count": 4,
   "metadata": {},
   "outputs": [
    {
     "data": {
      "text/plain": [
       "sl_no              0.000000\n",
       "gender             0.000000\n",
       "ssc_p              0.000000\n",
       "ssc_b              0.000000\n",
       "hsc_p              0.000000\n",
       "hsc_b              0.000000\n",
       "hsc_s              0.000000\n",
       "degree_p           0.000000\n",
       "degree_t           0.000000\n",
       "workex             0.000000\n",
       "etest_p            0.000000\n",
       "specialisation     0.000000\n",
       "mba_p              0.000000\n",
       "status             0.000000\n",
       "salary            31.162791\n",
       "dtype: float64"
      ]
     },
     "execution_count": 4,
     "metadata": {},
     "output_type": "execute_result"
    }
   ],
   "source": [
    "df.isnull().sum()*100/df.shape[0]"
   ]
  },
  {
   "cell_type": "code",
   "execution_count": 5,
   "metadata": {},
   "outputs": [],
   "source": [
    "df['salary'].fillna(df['salary'].mean(),inplace =True)"
   ]
  },
  {
   "cell_type": "code",
   "execution_count": 6,
   "metadata": {},
   "outputs": [
    {
     "data": {
      "text/plain": [
       "sl_no             0.0\n",
       "gender            0.0\n",
       "ssc_p             0.0\n",
       "ssc_b             0.0\n",
       "hsc_p             0.0\n",
       "hsc_b             0.0\n",
       "hsc_s             0.0\n",
       "degree_p          0.0\n",
       "degree_t          0.0\n",
       "workex            0.0\n",
       "etest_p           0.0\n",
       "specialisation    0.0\n",
       "mba_p             0.0\n",
       "status            0.0\n",
       "salary            0.0\n",
       "dtype: float64"
      ]
     },
     "execution_count": 6,
     "metadata": {},
     "output_type": "execute_result"
    }
   ],
   "source": [
    "df.isnull().sum()*100/df.shape[0]"
   ]
  },
  {
   "cell_type": "code",
   "execution_count": 7,
   "metadata": {},
   "outputs": [
    {
     "name": "stdout",
     "output_type": "stream",
     "text": [
      "ssc_b\n",
      " ['Others' 'Central']\n",
      "hsc_b\n",
      " ['Others' 'Central']\n",
      "hsc_s\n",
      " ['Commerce' 'Science' 'Arts']\n",
      "degree_t\n",
      " ['Sci&Tech' 'Comm&Mgmt' 'Others']\n",
      "workex\n",
      " ['No' 'Yes']\n",
      "specialisation\n",
      " ['Mkt&HR' 'Mkt&Fin']\n",
      "status\n",
      " ['Placed' 'Not Placed']\n"
     ]
    }
   ],
   "source": [
    "listem= ['ssc_b',\"hsc_b\",\"hsc_s\",\"degree_t\",\"workex\",\"specialisation\",\"status\"]\n",
    "for i in listem:\n",
    "    print(i+ '\\n',df[i].unique())"
   ]
  },
  {
   "cell_type": "code",
   "execution_count": 8,
   "metadata": {},
   "outputs": [],
   "source": [
    "df['status'].replace({'Placed':1,'Not Placed':0},inplace=True)"
   ]
  },
  {
   "cell_type": "code",
   "execution_count": 9,
   "metadata": {},
   "outputs": [
    {
     "data": {
      "text/plain": [
       "<seaborn.axisgrid.PairGrid at 0x1537d309608>"
      ]
     },
     "execution_count": 9,
     "metadata": {},
     "output_type": "execute_result"
    },
    {
     "data": {
      "image/png": "[encoded data removed]",
      "text/plain": [
       "<Figure size 1440x1440 with 72 Axes>"
      ]
     },
     "metadata": {
      "needs_background": "light"
     },
     "output_type": "display_data"
    }
   ],
   "source": [
    "sns.pairplot(df,kind=\"reg\")"
   ]
  },
  {
   "cell_type": "code",
   "execution_count": 10,
   "metadata": {},
   "outputs": [
    {
     "data": {
      "text/html": [
       "<div>\n",
       "<style scoped>\n",
       "    .dataframe tbody tr th:only-of-type {\n",
       "        vertical-align: middle;\n",
       "    }\n",
       "\n",
       "    .dataframe tbody tr th {\n",
       "        vertical-align: top;\n",
       "    }\n",
       "\n",
       "    .dataframe thead th {\n",
       "        text-align: right;\n",
       "    }\n",
       "</style>\n",
       "<table border=\"1\" class=\"dataframe\">\n",
       "  <thead>\n",
       "    <tr style=\"text-align: right;\">\n",
       "      <th></th>\n",
       "      <th>sl_no</th>\n",
       "      <th>ssc_p</th>\n",
       "      <th>hsc_p</th>\n",
       "      <th>degree_p</th>\n",
       "      <th>etest_p</th>\n",
       "      <th>mba_p</th>\n",
       "      <th>status</th>\n",
       "      <th>salary</th>\n",
       "    </tr>\n",
       "  </thead>\n",
       "  <tbody>\n",
       "    <tr>\n",
       "      <td>sl_no</td>\n",
       "      <td>1.000000</td>\n",
       "      <td>-0.078155</td>\n",
       "      <td>-0.085711</td>\n",
       "      <td>-0.088281</td>\n",
       "      <td>0.063636</td>\n",
       "      <td>0.022327</td>\n",
       "      <td>-2.685942e-02</td>\n",
       "      <td>5.155040e-02</td>\n",
       "    </tr>\n",
       "    <tr>\n",
       "      <td>ssc_p</td>\n",
       "      <td>-0.078155</td>\n",
       "      <td>1.000000</td>\n",
       "      <td>0.511472</td>\n",
       "      <td>0.538404</td>\n",
       "      <td>0.261993</td>\n",
       "      <td>0.388478</td>\n",
       "      <td>6.078887e-01</td>\n",
       "      <td>2.357072e-02</td>\n",
       "    </tr>\n",
       "    <tr>\n",
       "      <td>hsc_p</td>\n",
       "      <td>-0.085711</td>\n",
       "      <td>0.511472</td>\n",
       "      <td>1.000000</td>\n",
       "      <td>0.434206</td>\n",
       "      <td>0.245113</td>\n",
       "      <td>0.354823</td>\n",
       "      <td>4.912279e-01</td>\n",
       "      <td>5.450558e-02</td>\n",
       "    </tr>\n",
       "    <tr>\n",
       "      <td>degree_p</td>\n",
       "      <td>-0.088281</td>\n",
       "      <td>0.538404</td>\n",
       "      <td>0.434206</td>\n",
       "      <td>1.000000</td>\n",
       "      <td>0.224470</td>\n",
       "      <td>0.402364</td>\n",
       "      <td>4.798610e-01</td>\n",
       "      <td>-1.414817e-02</td>\n",
       "    </tr>\n",
       "    <tr>\n",
       "      <td>etest_p</td>\n",
       "      <td>0.063636</td>\n",
       "      <td>0.261993</td>\n",
       "      <td>0.245113</td>\n",
       "      <td>0.224470</td>\n",
       "      <td>1.000000</td>\n",
       "      <td>0.218055</td>\n",
       "      <td>1.276394e-01</td>\n",
       "      <td>1.528286e-01</td>\n",
       "    </tr>\n",
       "    <tr>\n",
       "      <td>mba_p</td>\n",
       "      <td>0.022327</td>\n",
       "      <td>0.388478</td>\n",
       "      <td>0.354823</td>\n",
       "      <td>0.402364</td>\n",
       "      <td>0.218055</td>\n",
       "      <td>1.000000</td>\n",
       "      <td>7.692165e-02</td>\n",
       "      <td>1.463245e-01</td>\n",
       "    </tr>\n",
       "    <tr>\n",
       "      <td>status</td>\n",
       "      <td>-0.026859</td>\n",
       "      <td>0.607889</td>\n",
       "      <td>0.491228</td>\n",
       "      <td>0.479861</td>\n",
       "      <td>0.127639</td>\n",
       "      <td>0.076922</td>\n",
       "      <td>1.000000e+00</td>\n",
       "      <td>9.450535e-17</td>\n",
       "    </tr>\n",
       "    <tr>\n",
       "      <td>salary</td>\n",
       "      <td>0.051550</td>\n",
       "      <td>0.023571</td>\n",
       "      <td>0.054506</td>\n",
       "      <td>-0.014148</td>\n",
       "      <td>0.152829</td>\n",
       "      <td>0.146324</td>\n",
       "      <td>9.450535e-17</td>\n",
       "      <td>1.000000e+00</td>\n",
       "    </tr>\n",
       "  </tbody>\n",
       "</table>\n",
       "</div>"
      ],
      "text/plain": [
       "             sl_no     ssc_p     hsc_p  degree_p   etest_p     mba_p  \\\n",
       "sl_no     1.000000 -0.078155 -0.085711 -0.088281  0.063636  0.022327   \n",
       "ssc_p    -0.078155  1.000000  0.511472  0.538404  0.261993  0.388478   \n",
       "hsc_p    -0.085711  0.511472  1.000000  0.434206  0.245113  0.354823   \n",
       "degree_p -0.088281  0.538404  0.434206  1.000000  0.224470  0.402364   \n",
       "etest_p   0.063636  0.261993  0.245113  0.224470  1.000000  0.218055   \n",
       "mba_p     0.022327  0.388478  0.354823  0.402364  0.218055  1.000000   \n",
       "status   -0.026859  0.607889  0.491228  0.479861  0.127639  0.076922   \n",
       "salary    0.051550  0.023571  0.054506 -0.014148  0.152829  0.146324   \n",
       "\n",
       "                status        salary  \n",
       "sl_no    -2.685942e-02  5.155040e-02  \n",
       "ssc_p     6.078887e-01  2.357072e-02  \n",
       "hsc_p     4.912279e-01  5.450558e-02  \n",
       "degree_p  4.798610e-01 -1.414817e-02  \n",
       "etest_p   1.276394e-01  1.528286e-01  \n",
       "mba_p     7.692165e-02  1.463245e-01  \n",
       "status    1.000000e+00  9.450535e-17  \n",
       "salary    9.450535e-17  1.000000e+00  "
      ]
     },
     "execution_count": 10,
     "metadata": {},
     "output_type": "execute_result"
    }
   ],
   "source": [
    "df_corr= df.corr()\n",
    "df_corr"
   ]
  },
  {
   "cell_type": "code",
   "execution_count": 11,
   "metadata": {},
   "outputs": [
    {
     "data": {
      "text/plain": [
       "<seaborn.axisgrid.JointGrid at 0x1537f5e9548>"
      ]
     },
     "execution_count": 11,
     "metadata": {},
     "output_type": "execute_result"
    },
    {
     "data": {
      "image/png": "[encoded data removed]",
      "text/plain": [
       "<Figure size 432x432 with 3 Axes>"
      ]
     },
     "metadata": {
      "needs_background": "light"
     },
     "output_type": "display_data"
    }
   ],
   "source": [
    "sns.jointplot(x='status', y='salary', data= df , kind=\"reg\")"
   ]
  },
  {
   "cell_type": "code",
   "execution_count": 12,
   "metadata": {},
   "outputs": [
    {
     "data": {
      "text/plain": [
       "1    148\n",
       "0     67\n",
       "Name: status, dtype: int64"
      ]
     },
     "execution_count": 12,
     "metadata": {},
     "output_type": "execute_result"
    }
   ],
   "source": [
    "df['status'].value_counts()"
   ]
  },
  {
   "cell_type": "code",
   "execution_count": 13,
   "metadata": {},
   "outputs": [],
   "source": [
    "df[\"ssc_b\"]= pd.get_dummies(df.ssc_b)\n",
    "df[\"hsc_b\"]= pd.get_dummies(df.hsc_b)\n",
    "df[\"workex\"]= df.workex.replace({'No':0,'Yes':1})\n",
    "df[\"specialisation\"]= pd.get_dummies(df.specialisation)\n",
    "df[\"gender\"]= pd.get_dummies(df.gender)\n",
    "df[\"hsc_s\"]= pd.get_dummies(df.hsc_s)\n",
    "df[\"degree_t\"]= pd.get_dummies(df.degree_t)"
   ]
  },
  {
   "cell_type": "markdown",
   "metadata": {},
   "source": [
    "# Model "
   ]
  },
  {
   "cell_type": "code",
   "execution_count": 14,
   "metadata": {},
   "outputs": [],
   "source": [
    "from sklearn.model_selection import train_test_split, GridSearchCV, cross_validate, cross_val_score\n",
    "from sklearn.linear_model import LogisticRegression\n",
    "from sklearn.metrics import accuracy_score, precision_score,recall_score,f1_score,roc_auc_score\n",
    "from sklearn.preprocessing import StandardScaler\n",
    "from sklearn.neighbors import KNeighborsClassifier\n",
    "from sklearn.tree import DecisionTreeClassifier\n",
    "from sklearn.ensemble import RandomForestClassifier\n",
    "from sklearn.svm import SVC\n",
    "from xgboost import XGBClassifier\n",
    "from lightgbm import LGBMClassifier\n",
    "from catboost import CatBoostClassifier"
   ]
  },
  {
   "cell_type": "code",
   "execution_count": 15,
   "metadata": {},
   "outputs": [],
   "source": [
    "y = df['status']\n",
    "X = df.drop('status', axis=1)"
   ]
  },
  {
   "cell_type": "markdown",
   "metadata": {},
   "source": [
    "# Normalization"
   ]
  },
  {
   "cell_type": "code",
   "execution_count": 16,
   "metadata": {},
   "outputs": [],
   "source": [
    "scaler=StandardScaler()\n",
    "X_scl=scaler.fit_transform(X)"
   ]
  },
  {
   "cell_type": "markdown",
   "metadata": {},
   "source": [
    "# HyperParametrs "
   ]
  },
  {
   "cell_type": "code",
   "execution_count": 17,
   "metadata": {},
   "outputs": [
    {
     "name": "stdout",
     "output_type": "stream",
     "text": [
      "The best parameters :  {'C': 1000, 'penalty': 'l1', 'solver': 'liblinear'}\n",
      "The best score         :  0.8608225108225108\n"
     ]
    }
   ],
   "source": [
    "logistic=LogisticRegression()\n",
    "\n",
    "parameters = {\"C\": [10 ** x for x in range (-5, 5, 1)],\n",
    "                \"penalty\": ['l1', 'l2'],'solver': ('linear', 'lbfgs', 'liblinear')}\n",
    "\n",
    "\n",
    "grid_cv = GridSearchCV(estimator=logistic,\n",
    "                       param_grid = parameters,\n",
    "                       cv = 10)\n",
    "grid_cv.fit(X, y)\n",
    "print(\"The best parameters : \", grid_cv.best_params_)\n",
    "print(\"The best score         : \", grid_cv.best_score_)"
   ]
  },
  {
   "cell_type": "markdown",
   "metadata": {},
   "source": [
    "# The Best Logistic Regression Model"
   ]
  },
  {
   "cell_type": "code",
   "execution_count": 18,
   "metadata": {},
   "outputs": [],
   "source": [
    "model = LogisticRegression(solver='liblinear',penalty='l1',C=10000)"
   ]
  },
  {
   "cell_type": "code",
   "execution_count": 19,
   "metadata": {},
   "outputs": [],
   "source": [
    "def create_model(X,y,model,tip):\n",
    "    X_train, X_test, y_train, y_test =  train_test_split(X, y, test_size=0.20, random_state=111, stratify = y)\n",
    "    model.fit(X_train, y_train)\n",
    "    \n",
    "    prediction_train=model.predict(X_train)\n",
    "    prediction_test=model.predict(X_test)\n",
    "    \n",
    "    prediction_test_prob = model.predict_proba(X_test)[:,1]\n",
    "    \n",
    "    d = pd.Series({'Accuracy_Train':accuracy_score(y_train,prediction_train),\n",
    "                   'Precision_Train':precision_score(y_train,prediction_train),\n",
    "                   'Recall_Train':recall_score(y_train,prediction_train),\n",
    "                   'F1 Score_Train':f1_score(y_train,prediction_train),\n",
    "                   'Accuracy_Test':accuracy_score(y_test,prediction_test),\n",
    "                   'Precision_Test':precision_score(y_test,prediction_test),\n",
    "                   'Recall_Test':recall_score(y_test,prediction_test),\n",
    "                   'F1 Score_Test':f1_score(y_test,prediction_test),\n",
    "                   'AUC Score':roc_auc_score(y_test, prediction_test_prob)},name=tip)\n",
    "    return d"
   ]
  },
  {
   "cell_type": "code",
   "execution_count": 20,
   "metadata": {},
   "outputs": [
    {
     "data": {
      "text/html": [
       "<div>\n",
       "<style scoped>\n",
       "    .dataframe tbody tr th:only-of-type {\n",
       "        vertical-align: middle;\n",
       "    }\n",
       "\n",
       "    .dataframe tbody tr th {\n",
       "        vertical-align: top;\n",
       "    }\n",
       "\n",
       "    .dataframe thead th {\n",
       "        text-align: right;\n",
       "    }\n",
       "</style>\n",
       "<table border=\"1\" class=\"dataframe\">\n",
       "  <thead>\n",
       "    <tr style=\"text-align: right;\">\n",
       "      <th></th>\n",
       "      <th>AUC Score</th>\n",
       "      <th>Accuracy_Test</th>\n",
       "      <th>Accuracy_Train</th>\n",
       "      <th>F1 Score_Test</th>\n",
       "      <th>F1 Score_Train</th>\n",
       "      <th>Precision_Test</th>\n",
       "      <th>Precision_Train</th>\n",
       "      <th>Recall_Test</th>\n",
       "      <th>Recall_Train</th>\n",
       "    </tr>\n",
       "  </thead>\n",
       "  <tbody>\n",
       "    <tr>\n",
       "      <td>Logistic_Regr.</td>\n",
       "      <td>0.974359</td>\n",
       "      <td>0.953488</td>\n",
       "      <td>0.872093</td>\n",
       "      <td>0.966667</td>\n",
       "      <td>0.908333</td>\n",
       "      <td>0.966667</td>\n",
       "      <td>0.893443</td>\n",
       "      <td>0.966667</td>\n",
       "      <td>0.923729</td>\n",
       "    </tr>\n",
       "  </tbody>\n",
       "</table>\n",
       "</div>"
      ],
      "text/plain": [
       "                AUC Score  Accuracy_Test  Accuracy_Train  F1 Score_Test  \\\n",
       "Logistic_Regr.   0.974359       0.953488        0.872093       0.966667   \n",
       "\n",
       "                F1 Score_Train  Precision_Test  Precision_Train  Recall_Test  \\\n",
       "Logistic_Regr.        0.908333        0.966667         0.893443     0.966667   \n",
       "\n",
       "                Recall_Train  \n",
       "Logistic_Regr.      0.923729  "
      ]
     },
     "execution_count": 20,
     "metadata": {},
     "output_type": "execute_result"
    }
   ],
   "source": [
    "metrics=pd.DataFrame()\n",
    "metrics=metrics.append(create_model(X_scl,y,model,tip='Logistic_Regr.'))\n",
    "metrics"
   ]
  },
  {
   "cell_type": "markdown",
   "metadata": {},
   "source": [
    "# Cross Validation"
   ]
  },
  {
   "cell_type": "code",
   "execution_count": 21,
   "metadata": {},
   "outputs": [
    {
     "name": "stdout",
     "output_type": "stream",
     "text": [
      "Test Scores            : \n",
      "[0.81818182 0.81818182 0.81818182 0.77272727 0.86363636 0.9047619\n",
      " 0.9047619  0.80952381 0.80952381 0.76190476]\n",
      "--------------------------------------------------\n",
      "Train Scores          : \n",
      "[0.84974093 0.87046632 0.85492228 0.85492228 0.85492228 0.86082474\n",
      " 0.84536082 0.8556701  0.8556701  0.86597938]\n"
     ]
    }
   ],
   "source": [
    "lrm = LogisticRegression(solver='liblinear',penalty='l1',C=0.1)\n",
    "cv = cross_validate(estimator=lrm,\n",
    "                     X=X_scl,\n",
    "                     y=y,\n",
    "                     cv=10,return_train_score=True\n",
    "                    )\n",
    "print('Test Scores            : ', cv['test_score'], sep = '\\n')\n",
    "print(\"-\"*50)\n",
    "print('Train Scores          : ', cv['train_score'], sep = '\\n')"
   ]
  },
  {
   "cell_type": "code",
   "execution_count": 22,
   "metadata": {},
   "outputs": [
    {
     "name": "stdout",
     "output_type": "stream",
     "text": [
      "Mean of Test Sets :  0.8281385281385282\n",
      "Mean of Train Sets :  0.8568479247903424\n"
     ]
    }
   ],
   "source": [
    "print('Mean of Test Sets : ', cv['test_score'].mean())\n",
    "print('Mean of Train Sets : ', cv['train_score'].mean())"
   ]
  },
  {
   "cell_type": "markdown",
   "metadata": {},
   "source": [
    "# K-Nearest Neighbour"
   ]
  },
  {
   "cell_type": "code",
   "execution_count": 27,
   "metadata": {},
   "outputs": [
    {
     "data": {
      "text/plain": [
       "KNeighborsClassifier()"
      ]
     },
     "execution_count": 27,
     "metadata": {},
     "output_type": "execute_result"
    }
   ],
   "source": [
    "y = df['status']\n",
    "X = df.drop('status', axis=1)\n",
    "\n",
    "scaler=StandardScaler()\n",
    "X_scl=scaler.fit_transform(X)\n",
    "X_train, X_test, y_train, y_test =  train_test_split(X_scl,y, test_size=0.20, random_state=40, stratify = y)\n",
    "\n",
    "Knn=KNeighborsClassifier(n_neighbors=5)\n",
    "Knn.fit(X_train,y_train)"
   ]
  },
  {
   "cell_type": "code",
   "execution_count": 28,
   "metadata": {},
   "outputs": [],
   "source": [
    "test_preds=Knn.predict(X_test)\n",
    "y_probs=Knn.predict_proba(X_test)[:,1]"
   ]
  },
  {
   "cell_type": "code",
   "execution_count": 30,
   "metadata": {},
   "outputs": [
    {
     "name": "stdout",
     "output_type": "stream",
     "text": [
      "Precision Score: 0.8181818181818182\n",
      "Recall Score   : 0.9\n",
      "Accuracy Score : 0.7906976744186046\n",
      "F1 Score       : 0.8571428571428572\n",
      "AUC Score      : 0.8423076923076923\n"
     ]
    }
   ],
   "source": [
    "def metric(x,y):\n",
    "    print(\"Precision Score: {}\".format(precision_score(x,y)))\n",
    "    print('Recall Score   : {}'.format(recall_score(x,y)))\n",
    "    print(\"Accuracy Score : {}\".format(accuracy_score(x,y)))\n",
    "    print(\"F1 Score       : {}\".format(f1_score(x,y)))\n",
    "    print(\"AUC Score      : {}\".format(roc_auc_score(y_test,y_probs)))\n",
    "metric(y_test,test_preds)"
   ]
  },
  {
   "cell_type": "markdown",
   "metadata": {},
   "source": [
    "# Model Tuning"
   ]
  },
  {
   "cell_type": "code",
   "execution_count": 29,
   "metadata": {},
   "outputs": [
    {
     "name": "stdout",
     "output_type": "stream",
     "text": [
      "The best parameters: KNeighborsClassifier(n_neighbors=1)\n",
      "The best score: 0.993095238095238\n"
     ]
    }
   ],
   "source": [
    "Knn=KNeighborsClassifier()\n",
    "k_range = list(range(1,25))\n",
    "parameter = dict(n_neighbors=k_range)\n",
    "grid = GridSearchCV(Knn, parameter, cv=10, scoring='roc_auc')\n",
    "Grds = grid.fit(X,y)\n",
    "print('The best parameters:', Grds.best_estimator_)\n",
    "print('The best score:', Grds.best_score_)"
   ]
  },
  {
   "cell_type": "markdown",
   "metadata": {},
   "source": [
    "# Cross Validation"
   ]
  },
  {
   "cell_type": "code",
   "execution_count": 27,
   "metadata": {},
   "outputs": [
    {
     "name": "stdout",
     "output_type": "stream",
     "text": [
      "Test Scores            : \n",
      "[0.63636364 0.81818182 0.72727273 0.86363636 0.81818182 0.80952381\n",
      " 0.9047619  0.71428571 0.71428571 0.61904762]\n",
      "--------------------------------------------------\n",
      "Train Scores          : \n",
      "[1. 1. 1. 1. 1. 1. 1. 1. 1. 1.]\n"
     ]
    }
   ],
   "source": [
    "\n",
    "Knn = KNeighborsClassifier(n_neighbors=1)\n",
    "cv = cross_validate(estimator=Knn,\n",
    "                     X=X_scl,\n",
    "                     y=y,\n",
    "                     cv=10,return_train_score=True\n",
    "                    )\n",
    "print('Test Scores            : ', cv['test_score'], sep = '\\n')\n",
    "print(\"-\"*50)\n",
    "print('Train Scores          : ', cv['train_score'], sep = '\\n')"
   ]
  },
  {
   "cell_type": "code",
   "execution_count": 28,
   "metadata": {},
   "outputs": [
    {
     "name": "stdout",
     "output_type": "stream",
     "text": [
      "Mean of Test Sets :  0.7625541125541127\n",
      "Mean of Train Sets :  1.0\n"
     ]
    }
   ],
   "source": [
    "print('Mean of Test Sets : ', cv['test_score'].mean())\n",
    "print('Mean of Train Sets : ', cv['train_score'].mean())"
   ]
  },
  {
   "cell_type": "markdown",
   "metadata": {},
   "source": [
    "# KNN Model Tuning Results"
   ]
  },
  {
   "cell_type": "code",
   "execution_count": 31,
   "metadata": {},
   "outputs": [],
   "source": [
    "Knn_model = KNeighborsClassifier(n_neighbors=1)"
   ]
  },
  {
   "cell_type": "code",
   "execution_count": 32,
   "metadata": {},
   "outputs": [
    {
     "data": {
      "text/html": [
       "<div>\n",
       "<style scoped>\n",
       "    .dataframe tbody tr th:only-of-type {\n",
       "        vertical-align: middle;\n",
       "    }\n",
       "\n",
       "    .dataframe tbody tr th {\n",
       "        vertical-align: top;\n",
       "    }\n",
       "\n",
       "    .dataframe thead th {\n",
       "        text-align: right;\n",
       "    }\n",
       "</style>\n",
       "<table border=\"1\" class=\"dataframe\">\n",
       "  <thead>\n",
       "    <tr style=\"text-align: right;\">\n",
       "      <th></th>\n",
       "      <th>AUC Score</th>\n",
       "      <th>Accuracy_Test</th>\n",
       "      <th>Accuracy_Train</th>\n",
       "      <th>F1 Score_Test</th>\n",
       "      <th>F1 Score_Train</th>\n",
       "      <th>Precision_Test</th>\n",
       "      <th>Precision_Train</th>\n",
       "      <th>Recall_Test</th>\n",
       "      <th>Recall_Train</th>\n",
       "    </tr>\n",
       "  </thead>\n",
       "  <tbody>\n",
       "    <tr>\n",
       "      <td>Logistic_Regr.</td>\n",
       "      <td>0.974359</td>\n",
       "      <td>0.953488</td>\n",
       "      <td>0.872093</td>\n",
       "      <td>0.966667</td>\n",
       "      <td>0.908333</td>\n",
       "      <td>0.966667</td>\n",
       "      <td>0.893443</td>\n",
       "      <td>0.966667</td>\n",
       "      <td>0.923729</td>\n",
       "    </tr>\n",
       "    <tr>\n",
       "      <td>Knn_model.</td>\n",
       "      <td>0.741026</td>\n",
       "      <td>0.790698</td>\n",
       "      <td>1.000000</td>\n",
       "      <td>0.852459</td>\n",
       "      <td>1.000000</td>\n",
       "      <td>0.838710</td>\n",
       "      <td>1.000000</td>\n",
       "      <td>0.866667</td>\n",
       "      <td>1.000000</td>\n",
       "    </tr>\n",
       "  </tbody>\n",
       "</table>\n",
       "</div>"
      ],
      "text/plain": [
       "                AUC Score  Accuracy_Test  Accuracy_Train  F1 Score_Test  \\\n",
       "Logistic_Regr.   0.974359       0.953488        0.872093       0.966667   \n",
       "Knn_model.       0.741026       0.790698        1.000000       0.852459   \n",
       "\n",
       "                F1 Score_Train  Precision_Test  Precision_Train  Recall_Test  \\\n",
       "Logistic_Regr.        0.908333        0.966667         0.893443     0.966667   \n",
       "Knn_model.            1.000000        0.838710         1.000000     0.866667   \n",
       "\n",
       "                Recall_Train  \n",
       "Logistic_Regr.      0.923729  \n",
       "Knn_model.          1.000000  "
      ]
     },
     "execution_count": 32,
     "metadata": {},
     "output_type": "execute_result"
    }
   ],
   "source": [
    "metrics=metrics.append(create_model(X_scl,y,Knn_model,tip='Knn_model.'))\n",
    "metrics"
   ]
  },
  {
   "cell_type": "markdown",
   "metadata": {},
   "source": [
    "# CART Algoritm"
   ]
  },
  {
   "cell_type": "code",
   "execution_count": 33,
   "metadata": {},
   "outputs": [
    {
     "data": {
      "text/plain": [
       "DecisionTreeClassifier(criterion='entropy', random_state=1337)"
      ]
     },
     "execution_count": 33,
     "metadata": {},
     "output_type": "execute_result"
    }
   ],
   "source": [
    "cart_model = DecisionTreeClassifier(criterion='entropy', random_state=1337)\n",
    "\n",
    "y = df['status']\n",
    "X = df.drop('status', axis=1)\n",
    "\n",
    "scaler=StandardScaler()\n",
    "X_scl=scaler.fit_transform(X)\n",
    "\n",
    "X_train, X_test, y_train, y_test =  train_test_split(X_scl,y, test_size=0.20, random_state=40, stratify = y)\n",
    "\n",
    "cart_model.fit(X_train,y_train)"
   ]
  },
  {
   "cell_type": "code",
   "execution_count": 44,
   "metadata": {},
   "outputs": [],
   "source": [
    "test_preds=cart_model.predict(X_test)\n",
    "train_preds=cart_model.predict(X_train)\n",
    "y_probs=cart_model.predict_proba(X_test)[:,1]"
   ]
  },
  {
   "cell_type": "code",
   "execution_count": 42,
   "metadata": {},
   "outputs": [
    {
     "name": "stdout",
     "output_type": "stream",
     "text": [
      "Precision Score: 1.0\n",
      "Recall Score   : 0.9666666666666667\n",
      "Accuracy Score : 0.9767441860465116\n",
      "F1 Score       : 0.983050847457627\n",
      "AUC Score      : 0.9833333333333334\n"
     ]
    }
   ],
   "source": [
    "metric(y_test,test_preds) #Test Score"
   ]
  },
  {
   "cell_type": "code",
   "execution_count": 45,
   "metadata": {},
   "outputs": [
    {
     "name": "stdout",
     "output_type": "stream",
     "text": [
      "Precision Score: 1.0\n",
      "Recall Score   : 1.0\n",
      "Accuracy Score : 1.0\n",
      "F1 Score       : 1.0\n",
      "AUC Score      : 0.9833333333333334\n"
     ]
    }
   ],
   "source": [
    "metric(y_train,train_preds) #Train Score"
   ]
  },
  {
   "cell_type": "markdown",
   "metadata": {},
   "source": [
    "# Model Tuning"
   ]
  },
  {
   "cell_type": "code",
   "execution_count": 36,
   "metadata": {},
   "outputs": [
    {
     "data": {
      "text/plain": [
       "GridSearchCV(cv=10,\n",
       "             estimator=DecisionTreeClassifier(criterion='entropy',\n",
       "                                              random_state=1337),\n",
       "             param_grid={'max_features': range(0, 5),\n",
       "                         'max_leaf_nodes': range(2, 10),\n",
       "                         'min_samples_split': range(2, 20)})"
      ]
     },
     "execution_count": 36,
     "metadata": {},
     "output_type": "execute_result"
    }
   ],
   "source": [
    "cart_params= {'min_samples_split':range(2,20), \n",
    "             \"max_leaf_nodes\":range(2,10),\n",
    "             \"max_features\":range(0,5)}\n",
    "\n",
    "cart_cv_model = GridSearchCV(cart_model, cart_params, cv=10)\n",
    "\n",
    "cart_cv_model.fit(X_train,y_train)"
   ]
  },
  {
   "cell_type": "code",
   "execution_count": 37,
   "metadata": {},
   "outputs": [
    {
     "data": {
      "text/plain": [
       "{'max_features': 4, 'max_leaf_nodes': 7, 'min_samples_split': 2}"
      ]
     },
     "execution_count": 37,
     "metadata": {},
     "output_type": "execute_result"
    }
   ],
   "source": [
    "cart_cv_model.best_params_"
   ]
  },
  {
   "cell_type": "markdown",
   "metadata": {},
   "source": [
    "# CART Model Tuning Results"
   ]
  },
  {
   "cell_type": "code",
   "execution_count": 46,
   "metadata": {},
   "outputs": [],
   "source": [
    "cart_model = DecisionTreeClassifier(criterion='entropy', random_state=1337,max_features= 4,max_leaf_nodes=7, min_samples_split=2 )"
   ]
  },
  {
   "cell_type": "code",
   "execution_count": 47,
   "metadata": {},
   "outputs": [
    {
     "data": {
      "text/html": [
       "<div>\n",
       "<style scoped>\n",
       "    .dataframe tbody tr th:only-of-type {\n",
       "        vertical-align: middle;\n",
       "    }\n",
       "\n",
       "    .dataframe tbody tr th {\n",
       "        vertical-align: top;\n",
       "    }\n",
       "\n",
       "    .dataframe thead th {\n",
       "        text-align: right;\n",
       "    }\n",
       "</style>\n",
       "<table border=\"1\" class=\"dataframe\">\n",
       "  <thead>\n",
       "    <tr style=\"text-align: right;\">\n",
       "      <th></th>\n",
       "      <th>AUC Score</th>\n",
       "      <th>Accuracy_Test</th>\n",
       "      <th>Accuracy_Train</th>\n",
       "      <th>F1 Score_Test</th>\n",
       "      <th>F1 Score_Train</th>\n",
       "      <th>Precision_Test</th>\n",
       "      <th>Precision_Train</th>\n",
       "      <th>Recall_Test</th>\n",
       "      <th>Recall_Train</th>\n",
       "    </tr>\n",
       "  </thead>\n",
       "  <tbody>\n",
       "    <tr>\n",
       "      <td>Logistic_Regr.</td>\n",
       "      <td>0.974359</td>\n",
       "      <td>0.953488</td>\n",
       "      <td>0.872093</td>\n",
       "      <td>0.966667</td>\n",
       "      <td>0.908333</td>\n",
       "      <td>0.966667</td>\n",
       "      <td>0.893443</td>\n",
       "      <td>0.966667</td>\n",
       "      <td>0.923729</td>\n",
       "    </tr>\n",
       "    <tr>\n",
       "      <td>Knn_model.</td>\n",
       "      <td>0.741026</td>\n",
       "      <td>0.790698</td>\n",
       "      <td>1.000000</td>\n",
       "      <td>0.852459</td>\n",
       "      <td>1.000000</td>\n",
       "      <td>0.838710</td>\n",
       "      <td>1.000000</td>\n",
       "      <td>0.866667</td>\n",
       "      <td>1.000000</td>\n",
       "    </tr>\n",
       "    <tr>\n",
       "      <td>cart_model.</td>\n",
       "      <td>0.944872</td>\n",
       "      <td>0.953488</td>\n",
       "      <td>1.000000</td>\n",
       "      <td>0.966667</td>\n",
       "      <td>1.000000</td>\n",
       "      <td>0.966667</td>\n",
       "      <td>1.000000</td>\n",
       "      <td>0.966667</td>\n",
       "      <td>1.000000</td>\n",
       "    </tr>\n",
       "  </tbody>\n",
       "</table>\n",
       "</div>"
      ],
      "text/plain": [
       "                AUC Score  Accuracy_Test  Accuracy_Train  F1 Score_Test  \\\n",
       "Logistic_Regr.   0.974359       0.953488        0.872093       0.966667   \n",
       "Knn_model.       0.741026       0.790698        1.000000       0.852459   \n",
       "cart_model.      0.944872       0.953488        1.000000       0.966667   \n",
       "\n",
       "                F1 Score_Train  Precision_Test  Precision_Train  Recall_Test  \\\n",
       "Logistic_Regr.        0.908333        0.966667         0.893443     0.966667   \n",
       "Knn_model.            1.000000        0.838710         1.000000     0.866667   \n",
       "cart_model.           1.000000        0.966667         1.000000     0.966667   \n",
       "\n",
       "                Recall_Train  \n",
       "Logistic_Regr.      0.923729  \n",
       "Knn_model.          1.000000  \n",
       "cart_model.         1.000000  "
      ]
     },
     "execution_count": 47,
     "metadata": {},
     "output_type": "execute_result"
    }
   ],
   "source": [
    "metrics=metrics.append(create_model(X_scl,y,cart_model,tip='cart_model.'))\n",
    "metrics"
   ]
  },
  {
   "cell_type": "markdown",
   "metadata": {},
   "source": [
    "# Random Forest "
   ]
  },
  {
   "cell_type": "code",
   "execution_count": 48,
   "metadata": {},
   "outputs": [
    {
     "data": {
      "text/plain": [
       "RandomForestClassifier(n_estimators=25, random_state=2)"
      ]
     },
     "execution_count": 48,
     "metadata": {},
     "output_type": "execute_result"
    }
   ],
   "source": [
    "randomF_model = RandomForestClassifier(n_estimators=25, random_state=2)\n",
    "\n",
    "y = df['status']\n",
    "X = df.drop('status', axis=1)\n",
    "scaler=StandardScaler()\n",
    "X_scl=scaler.fit_transform(X)\n",
    "\n",
    "X_train, X_test, y_train, y_test =  train_test_split(X_scl,y, test_size=0.20, random_state=40, stratify = y)\n",
    "\n",
    "randomF_model.fit(X_train,y_train)"
   ]
  },
  {
   "cell_type": "code",
   "execution_count": 49,
   "metadata": {},
   "outputs": [
    {
     "name": "stdout",
     "output_type": "stream",
     "text": [
      "Random Forest Accuracy Score : 0.98\n"
     ]
    }
   ],
   "source": [
    "y_preds_rd = randomF_model.predict(X_test)\n",
    "print(\"Random Forest Accuracy Score : {:.2f}\".format(accuracy_score(y_test, y_preds_rd)))"
   ]
  },
  {
   "cell_type": "code",
   "execution_count": 50,
   "metadata": {},
   "outputs": [
    {
     "data": {
      "text/html": [
       "<div>\n",
       "<style scoped>\n",
       "    .dataframe tbody tr th:only-of-type {\n",
       "        vertical-align: middle;\n",
       "    }\n",
       "\n",
       "    .dataframe tbody tr th {\n",
       "        vertical-align: top;\n",
       "    }\n",
       "\n",
       "    .dataframe thead th {\n",
       "        text-align: right;\n",
       "    }\n",
       "</style>\n",
       "<table border=\"1\" class=\"dataframe\">\n",
       "  <thead>\n",
       "    <tr style=\"text-align: right;\">\n",
       "      <th></th>\n",
       "      <th>importance</th>\n",
       "    </tr>\n",
       "  </thead>\n",
       "  <tbody>\n",
       "    <tr>\n",
       "      <td>salary</td>\n",
       "      <td>0.349999</td>\n",
       "    </tr>\n",
       "    <tr>\n",
       "      <td>hsc_p</td>\n",
       "      <td>0.158588</td>\n",
       "    </tr>\n",
       "    <tr>\n",
       "      <td>ssc_p</td>\n",
       "      <td>0.145174</td>\n",
       "    </tr>\n",
       "    <tr>\n",
       "      <td>degree_p</td>\n",
       "      <td>0.082758</td>\n",
       "    </tr>\n",
       "    <tr>\n",
       "      <td>etest_p</td>\n",
       "      <td>0.068617</td>\n",
       "    </tr>\n",
       "    <tr>\n",
       "      <td>specialisation</td>\n",
       "      <td>0.050556</td>\n",
       "    </tr>\n",
       "    <tr>\n",
       "      <td>mba_p</td>\n",
       "      <td>0.041039</td>\n",
       "    </tr>\n",
       "    <tr>\n",
       "      <td>sl_no</td>\n",
       "      <td>0.039420</td>\n",
       "    </tr>\n",
       "    <tr>\n",
       "      <td>workex</td>\n",
       "      <td>0.023893</td>\n",
       "    </tr>\n",
       "    <tr>\n",
       "      <td>degree_t</td>\n",
       "      <td>0.012000</td>\n",
       "    </tr>\n",
       "    <tr>\n",
       "      <td>hsc_b</td>\n",
       "      <td>0.011007</td>\n",
       "    </tr>\n",
       "    <tr>\n",
       "      <td>ssc_b</td>\n",
       "      <td>0.008091</td>\n",
       "    </tr>\n",
       "    <tr>\n",
       "      <td>gender</td>\n",
       "      <td>0.006363</td>\n",
       "    </tr>\n",
       "    <tr>\n",
       "      <td>hsc_s</td>\n",
       "      <td>0.002495</td>\n",
       "    </tr>\n",
       "  </tbody>\n",
       "</table>\n",
       "</div>"
      ],
      "text/plain": [
       "                importance\n",
       "salary            0.349999\n",
       "hsc_p             0.158588\n",
       "ssc_p             0.145174\n",
       "degree_p          0.082758\n",
       "etest_p           0.068617\n",
       "specialisation    0.050556\n",
       "mba_p             0.041039\n",
       "sl_no             0.039420\n",
       "workex            0.023893\n",
       "degree_t          0.012000\n",
       "hsc_b             0.011007\n",
       "ssc_b             0.008091\n",
       "gender            0.006363\n",
       "hsc_s             0.002495"
      ]
     },
     "execution_count": 50,
     "metadata": {},
     "output_type": "execute_result"
    }
   ],
   "source": [
    "feature_importances = pd.DataFrame(randomF_model.feature_importances_,index = X.columns,columns=['importance']).sort_values('importance',ascending=False)\n",
    "feature_importances"
   ]
  },
  {
   "cell_type": "code",
   "execution_count": 51,
   "metadata": {},
   "outputs": [
    {
     "data": {
      "image/png": "[encoded data removed]",
      "text/plain": [
       "<Figure size 1440x720 with 1 Axes>"
      ]
     },
     "metadata": {
      "needs_background": "light"
     },
     "output_type": "display_data"
    }
   ],
   "source": [
    "plt.figure(figsize=(20,10))\n",
    "importance_level = pd.Series(data=randomF_model.feature_importances_,\n",
    "                        index= X.columns)\n",
    "\n",
    "importance_level_sorted = importance_level.sort_values()\n",
    "\n",
    "importance_level_sorted.plot(kind='barh', color='darkblue')\n",
    "plt.title('Importance Level of the Features')\n",
    "plt.show()"
   ]
  },
  {
   "cell_type": "markdown",
   "metadata": {},
   "source": [
    "# Model Tuning"
   ]
  },
  {
   "cell_type": "code",
   "execution_count": 113,
   "metadata": {},
   "outputs": [
    {
     "data": {
      "text/plain": [
       "GridSearchCV(cv=10,\n",
       "             estimator=RandomForestClassifier(n_estimators=25, random_state=2),\n",
       "             param_grid={'max_depth': [2, 3, 5, 8, 10],\n",
       "                         'max_features': [5, 8, 10, 12, 14],\n",
       "                         'min_samples_split': [2, 5, 10],\n",
       "                         'n_estimators': [10, 500, 1000]})"
      ]
     },
     "execution_count": 113,
     "metadata": {},
     "output_type": "execute_result"
    }
   ],
   "source": [
    "rf_params = {'max_depth': [2,3,5,8,10],\n",
    "            \"max_features\":[5,8,10,12,14],\n",
    "            \"n_estimators\":[10,500,1000],\n",
    "            \"min_samples_split\":[2,5,10]}\n",
    "\n",
    "rf_cv_model= GridSearchCV(randomF_model, rf_params , cv=10)\n",
    "\n",
    "rf_cv_model.fit(X_train,y_train)"
   ]
  },
  {
   "cell_type": "code",
   "execution_count": 115,
   "metadata": {},
   "outputs": [
    {
     "name": "stdout",
     "output_type": "stream",
     "text": [
      "The best paramters :{'max_depth': 8, 'max_features': 5, 'min_samples_split': 2, 'n_estimators': 500}\n"
     ]
    }
   ],
   "source": [
    "print(\"The best paramters :\"+str(rf_cv_model.best_params_))"
   ]
  },
  {
   "cell_type": "markdown",
   "metadata": {},
   "source": [
    "# Random Forest Model Tuning Results"
   ]
  },
  {
   "cell_type": "code",
   "execution_count": 53,
   "metadata": {},
   "outputs": [],
   "source": [
    "randomF_model = RandomForestClassifier(n_estimators=500, random_state=2,max_depth=8 , max_features=5 ,min_samples_split=2  )"
   ]
  },
  {
   "cell_type": "code",
   "execution_count": 54,
   "metadata": {},
   "outputs": [
    {
     "data": {
      "text/html": [
       "<div>\n",
       "<style scoped>\n",
       "    .dataframe tbody tr th:only-of-type {\n",
       "        vertical-align: middle;\n",
       "    }\n",
       "\n",
       "    .dataframe tbody tr th {\n",
       "        vertical-align: top;\n",
       "    }\n",
       "\n",
       "    .dataframe thead th {\n",
       "        text-align: right;\n",
       "    }\n",
       "</style>\n",
       "<table border=\"1\" class=\"dataframe\">\n",
       "  <thead>\n",
       "    <tr style=\"text-align: right;\">\n",
       "      <th></th>\n",
       "      <th>AUC Score</th>\n",
       "      <th>Accuracy_Test</th>\n",
       "      <th>Accuracy_Train</th>\n",
       "      <th>F1 Score_Test</th>\n",
       "      <th>F1 Score_Train</th>\n",
       "      <th>Precision_Test</th>\n",
       "      <th>Precision_Train</th>\n",
       "      <th>Recall_Test</th>\n",
       "      <th>Recall_Train</th>\n",
       "    </tr>\n",
       "  </thead>\n",
       "  <tbody>\n",
       "    <tr>\n",
       "      <td>Logistic_Regr.</td>\n",
       "      <td>0.974359</td>\n",
       "      <td>0.953488</td>\n",
       "      <td>0.872093</td>\n",
       "      <td>0.966667</td>\n",
       "      <td>0.908333</td>\n",
       "      <td>0.966667</td>\n",
       "      <td>0.893443</td>\n",
       "      <td>0.966667</td>\n",
       "      <td>0.923729</td>\n",
       "    </tr>\n",
       "    <tr>\n",
       "      <td>Knn_model.</td>\n",
       "      <td>0.741026</td>\n",
       "      <td>0.790698</td>\n",
       "      <td>1.000000</td>\n",
       "      <td>0.852459</td>\n",
       "      <td>1.000000</td>\n",
       "      <td>0.838710</td>\n",
       "      <td>1.000000</td>\n",
       "      <td>0.866667</td>\n",
       "      <td>1.000000</td>\n",
       "    </tr>\n",
       "    <tr>\n",
       "      <td>cart_model.</td>\n",
       "      <td>0.944872</td>\n",
       "      <td>0.953488</td>\n",
       "      <td>1.000000</td>\n",
       "      <td>0.966667</td>\n",
       "      <td>1.000000</td>\n",
       "      <td>0.966667</td>\n",
       "      <td>1.000000</td>\n",
       "      <td>0.966667</td>\n",
       "      <td>1.000000</td>\n",
       "    </tr>\n",
       "    <tr>\n",
       "      <td>Random_Forest_Model</td>\n",
       "      <td>1.000000</td>\n",
       "      <td>1.000000</td>\n",
       "      <td>1.000000</td>\n",
       "      <td>1.000000</td>\n",
       "      <td>1.000000</td>\n",
       "      <td>1.000000</td>\n",
       "      <td>1.000000</td>\n",
       "      <td>1.000000</td>\n",
       "      <td>1.000000</td>\n",
       "    </tr>\n",
       "  </tbody>\n",
       "</table>\n",
       "</div>"
      ],
      "text/plain": [
       "                     AUC Score  Accuracy_Test  Accuracy_Train  F1 Score_Test  \\\n",
       "Logistic_Regr.        0.974359       0.953488        0.872093       0.966667   \n",
       "Knn_model.            0.741026       0.790698        1.000000       0.852459   \n",
       "cart_model.           0.944872       0.953488        1.000000       0.966667   \n",
       "Random_Forest_Model   1.000000       1.000000        1.000000       1.000000   \n",
       "\n",
       "                     F1 Score_Train  Precision_Test  Precision_Train  \\\n",
       "Logistic_Regr.             0.908333        0.966667         0.893443   \n",
       "Knn_model.                 1.000000        0.838710         1.000000   \n",
       "cart_model.                1.000000        0.966667         1.000000   \n",
       "Random_Forest_Model        1.000000        1.000000         1.000000   \n",
       "\n",
       "                     Recall_Test  Recall_Train  \n",
       "Logistic_Regr.          0.966667      0.923729  \n",
       "Knn_model.              0.866667      1.000000  \n",
       "cart_model.             0.966667      1.000000  \n",
       "Random_Forest_Model     1.000000      1.000000  "
      ]
     },
     "execution_count": 54,
     "metadata": {},
     "output_type": "execute_result"
    }
   ],
   "source": [
    "metrics=metrics.append(create_model(X_scl,y,randomF_model,tip='Random_Forest_Model'))\n",
    "metrics"
   ]
  },
  {
   "cell_type": "markdown",
   "metadata": {},
   "source": [
    "# SVM Model"
   ]
  },
  {
   "cell_type": "code",
   "execution_count": 55,
   "metadata": {},
   "outputs": [
    {
     "data": {
      "text/plain": [
       "SVC(kernel='linear')"
      ]
     },
     "execution_count": 55,
     "metadata": {},
     "output_type": "execute_result"
    }
   ],
   "source": [
    "svm_model = SVC(kernel=\"linear\")\n",
    "\n",
    "y = df['status']\n",
    "X = df.drop('status', axis=1)\n",
    "\n",
    "scaler=StandardScaler()\n",
    "X_scl=scaler.fit_transform(X)\n",
    "\n",
    "X_train, X_test, y_train, y_test =  train_test_split(X_scl,y, test_size=0.20, random_state=40, stratify = y)\n",
    "\n",
    "svm_model.fit(X_train,y_train)"
   ]
  },
  {
   "cell_type": "code",
   "execution_count": 56,
   "metadata": {},
   "outputs": [],
   "source": [
    "test_preds=svm_model.predict(X_test)\n",
    "train_preds=svm_model.predict(X_train)"
   ]
  },
  {
   "cell_type": "markdown",
   "metadata": {},
   "source": [
    "# Test Score "
   ]
  },
  {
   "cell_type": "code",
   "execution_count": 57,
   "metadata": {},
   "outputs": [
    {
     "name": "stdout",
     "output_type": "stream",
     "text": [
      "Precision Score: 0.9285714285714286\n",
      "Recall Score   : 0.8666666666666667\n",
      "Accuracy Score : 0.8604651162790697\n",
      "F1 Score       : 0.896551724137931\n",
      "AUC Score      : 0.9833333333333334\n"
     ]
    }
   ],
   "source": [
    "metric(y_test,test_preds)"
   ]
  },
  {
   "cell_type": "markdown",
   "metadata": {},
   "source": [
    "#  Train Score"
   ]
  },
  {
   "cell_type": "code",
   "execution_count": 58,
   "metadata": {},
   "outputs": [
    {
     "name": "stdout",
     "output_type": "stream",
     "text": [
      "Precision Score: 0.9098360655737705\n",
      "Recall Score   : 0.940677966101695\n",
      "Accuracy Score : 0.8953488372093024\n",
      "F1 Score       : 0.925\n",
      "AUC Score      : 0.9833333333333334\n"
     ]
    }
   ],
   "source": [
    "metric(y_train,train_preds)"
   ]
  },
  {
   "cell_type": "markdown",
   "metadata": {},
   "source": [
    "# Model Tuning"
   ]
  },
  {
   "cell_type": "code",
   "execution_count": 129,
   "metadata": {},
   "outputs": [
    {
     "name": "stdout",
     "output_type": "stream",
     "text": [
      "Fitting 10 folds for each of 9 candidates, totalling 90 fits\n"
     ]
    },
    {
     "name": "stderr",
     "output_type": "stream",
     "text": [
      "[Parallel(n_jobs=-1)]: Using backend LokyBackend with 8 concurrent workers.\n",
      "[Parallel(n_jobs=-1)]: Done  25 tasks      | elapsed:    2.0s\n",
      "[Parallel(n_jobs=-1)]: Done  90 out of  90 | elapsed:    2.2s finished\n"
     ]
    },
    {
     "data": {
      "text/plain": [
       "GridSearchCV(cv=10, estimator=SVC(kernel='linear'), n_jobs=-1,\n",
       "             param_grid={'C': array([1, 2, 3, 4, 5, 6, 7, 8, 9])}, verbose=2)"
      ]
     },
     "execution_count": 129,
     "metadata": {},
     "output_type": "execute_result"
    }
   ],
   "source": [
    "svm_params = {'C': np.arange(1,10)}\n",
    "\n",
    "svc=SVC(kernel='linear')\n",
    "\n",
    "svc_cv_model = GridSearchCV(svc , svm_params, cv = 10 , n_jobs= -1 , verbose=2) # n_jobs = means using all processors, verbose = Controls the verbosity: the higher, the more messages\n",
    "svc_cv_model.fit(X_train, y_train)"
   ]
  },
  {
   "cell_type": "code",
   "execution_count": 131,
   "metadata": {},
   "outputs": [
    {
     "name": "stdout",
     "output_type": "stream",
     "text": [
      "Thw best params : {'C': 1}\n"
     ]
    }
   ],
   "source": [
    "print(\"Thw best params : \"+str(svc_cv_model.best_params_))"
   ]
  },
  {
   "cell_type": "markdown",
   "metadata": {},
   "source": [
    "# SVC('Linear') Model Tuning Results"
   ]
  },
  {
   "cell_type": "code",
   "execution_count": 59,
   "metadata": {},
   "outputs": [],
   "source": [
    "svc_model = SVC(kernel=\"linear\", C=1)\n",
    "\n",
    "def create_model_2(X,y,model,tip):\n",
    "    X_train, X_test, y_train, y_test =  train_test_split(X, y, test_size=0.20, random_state=111, stratify = y)\n",
    "    model = SVC(kernel=\"linear\", C=1)\n",
    "    model.fit(X_train, y_train)\n",
    "    \n",
    "    prediction_train=model.predict(X_train)\n",
    "    prediction_test=model.predict(X_test)\n",
    "    \n",
    "\n",
    "    d = pd.Series({'Accuracy_Train':accuracy_score(y_train,prediction_train),\n",
    "                   'Precision_Train':precision_score(y_train,prediction_train),\n",
    "                   'Recall_Train':recall_score(y_train,prediction_train),\n",
    "                   'F1 Score_Train':f1_score(y_train,prediction_train),\n",
    "                   'Accuracy_Test':accuracy_score(y_test,prediction_test),\n",
    "                   'Precision_Test':precision_score(y_test,prediction_test),\n",
    "                   'Recall_Test':recall_score(y_test,prediction_test),\n",
    "                   'F1 Score_Test':f1_score(y_test,prediction_test),\n",
    "                   'AUC Score':roc_auc_score(y_test, prediction_test)},name=tip)\n",
    "    return d"
   ]
  },
  {
   "cell_type": "code",
   "execution_count": 60,
   "metadata": {},
   "outputs": [
    {
     "data": {
      "text/html": [
       "<div>\n",
       "<style scoped>\n",
       "    .dataframe tbody tr th:only-of-type {\n",
       "        vertical-align: middle;\n",
       "    }\n",
       "\n",
       "    .dataframe tbody tr th {\n",
       "        vertical-align: top;\n",
       "    }\n",
       "\n",
       "    .dataframe thead th {\n",
       "        text-align: right;\n",
       "    }\n",
       "</style>\n",
       "<table border=\"1\" class=\"dataframe\">\n",
       "  <thead>\n",
       "    <tr style=\"text-align: right;\">\n",
       "      <th></th>\n",
       "      <th>AUC Score</th>\n",
       "      <th>Accuracy_Test</th>\n",
       "      <th>Accuracy_Train</th>\n",
       "      <th>F1 Score_Test</th>\n",
       "      <th>F1 Score_Train</th>\n",
       "      <th>Precision_Test</th>\n",
       "      <th>Precision_Train</th>\n",
       "      <th>Recall_Test</th>\n",
       "      <th>Recall_Train</th>\n",
       "    </tr>\n",
       "  </thead>\n",
       "  <tbody>\n",
       "    <tr>\n",
       "      <td>Logistic_Regr.</td>\n",
       "      <td>0.974359</td>\n",
       "      <td>0.953488</td>\n",
       "      <td>0.872093</td>\n",
       "      <td>0.966667</td>\n",
       "      <td>0.908333</td>\n",
       "      <td>0.966667</td>\n",
       "      <td>0.893443</td>\n",
       "      <td>0.966667</td>\n",
       "      <td>0.923729</td>\n",
       "    </tr>\n",
       "    <tr>\n",
       "      <td>Knn_model.</td>\n",
       "      <td>0.741026</td>\n",
       "      <td>0.790698</td>\n",
       "      <td>1.000000</td>\n",
       "      <td>0.852459</td>\n",
       "      <td>1.000000</td>\n",
       "      <td>0.838710</td>\n",
       "      <td>1.000000</td>\n",
       "      <td>0.866667</td>\n",
       "      <td>1.000000</td>\n",
       "    </tr>\n",
       "    <tr>\n",
       "      <td>cart_model.</td>\n",
       "      <td>0.944872</td>\n",
       "      <td>0.953488</td>\n",
       "      <td>1.000000</td>\n",
       "      <td>0.966667</td>\n",
       "      <td>1.000000</td>\n",
       "      <td>0.966667</td>\n",
       "      <td>1.000000</td>\n",
       "      <td>0.966667</td>\n",
       "      <td>1.000000</td>\n",
       "    </tr>\n",
       "    <tr>\n",
       "      <td>Random_Forest_Model</td>\n",
       "      <td>1.000000</td>\n",
       "      <td>1.000000</td>\n",
       "      <td>1.000000</td>\n",
       "      <td>1.000000</td>\n",
       "      <td>1.000000</td>\n",
       "      <td>1.000000</td>\n",
       "      <td>1.000000</td>\n",
       "      <td>1.000000</td>\n",
       "      <td>1.000000</td>\n",
       "    </tr>\n",
       "    <tr>\n",
       "      <td>SVC_model</td>\n",
       "      <td>0.906410</td>\n",
       "      <td>0.930233</td>\n",
       "      <td>0.889535</td>\n",
       "      <td>0.950820</td>\n",
       "      <td>0.919831</td>\n",
       "      <td>0.935484</td>\n",
       "      <td>0.915966</td>\n",
       "      <td>0.966667</td>\n",
       "      <td>0.923729</td>\n",
       "    </tr>\n",
       "  </tbody>\n",
       "</table>\n",
       "</div>"
      ],
      "text/plain": [
       "                     AUC Score  Accuracy_Test  Accuracy_Train  F1 Score_Test  \\\n",
       "Logistic_Regr.        0.974359       0.953488        0.872093       0.966667   \n",
       "Knn_model.            0.741026       0.790698        1.000000       0.852459   \n",
       "cart_model.           0.944872       0.953488        1.000000       0.966667   \n",
       "Random_Forest_Model   1.000000       1.000000        1.000000       1.000000   \n",
       "SVC_model             0.906410       0.930233        0.889535       0.950820   \n",
       "\n",
       "                     F1 Score_Train  Precision_Test  Precision_Train  \\\n",
       "Logistic_Regr.             0.908333        0.966667         0.893443   \n",
       "Knn_model.                 1.000000        0.838710         1.000000   \n",
       "cart_model.                1.000000        0.966667         1.000000   \n",
       "Random_Forest_Model        1.000000        1.000000         1.000000   \n",
       "SVC_model                  0.919831        0.935484         0.915966   \n",
       "\n",
       "                     Recall_Test  Recall_Train  \n",
       "Logistic_Regr.          0.966667      0.923729  \n",
       "Knn_model.              0.866667      1.000000  \n",
       "cart_model.             0.966667      1.000000  \n",
       "Random_Forest_Model     1.000000      1.000000  \n",
       "SVC_model               0.966667      0.923729  "
      ]
     },
     "execution_count": 60,
     "metadata": {},
     "output_type": "execute_result"
    }
   ],
   "source": [
    "metrics=metrics.append(create_model_2(X_scl,y,svc_model,tip='SVC_model'))\n",
    "metrics"
   ]
  },
  {
   "cell_type": "markdown",
   "metadata": {},
   "source": [
    "# SVC('RBF')"
   ]
  },
  {
   "cell_type": "code",
   "execution_count": 61,
   "metadata": {},
   "outputs": [
    {
     "data": {
      "text/plain": [
       "SVC()"
      ]
     },
     "execution_count": 61,
     "metadata": {},
     "output_type": "execute_result"
    }
   ],
   "source": [
    "svm_model = SVC(kernel=\"rbf\")\n",
    "\n",
    "y = df['status']\n",
    "X = df.drop('status', axis=1)\n",
    "\n",
    "scaler=StandardScaler()\n",
    "X_scl=scaler.fit_transform(X)\n",
    "\n",
    "X_train, X_test, y_train, y_test =  train_test_split(X_scl,y, test_size=0.20, random_state=40, stratify = y)\n",
    "\n",
    "svm_model.fit(X_train,y_train)"
   ]
  },
  {
   "cell_type": "code",
   "execution_count": 62,
   "metadata": {},
   "outputs": [],
   "source": [
    "test_preds=svm_model.predict(X_test)\n",
    "train_preds=svm_model.predict(X_train)"
   ]
  },
  {
   "cell_type": "code",
   "execution_count": 63,
   "metadata": {},
   "outputs": [
    {
     "name": "stdout",
     "output_type": "stream",
     "text": [
      "Precision Score: 0.9310344827586207\n",
      "Recall Score   : 0.9\n",
      "Accuracy Score : 0.8837209302325582\n",
      "F1 Score       : 0.9152542372881356\n",
      "AUC Score      : 0.9833333333333334\n"
     ]
    }
   ],
   "source": [
    "metric(y_test,test_preds) #test score"
   ]
  },
  {
   "cell_type": "code",
   "execution_count": 64,
   "metadata": {},
   "outputs": [
    {
     "name": "stdout",
     "output_type": "stream",
     "text": [
      "Precision Score: 0.9354838709677419\n",
      "Recall Score   : 0.9830508474576272\n",
      "Accuracy Score : 0.9418604651162791\n",
      "F1 Score       : 0.9586776859504132\n",
      "AUC Score      : 0.9833333333333334\n"
     ]
    }
   ],
   "source": [
    "metric(y_train,train_preds) #train score"
   ]
  },
  {
   "cell_type": "markdown",
   "metadata": {},
   "source": [
    "# SVC('RBF) Model Tuning "
   ]
  },
  {
   "cell_type": "code",
   "execution_count": 157,
   "metadata": {},
   "outputs": [
    {
     "name": "stdout",
     "output_type": "stream",
     "text": [
      "Fitting 10 folds for each of 9 candidates, totalling 90 fits\n"
     ]
    },
    {
     "name": "stderr",
     "output_type": "stream",
     "text": [
      "[Parallel(n_jobs=-1)]: Using backend LokyBackend with 8 concurrent workers.\n",
      "[Parallel(n_jobs=-1)]: Done  25 tasks      | elapsed:    2.0s\n",
      "[Parallel(n_jobs=-1)]: Done  90 out of  90 | elapsed:    2.1s finished\n"
     ]
    },
    {
     "data": {
      "text/plain": [
       "GridSearchCV(cv=10, estimator=SVC(), n_jobs=-1,\n",
       "             param_grid={'C': array([1, 2, 3, 4, 5, 6, 7, 8, 9])}, verbose=2)"
      ]
     },
     "execution_count": 157,
     "metadata": {},
     "output_type": "execute_result"
    }
   ],
   "source": [
    "svm_params = {'C': np.arange(1,10)}\n",
    "\n",
    "svc=SVC(kernel='rbf')\n",
    "\n",
    "svc_cv_model = GridSearchCV(svc , svm_params, cv = 10 , n_jobs= -1 , verbose=2) # n_jobs = bütün işlemciler fll performans,, verbose = çıktıları göstermek için kullannığımız argüman\n",
    "svc_cv_model.fit(X_train, y_train)"
   ]
  },
  {
   "cell_type": "code",
   "execution_count": 158,
   "metadata": {},
   "outputs": [
    {
     "name": "stdout",
     "output_type": "stream",
     "text": [
      "Thw best params : {'C': 2}\n"
     ]
    }
   ],
   "source": [
    "print(\"Thw best params : \"+str(svc_cv_model.best_params_))"
   ]
  },
  {
   "cell_type": "markdown",
   "metadata": {},
   "source": [
    "# SVC('RBF) Model Tuning Results"
   ]
  },
  {
   "cell_type": "code",
   "execution_count": 65,
   "metadata": {},
   "outputs": [
    {
     "data": {
      "text/html": [
       "<div>\n",
       "<style scoped>\n",
       "    .dataframe tbody tr th:only-of-type {\n",
       "        vertical-align: middle;\n",
       "    }\n",
       "\n",
       "    .dataframe tbody tr th {\n",
       "        vertical-align: top;\n",
       "    }\n",
       "\n",
       "    .dataframe thead th {\n",
       "        text-align: right;\n",
       "    }\n",
       "</style>\n",
       "<table border=\"1\" class=\"dataframe\">\n",
       "  <thead>\n",
       "    <tr style=\"text-align: right;\">\n",
       "      <th></th>\n",
       "      <th>AUC Score</th>\n",
       "      <th>Accuracy_Test</th>\n",
       "      <th>Accuracy_Train</th>\n",
       "      <th>F1 Score_Test</th>\n",
       "      <th>F1 Score_Train</th>\n",
       "      <th>Precision_Test</th>\n",
       "      <th>Precision_Train</th>\n",
       "      <th>Recall_Test</th>\n",
       "      <th>Recall_Train</th>\n",
       "    </tr>\n",
       "  </thead>\n",
       "  <tbody>\n",
       "    <tr>\n",
       "      <td>Logistic_Regr.</td>\n",
       "      <td>0.974359</td>\n",
       "      <td>0.953488</td>\n",
       "      <td>0.872093</td>\n",
       "      <td>0.966667</td>\n",
       "      <td>0.908333</td>\n",
       "      <td>0.966667</td>\n",
       "      <td>0.893443</td>\n",
       "      <td>0.966667</td>\n",
       "      <td>0.923729</td>\n",
       "    </tr>\n",
       "    <tr>\n",
       "      <td>Knn_model.</td>\n",
       "      <td>0.741026</td>\n",
       "      <td>0.790698</td>\n",
       "      <td>1.000000</td>\n",
       "      <td>0.852459</td>\n",
       "      <td>1.000000</td>\n",
       "      <td>0.838710</td>\n",
       "      <td>1.000000</td>\n",
       "      <td>0.866667</td>\n",
       "      <td>1.000000</td>\n",
       "    </tr>\n",
       "    <tr>\n",
       "      <td>cart_model.</td>\n",
       "      <td>0.944872</td>\n",
       "      <td>0.953488</td>\n",
       "      <td>1.000000</td>\n",
       "      <td>0.966667</td>\n",
       "      <td>1.000000</td>\n",
       "      <td>0.966667</td>\n",
       "      <td>1.000000</td>\n",
       "      <td>0.966667</td>\n",
       "      <td>1.000000</td>\n",
       "    </tr>\n",
       "    <tr>\n",
       "      <td>Random_Forest_Model</td>\n",
       "      <td>1.000000</td>\n",
       "      <td>1.000000</td>\n",
       "      <td>1.000000</td>\n",
       "      <td>1.000000</td>\n",
       "      <td>1.000000</td>\n",
       "      <td>1.000000</td>\n",
       "      <td>1.000000</td>\n",
       "      <td>1.000000</td>\n",
       "      <td>1.000000</td>\n",
       "    </tr>\n",
       "    <tr>\n",
       "      <td>SVC_model</td>\n",
       "      <td>0.906410</td>\n",
       "      <td>0.930233</td>\n",
       "      <td>0.889535</td>\n",
       "      <td>0.950820</td>\n",
       "      <td>0.919831</td>\n",
       "      <td>0.935484</td>\n",
       "      <td>0.915966</td>\n",
       "      <td>0.966667</td>\n",
       "      <td>0.923729</td>\n",
       "    </tr>\n",
       "    <tr>\n",
       "      <td>SVC_rbf_model</td>\n",
       "      <td>0.906410</td>\n",
       "      <td>0.930233</td>\n",
       "      <td>0.889535</td>\n",
       "      <td>0.950820</td>\n",
       "      <td>0.919831</td>\n",
       "      <td>0.935484</td>\n",
       "      <td>0.915966</td>\n",
       "      <td>0.966667</td>\n",
       "      <td>0.923729</td>\n",
       "    </tr>\n",
       "  </tbody>\n",
       "</table>\n",
       "</div>"
      ],
      "text/plain": [
       "                     AUC Score  Accuracy_Test  Accuracy_Train  F1 Score_Test  \\\n",
       "Logistic_Regr.        0.974359       0.953488        0.872093       0.966667   \n",
       "Knn_model.            0.741026       0.790698        1.000000       0.852459   \n",
       "cart_model.           0.944872       0.953488        1.000000       0.966667   \n",
       "Random_Forest_Model   1.000000       1.000000        1.000000       1.000000   \n",
       "SVC_model             0.906410       0.930233        0.889535       0.950820   \n",
       "SVC_rbf_model         0.906410       0.930233        0.889535       0.950820   \n",
       "\n",
       "                     F1 Score_Train  Precision_Test  Precision_Train  \\\n",
       "Logistic_Regr.             0.908333        0.966667         0.893443   \n",
       "Knn_model.                 1.000000        0.838710         1.000000   \n",
       "cart_model.                1.000000        0.966667         1.000000   \n",
       "Random_Forest_Model        1.000000        1.000000         1.000000   \n",
       "SVC_model                  0.919831        0.935484         0.915966   \n",
       "SVC_rbf_model              0.919831        0.935484         0.915966   \n",
       "\n",
       "                     Recall_Test  Recall_Train  \n",
       "Logistic_Regr.          0.966667      0.923729  \n",
       "Knn_model.              0.866667      1.000000  \n",
       "cart_model.             0.966667      1.000000  \n",
       "Random_Forest_Model     1.000000      1.000000  \n",
       "SVC_model               0.966667      0.923729  \n",
       "SVC_rbf_model           0.966667      0.923729  "
      ]
     },
     "execution_count": 65,
     "metadata": {},
     "output_type": "execute_result"
    }
   ],
   "source": [
    "svm_model = SVC(kernel=\"rbf\", C=2)\n",
    "\n",
    "metrics=metrics.append(create_model_2(X_scl,y,svm_model,tip='SVC_rbf_model'))\n",
    "metrics"
   ]
  },
  {
   "cell_type": "markdown",
   "metadata": {},
   "source": [
    "# XGBoost "
   ]
  },
  {
   "cell_type": "code",
   "execution_count": 72,
   "metadata": {},
   "outputs": [
    {
     "name": "stdout",
     "output_type": "stream",
     "text": [
      "Requirement already satisfied: xgboost in c:\\programdata\\anaconda3\\lib\\site-packages (1.1.1)\n",
      "Requirement already satisfied: scipy in c:\\programdata\\anaconda3\\lib\\site-packages (from xgboost) (1.3.1)\n",
      "Requirement already satisfied: numpy in c:\\programdata\\anaconda3\\lib\\site-packages (from xgboost) (1.16.5)\n"
     ]
    }
   ],
   "source": [
    "!pip install xgboost \n",
    "conda install -c conda-forge xgboost\n",
    "conda install -c conda-forge/label/cf202003 xgboost\n",
    "conda install -c conda-forge xgboost=0.6a2"
   ]
  },
  {
   "cell_type": "code",
   "execution_count": 68,
   "metadata": {},
   "outputs": [
    {
     "data": {
      "text/plain": [
       "XGBClassifier()"
      ]
     },
     "execution_count": 68,
     "metadata": {},
     "output_type": "execute_result"
    }
   ],
   "source": [
    "y = df['status']\n",
    "X = df.drop('status', axis=1)\n",
    "\n",
    "scaler=StandardScaler()\n",
    "X_scl=scaler.fit_transform(X)\n",
    "\n",
    "X_train, X_test, y_train, y_test =  train_test_split(X_scl,y, test_size=0.20, random_state=40, stratify = y)\n",
    "\n",
    "xgb_model = XGBClassifier(base_score=0.5)# Be carefull. IF you update. Base_score=None and will give you error.  \n",
    "xgb_model.fit(X_train,y_train)"
   ]
  },
  {
   "cell_type": "code",
   "execution_count": 69,
   "metadata": {},
   "outputs": [],
   "source": [
    "test_preds=xgb_model.predict(X_test)\n",
    "train_preds=xgb_model.predict(X_train)"
   ]
  },
  {
   "cell_type": "code",
   "execution_count": 70,
   "metadata": {},
   "outputs": [
    {
     "name": "stdout",
     "output_type": "stream",
     "text": [
      "Precision Score: 1.0\n",
      "Recall Score   : 0.9666666666666667\n",
      "Accuracy Score : 0.9767441860465116\n",
      "F1 Score       : 0.983050847457627\n",
      "AUC Score      : 0.9833333333333334\n"
     ]
    }
   ],
   "source": [
    "metric(y_test,test_preds) #test score"
   ]
  },
  {
   "cell_type": "code",
   "execution_count": 71,
   "metadata": {},
   "outputs": [
    {
     "name": "stdout",
     "output_type": "stream",
     "text": [
      "Precision Score: 1.0\n",
      "Recall Score   : 1.0\n",
      "Accuracy Score : 1.0\n",
      "F1 Score       : 1.0\n",
      "AUC Score      : 0.9833333333333334\n"
     ]
    }
   ],
   "source": [
    "metric(y_train,train_preds) #train score"
   ]
  },
  {
   "cell_type": "markdown",
   "metadata": {},
   "source": [
    "# XGBoost Model Tuning"
   ]
  },
  {
   "cell_type": "code",
   "execution_count": null,
   "metadata": {},
   "outputs": [],
   "source": [
    "xgb_params = {'n_estimators':[100,500,1000,2000],\n",
    "             \"subsample\":[0.6, 0.8, 1.0],\n",
    "             \"max_depth\":[3,4,5,6],\n",
    "             \"learning_rate\":[0.1,0.01,0.02,0.05],\n",
    "             \"min_sample_split\":[2,5,10]}\n",
    "\n",
    "xgb = XGBClassifier(base_score=0.5)\n",
    "xgb_cv_model = GridSearchCV(xgb , xgb_params, cv = 10 , n_jobs= -1 , verbose=2) # n_jobs = bütün işlemciler fll performans,, verbose = çıktıları göstermek için kullannığımız argüman\n",
    "xgb_cv_model.fit(X_train, y_train)"
   ]
  },
  {
   "cell_type": "code",
   "execution_count": 71,
   "metadata": {},
   "outputs": [
    {
     "name": "stdout",
     "output_type": "stream",
     "text": [
      "Thw best params : {'learning_rate': 0.1, 'max_depth': 3, 'min_sample_split': 2, 'n_estimators': 100, 'subsample': 0.6}\n"
     ]
    }
   ],
   "source": [
    "print(\"Thw best params : \"+str(xgb_cv_model.best_params_))"
   ]
  },
  {
   "cell_type": "markdown",
   "metadata": {},
   "source": [
    "# XGBoost Model Tuning Results"
   ]
  },
  {
   "cell_type": "code",
   "execution_count": 72,
   "metadata": {},
   "outputs": [
    {
     "data": {
      "text/html": [
       "<div>\n",
       "<style scoped>\n",
       "    .dataframe tbody tr th:only-of-type {\n",
       "        vertical-align: middle;\n",
       "    }\n",
       "\n",
       "    .dataframe tbody tr th {\n",
       "        vertical-align: top;\n",
       "    }\n",
       "\n",
       "    .dataframe thead th {\n",
       "        text-align: right;\n",
       "    }\n",
       "</style>\n",
       "<table border=\"1\" class=\"dataframe\">\n",
       "  <thead>\n",
       "    <tr style=\"text-align: right;\">\n",
       "      <th></th>\n",
       "      <th>AUC Score</th>\n",
       "      <th>Accuracy_Test</th>\n",
       "      <th>Accuracy_Train</th>\n",
       "      <th>F1 Score_Test</th>\n",
       "      <th>F1 Score_Train</th>\n",
       "      <th>Precision_Test</th>\n",
       "      <th>Precision_Train</th>\n",
       "      <th>Recall_Test</th>\n",
       "      <th>Recall_Train</th>\n",
       "    </tr>\n",
       "  </thead>\n",
       "  <tbody>\n",
       "    <tr>\n",
       "      <td>Logistic_Regr.</td>\n",
       "      <td>0.974359</td>\n",
       "      <td>0.953488</td>\n",
       "      <td>0.872093</td>\n",
       "      <td>0.966667</td>\n",
       "      <td>0.908333</td>\n",
       "      <td>0.966667</td>\n",
       "      <td>0.893443</td>\n",
       "      <td>0.966667</td>\n",
       "      <td>0.923729</td>\n",
       "    </tr>\n",
       "    <tr>\n",
       "      <td>Knn_model.</td>\n",
       "      <td>0.741026</td>\n",
       "      <td>0.790698</td>\n",
       "      <td>1.000000</td>\n",
       "      <td>0.852459</td>\n",
       "      <td>1.000000</td>\n",
       "      <td>0.838710</td>\n",
       "      <td>1.000000</td>\n",
       "      <td>0.866667</td>\n",
       "      <td>1.000000</td>\n",
       "    </tr>\n",
       "    <tr>\n",
       "      <td>cart_model.</td>\n",
       "      <td>0.944872</td>\n",
       "      <td>0.953488</td>\n",
       "      <td>1.000000</td>\n",
       "      <td>0.966667</td>\n",
       "      <td>1.000000</td>\n",
       "      <td>0.966667</td>\n",
       "      <td>1.000000</td>\n",
       "      <td>0.966667</td>\n",
       "      <td>1.000000</td>\n",
       "    </tr>\n",
       "    <tr>\n",
       "      <td>Random_Forest_Model</td>\n",
       "      <td>1.000000</td>\n",
       "      <td>1.000000</td>\n",
       "      <td>1.000000</td>\n",
       "      <td>1.000000</td>\n",
       "      <td>1.000000</td>\n",
       "      <td>1.000000</td>\n",
       "      <td>1.000000</td>\n",
       "      <td>1.000000</td>\n",
       "      <td>1.000000</td>\n",
       "    </tr>\n",
       "    <tr>\n",
       "      <td>SVC_model</td>\n",
       "      <td>0.906410</td>\n",
       "      <td>0.930233</td>\n",
       "      <td>0.889535</td>\n",
       "      <td>0.950820</td>\n",
       "      <td>0.919831</td>\n",
       "      <td>0.935484</td>\n",
       "      <td>0.915966</td>\n",
       "      <td>0.966667</td>\n",
       "      <td>0.923729</td>\n",
       "    </tr>\n",
       "    <tr>\n",
       "      <td>SVC_rbf_model</td>\n",
       "      <td>0.906410</td>\n",
       "      <td>0.930233</td>\n",
       "      <td>0.889535</td>\n",
       "      <td>0.950820</td>\n",
       "      <td>0.919831</td>\n",
       "      <td>0.935484</td>\n",
       "      <td>0.915966</td>\n",
       "      <td>0.966667</td>\n",
       "      <td>0.923729</td>\n",
       "    </tr>\n",
       "    <tr>\n",
       "      <td>xgb_model</td>\n",
       "      <td>1.000000</td>\n",
       "      <td>0.976744</td>\n",
       "      <td>1.000000</td>\n",
       "      <td>0.983051</td>\n",
       "      <td>1.000000</td>\n",
       "      <td>1.000000</td>\n",
       "      <td>1.000000</td>\n",
       "      <td>0.966667</td>\n",
       "      <td>1.000000</td>\n",
       "    </tr>\n",
       "  </tbody>\n",
       "</table>\n",
       "</div>"
      ],
      "text/plain": [
       "                     AUC Score  Accuracy_Test  Accuracy_Train  F1 Score_Test  \\\n",
       "Logistic_Regr.        0.974359       0.953488        0.872093       0.966667   \n",
       "Knn_model.            0.741026       0.790698        1.000000       0.852459   \n",
       "cart_model.           0.944872       0.953488        1.000000       0.966667   \n",
       "Random_Forest_Model   1.000000       1.000000        1.000000       1.000000   \n",
       "SVC_model             0.906410       0.930233        0.889535       0.950820   \n",
       "SVC_rbf_model         0.906410       0.930233        0.889535       0.950820   \n",
       "xgb_model             1.000000       0.976744        1.000000       0.983051   \n",
       "\n",
       "                     F1 Score_Train  Precision_Test  Precision_Train  \\\n",
       "Logistic_Regr.             0.908333        0.966667         0.893443   \n",
       "Knn_model.                 1.000000        0.838710         1.000000   \n",
       "cart_model.                1.000000        0.966667         1.000000   \n",
       "Random_Forest_Model        1.000000        1.000000         1.000000   \n",
       "SVC_model                  0.919831        0.935484         0.915966   \n",
       "SVC_rbf_model              0.919831        0.935484         0.915966   \n",
       "xgb_model                  1.000000        1.000000         1.000000   \n",
       "\n",
       "                     Recall_Test  Recall_Train  \n",
       "Logistic_Regr.          0.966667      0.923729  \n",
       "Knn_model.              0.866667      1.000000  \n",
       "cart_model.             0.966667      1.000000  \n",
       "Random_Forest_Model     1.000000      1.000000  \n",
       "SVC_model               0.966667      0.923729  \n",
       "SVC_rbf_model           0.966667      0.923729  \n",
       "xgb_model               0.966667      1.000000  "
      ]
     },
     "execution_count": 72,
     "metadata": {},
     "output_type": "execute_result"
    }
   ],
   "source": [
    "xgb_model = XGBClassifier(base_score=0.5,learning_rate= 0.1 , max_depth=3,min_sample_split=2,  n_estimators=100, subsample=0.6)\n",
    "\n",
    "metrics=metrics.append(create_model(X_scl,y,xgb_model,tip='xgb_model'))\n",
    "metrics"
   ]
  },
  {
   "cell_type": "markdown",
   "metadata": {},
   "source": [
    "# Light GBM"
   ]
  },
  {
   "cell_type": "code",
   "execution_count": null,
   "metadata": {},
   "outputs": [],
   "source": [
    "#!conda install -c conda-forge lightgbm"
   ]
  },
  {
   "cell_type": "code",
   "execution_count": 73,
   "metadata": {},
   "outputs": [
    {
     "data": {
      "text/plain": [
       "LGBMClassifier()"
      ]
     },
     "execution_count": 73,
     "metadata": {},
     "output_type": "execute_result"
    }
   ],
   "source": [
    "y = df['status']\n",
    "X = df.drop('status', axis=1)\n",
    "\n",
    "scaler=StandardScaler()\n",
    "X_scl=scaler.fit_transform(X)\n",
    "\n",
    "X_train, X_test, y_train, y_test =  train_test_split(X_scl,y, test_size=0.20, random_state=40, stratify = y)\n",
    "\n",
    "lgbm_model = LGBMClassifier()\n",
    "lgbm_model.fit(X_train,y_train)"
   ]
  },
  {
   "cell_type": "code",
   "execution_count": 74,
   "metadata": {},
   "outputs": [],
   "source": [
    "test_preds=lgbm_model.predict(X_test)\n",
    "train_preds=lgbm_model.predict(X_train)"
   ]
  },
  {
   "cell_type": "code",
   "execution_count": 75,
   "metadata": {},
   "outputs": [
    {
     "name": "stdout",
     "output_type": "stream",
     "text": [
      "Precision Score: 1.0\n",
      "Recall Score   : 0.9666666666666667\n",
      "Accuracy Score : 0.9767441860465116\n",
      "F1 Score       : 0.983050847457627\n",
      "AUC Score      : 0.9833333333333334\n"
     ]
    }
   ],
   "source": [
    "metric(y_test,test_preds) #test score"
   ]
  },
  {
   "cell_type": "code",
   "execution_count": 76,
   "metadata": {},
   "outputs": [
    {
     "name": "stdout",
     "output_type": "stream",
     "text": [
      "Precision Score: 1.0\n",
      "Recall Score   : 1.0\n",
      "Accuracy Score : 1.0\n",
      "F1 Score       : 1.0\n",
      "AUC Score      : 0.9833333333333334\n"
     ]
    }
   ],
   "source": [
    "metric(y_train,train_preds) #train score"
   ]
  },
  {
   "cell_type": "markdown",
   "metadata": {},
   "source": [
    "# LGBM Model Tuning"
   ]
  },
  {
   "cell_type": "code",
   "execution_count": 74,
   "metadata": {},
   "outputs": [
    {
     "name": "stdout",
     "output_type": "stream",
     "text": [
      "Fitting 10 folds for each of 576 candidates, totalling 5760 fits\n"
     ]
    },
    {
     "name": "stderr",
     "output_type": "stream",
     "text": [
      "[Parallel(n_jobs=-1)]: Using backend LokyBackend with 8 concurrent workers.\n",
      "[Parallel(n_jobs=-1)]: Done  25 tasks      | elapsed:    2.1s\n",
      "[Parallel(n_jobs=-1)]: Done 246 tasks      | elapsed:    7.2s\n",
      "[Parallel(n_jobs=-1)]: Done 652 tasks      | elapsed:   15.8s\n",
      "[Parallel(n_jobs=-1)]: Done 1218 tasks      | elapsed:   28.9s\n",
      "[Parallel(n_jobs=-1)]: Done 1948 tasks      | elapsed:   50.8s\n",
      "[Parallel(n_jobs=-1)]: Done 2688 tasks      | elapsed:  1.3min\n",
      "[Parallel(n_jobs=-1)]: Done 3640 tasks      | elapsed:  1.8min\n",
      "[Parallel(n_jobs=-1)]: Done 4854 tasks      | elapsed:  2.3min\n",
      "[Parallel(n_jobs=-1)]: Done 5760 out of 5760 | elapsed:  2.7min finished\n"
     ]
    },
    {
     "data": {
      "text/plain": [
       "GridSearchCV(cv=10, estimator=LGBMClassifier(), n_jobs=-1,\n",
       "             param_grid={'learning_rate': [0.1, 0.01, 0.02, 0.05],\n",
       "                         'max_depth': [3, 4, 5, 6],\n",
       "                         'min_child_split': [5, 10, 20],\n",
       "                         'n_estimators': [100, 500, 1000, 2000],\n",
       "                         'subsample': [0.6, 0.8, 1.0]},\n",
       "             verbose=2)"
      ]
     },
     "execution_count": 74,
     "metadata": {},
     "output_type": "execute_result"
    }
   ],
   "source": [
    "lgbm_params = {'n_estimators':[100,500,1000,2000],\n",
    "             \"subsample\":[0.6, 0.8, 1.0],\n",
    "             \"max_depth\":[3,4,5,6],\n",
    "             \"learning_rate\":[0.1,0.01,0.02,0.05],\n",
    "             \"min_child_split\":[5,10,20]}\n",
    "\n",
    "lgbm_model = LGBMClassifier()\n",
    "lgbm_cv_model = GridSearchCV(lgbm_model , lgbm_params, cv = 10 , n_jobs= -1 , verbose=2)\n",
    "lgbm_cv_model.fit(X_train, y_train)"
   ]
  },
  {
   "cell_type": "code",
   "execution_count": 75,
   "metadata": {},
   "outputs": [
    {
     "name": "stdout",
     "output_type": "stream",
     "text": [
      "Thw best params : {'learning_rate': 0.1, 'max_depth': 3, 'min_child_split': 5, 'n_estimators': 100, 'subsample': 0.6}\n"
     ]
    }
   ],
   "source": [
    "print(\"Thw best params : \"+str(lgbm_cv_model.best_params_))"
   ]
  },
  {
   "cell_type": "markdown",
   "metadata": {},
   "source": [
    "# LGBM Model Tuning Results"
   ]
  },
  {
   "cell_type": "code",
   "execution_count": 77,
   "metadata": {},
   "outputs": [
    {
     "data": {
      "text/html": [
       "<div>\n",
       "<style scoped>\n",
       "    .dataframe tbody tr th:only-of-type {\n",
       "        vertical-align: middle;\n",
       "    }\n",
       "\n",
       "    .dataframe tbody tr th {\n",
       "        vertical-align: top;\n",
       "    }\n",
       "\n",
       "    .dataframe thead th {\n",
       "        text-align: right;\n",
       "    }\n",
       "</style>\n",
       "<table border=\"1\" class=\"dataframe\">\n",
       "  <thead>\n",
       "    <tr style=\"text-align: right;\">\n",
       "      <th></th>\n",
       "      <th>AUC Score</th>\n",
       "      <th>Accuracy_Test</th>\n",
       "      <th>Accuracy_Train</th>\n",
       "      <th>F1 Score_Test</th>\n",
       "      <th>F1 Score_Train</th>\n",
       "      <th>Precision_Test</th>\n",
       "      <th>Precision_Train</th>\n",
       "      <th>Recall_Test</th>\n",
       "      <th>Recall_Train</th>\n",
       "    </tr>\n",
       "  </thead>\n",
       "  <tbody>\n",
       "    <tr>\n",
       "      <td>Logistic_Regr.</td>\n",
       "      <td>0.974359</td>\n",
       "      <td>0.953488</td>\n",
       "      <td>0.872093</td>\n",
       "      <td>0.966667</td>\n",
       "      <td>0.908333</td>\n",
       "      <td>0.966667</td>\n",
       "      <td>0.893443</td>\n",
       "      <td>0.966667</td>\n",
       "      <td>0.923729</td>\n",
       "    </tr>\n",
       "    <tr>\n",
       "      <td>Knn_model.</td>\n",
       "      <td>0.741026</td>\n",
       "      <td>0.790698</td>\n",
       "      <td>1.000000</td>\n",
       "      <td>0.852459</td>\n",
       "      <td>1.000000</td>\n",
       "      <td>0.838710</td>\n",
       "      <td>1.000000</td>\n",
       "      <td>0.866667</td>\n",
       "      <td>1.000000</td>\n",
       "    </tr>\n",
       "    <tr>\n",
       "      <td>cart_model.</td>\n",
       "      <td>0.944872</td>\n",
       "      <td>0.953488</td>\n",
       "      <td>1.000000</td>\n",
       "      <td>0.966667</td>\n",
       "      <td>1.000000</td>\n",
       "      <td>0.966667</td>\n",
       "      <td>1.000000</td>\n",
       "      <td>0.966667</td>\n",
       "      <td>1.000000</td>\n",
       "    </tr>\n",
       "    <tr>\n",
       "      <td>Random_Forest_Model</td>\n",
       "      <td>1.000000</td>\n",
       "      <td>1.000000</td>\n",
       "      <td>1.000000</td>\n",
       "      <td>1.000000</td>\n",
       "      <td>1.000000</td>\n",
       "      <td>1.000000</td>\n",
       "      <td>1.000000</td>\n",
       "      <td>1.000000</td>\n",
       "      <td>1.000000</td>\n",
       "    </tr>\n",
       "    <tr>\n",
       "      <td>SVC_model</td>\n",
       "      <td>0.906410</td>\n",
       "      <td>0.930233</td>\n",
       "      <td>0.889535</td>\n",
       "      <td>0.950820</td>\n",
       "      <td>0.919831</td>\n",
       "      <td>0.935484</td>\n",
       "      <td>0.915966</td>\n",
       "      <td>0.966667</td>\n",
       "      <td>0.923729</td>\n",
       "    </tr>\n",
       "    <tr>\n",
       "      <td>SVC_rbf_model</td>\n",
       "      <td>0.906410</td>\n",
       "      <td>0.930233</td>\n",
       "      <td>0.889535</td>\n",
       "      <td>0.950820</td>\n",
       "      <td>0.919831</td>\n",
       "      <td>0.935484</td>\n",
       "      <td>0.915966</td>\n",
       "      <td>0.966667</td>\n",
       "      <td>0.923729</td>\n",
       "    </tr>\n",
       "    <tr>\n",
       "      <td>xgb_model</td>\n",
       "      <td>1.000000</td>\n",
       "      <td>0.976744</td>\n",
       "      <td>1.000000</td>\n",
       "      <td>0.983051</td>\n",
       "      <td>1.000000</td>\n",
       "      <td>1.000000</td>\n",
       "      <td>1.000000</td>\n",
       "      <td>0.966667</td>\n",
       "      <td>1.000000</td>\n",
       "    </tr>\n",
       "    <tr>\n",
       "      <td>lgbm_model</td>\n",
       "      <td>1.000000</td>\n",
       "      <td>0.976744</td>\n",
       "      <td>1.000000</td>\n",
       "      <td>0.983051</td>\n",
       "      <td>1.000000</td>\n",
       "      <td>1.000000</td>\n",
       "      <td>1.000000</td>\n",
       "      <td>0.966667</td>\n",
       "      <td>1.000000</td>\n",
       "    </tr>\n",
       "  </tbody>\n",
       "</table>\n",
       "</div>"
      ],
      "text/plain": [
       "                     AUC Score  Accuracy_Test  Accuracy_Train  F1 Score_Test  \\\n",
       "Logistic_Regr.        0.974359       0.953488        0.872093       0.966667   \n",
       "Knn_model.            0.741026       0.790698        1.000000       0.852459   \n",
       "cart_model.           0.944872       0.953488        1.000000       0.966667   \n",
       "Random_Forest_Model   1.000000       1.000000        1.000000       1.000000   \n",
       "SVC_model             0.906410       0.930233        0.889535       0.950820   \n",
       "SVC_rbf_model         0.906410       0.930233        0.889535       0.950820   \n",
       "xgb_model             1.000000       0.976744        1.000000       0.983051   \n",
       "lgbm_model            1.000000       0.976744        1.000000       0.983051   \n",
       "\n",
       "                     F1 Score_Train  Precision_Test  Precision_Train  \\\n",
       "Logistic_Regr.             0.908333        0.966667         0.893443   \n",
       "Knn_model.                 1.000000        0.838710         1.000000   \n",
       "cart_model.                1.000000        0.966667         1.000000   \n",
       "Random_Forest_Model        1.000000        1.000000         1.000000   \n",
       "SVC_model                  0.919831        0.935484         0.915966   \n",
       "SVC_rbf_model              0.919831        0.935484         0.915966   \n",
       "xgb_model                  1.000000        1.000000         1.000000   \n",
       "lgbm_model                 1.000000        1.000000         1.000000   \n",
       "\n",
       "                     Recall_Test  Recall_Train  \n",
       "Logistic_Regr.          0.966667      0.923729  \n",
       "Knn_model.              0.866667      1.000000  \n",
       "cart_model.             0.966667      1.000000  \n",
       "Random_Forest_Model     1.000000      1.000000  \n",
       "SVC_model               0.966667      0.923729  \n",
       "SVC_rbf_model           0.966667      0.923729  \n",
       "xgb_model               0.966667      1.000000  \n",
       "lgbm_model              0.966667      1.000000  "
      ]
     },
     "execution_count": 77,
     "metadata": {},
     "output_type": "execute_result"
    }
   ],
   "source": [
    "lgbm_model = LGBMClassifier(learning_rate=0.1,max_depth=3 , min_child_split=5, n_estimators=100, subsample=0.6 )\n",
    "\n",
    "metrics=metrics.append(create_model(X_scl,y,lgbm_model,tip='lgbm_model'))\n",
    "metrics"
   ]
  },
  {
   "cell_type": "markdown",
   "metadata": {},
   "source": [
    "# CatBoost"
   ]
  },
  {
   "cell_type": "code",
   "execution_count": 79,
   "metadata": {
    "collapsed": true,
    "jupyter": {
     "outputs_hidden": true
    }
   },
   "outputs": [
    {
     "name": "stdout",
     "output_type": "stream",
     "text": [
      "Collecting catboost\n",
      "  Downloading https://files.pythonhosted.org/packages/24/d3/6336c9dece6d189c8055e13809e5b3799120c2e83776a85546790403f4f8/catboost-0.23.2-cp37-none-win_amd64.whl (63.6MB)\n",
      "Requirement already satisfied: scipy in c:\\programdata\\anaconda3\\lib\\site-packages (from catboost) (1.3.1)\n",
      "Requirement already satisfied: matplotlib in c:\\programdata\\anaconda3\\lib\\site-packages (from catboost) (3.1.1)\n",
      "Requirement already satisfied: graphviz in c:\\programdata\\anaconda3\\lib\\site-packages (from catboost) (0.14)\n",
      "Collecting plotly (from catboost)\n",
      "  Downloading https://files.pythonhosted.org/packages/27/99/9794bcd22fae2e12b689759d53fe26939a4d11b8b44b0b7056e035c64529/plotly-4.8.2-py2.py3-none-any.whl (11.5MB)\n",
      "Requirement already satisfied: numpy>=1.16.0 in c:\\programdata\\anaconda3\\lib\\site-packages (from catboost) (1.16.5)\n",
      "Requirement already satisfied: six in c:\\programdata\\anaconda3\\lib\\site-packages (from catboost) (1.12.0)\n",
      "Requirement already satisfied: pandas>=0.24.0 in c:\\programdata\\anaconda3\\lib\\site-packages (from catboost) (0.25.1)\n",
      "Requirement already satisfied: cycler>=0.10 in c:\\programdata\\anaconda3\\lib\\site-packages (from matplotlib->catboost) (0.10.0)\n",
      "Requirement already satisfied: kiwisolver>=1.0.1 in c:\\programdata\\anaconda3\\lib\\site-packages (from matplotlib->catboost) (1.1.0)\n",
      "Requirement already satisfied: pyparsing!=2.0.4,!=2.1.2,!=2.1.6,>=2.0.1 in c:\\programdata\\anaconda3\\lib\\site-packages (from matplotlib->catboost) (2.4.2)\n",
      "Requirement already satisfied: python-dateutil>=2.1 in c:\\programdata\\anaconda3\\lib\\site-packages (from matplotlib->catboost) (2.8.0)\n",
      "Collecting retrying>=1.3.3 (from plotly->catboost)\n",
      "  Downloading https://files.pythonhosted.org/packages/44/ef/beae4b4ef80902f22e3af073397f079c96969c69b2c7d52a57ea9ae61c9d/retrying-1.3.3.tar.gz\n",
      "Requirement already satisfied: pytz>=2017.2 in c:\\programdata\\anaconda3\\lib\\site-packages (from pandas>=0.24.0->catboost) (2019.3)\n",
      "Requirement already satisfied: setuptools in c:\\programdata\\anaconda3\\lib\\site-packages (from kiwisolver>=1.0.1->matplotlib->catboost) (41.4.0)\n",
      "Building wheels for collected packages: retrying\n",
      "  Building wheel for retrying (setup.py): started\n",
      "  Building wheel for retrying (setup.py): finished with status 'done'\n",
      "  Created wheel for retrying: filename=retrying-1.3.3-cp37-none-any.whl size=11435 sha256=5fbb51cb2db6c897854d6633cb9a958b931d4e79514eaf48f785f4493fed910e\n",
      "  Stored in directory: C:\\Users\\pc\\AppData\\Local\\pip\\Cache\\wheels\\d7\\a9\\33\\acc7b709e2a35caa7d4cae442f6fe6fbf2c43f80823d46460c\n",
      "Successfully built retrying\n",
      "Installing collected packages: retrying, plotly, catboost\n",
      "Successfully installed catboost-0.23.2 plotly-4.8.2 retrying-1.3.3\n"
     ]
    }
   ],
   "source": [
    "! pip install catboost"
   ]
  },
  {
   "cell_type": "code",
   "execution_count": 78,
   "metadata": {
    "collapsed": true,
    "jupyter": {
     "outputs_hidden": true
    }
   },
   "outputs": [
    {
     "name": "stdout",
     "output_type": "stream",
     "text": [
      "Learning rate set to 0.004859\n",
      "0:\tlearn: 0.6847562\ttotal: 55.8ms\tremaining: 55.8s\n",
      "1:\tlearn: 0.6795564\ttotal: 57.6ms\tremaining: 28.8s\n",
      "2:\tlearn: 0.6720458\ttotal: 59.2ms\tremaining: 19.7s\n",
      "3:\tlearn: 0.6670878\ttotal: 60.6ms\tremaining: 15.1s\n",
      "4:\tlearn: 0.6608022\ttotal: 62ms\tremaining: 12.3s\n",
      "5:\tlearn: 0.6565600\ttotal: 63.6ms\tremaining: 10.5s\n",
      "6:\tlearn: 0.6484244\ttotal: 65.1ms\tremaining: 9.23s\n",
      "7:\tlearn: 0.6416041\ttotal: 66.5ms\tremaining: 8.24s\n",
      "8:\tlearn: 0.6381824\ttotal: 67.9ms\tremaining: 7.47s\n",
      "9:\tlearn: 0.6322457\ttotal: 69.3ms\tremaining: 6.86s\n",
      "10:\tlearn: 0.6274200\ttotal: 70.7ms\tremaining: 6.36s\n",
      "11:\tlearn: 0.6197658\ttotal: 72.4ms\tremaining: 5.96s\n",
      "12:\tlearn: 0.6128253\ttotal: 74ms\tremaining: 5.62s\n",
      "13:\tlearn: 0.6067715\ttotal: 75.4ms\tremaining: 5.31s\n",
      "14:\tlearn: 0.5989101\ttotal: 76.9ms\tremaining: 5.05s\n",
      "15:\tlearn: 0.5917363\ttotal: 78.3ms\tremaining: 4.81s\n",
      "16:\tlearn: 0.5878726\ttotal: 79.7ms\tremaining: 4.61s\n",
      "17:\tlearn: 0.5805503\ttotal: 81ms\tremaining: 4.42s\n",
      "18:\tlearn: 0.5738925\ttotal: 82.4ms\tremaining: 4.25s\n",
      "19:\tlearn: 0.5675494\ttotal: 83.7ms\tremaining: 4.1s\n",
      "20:\tlearn: 0.5613938\ttotal: 85.1ms\tremaining: 3.97s\n",
      "21:\tlearn: 0.5579466\ttotal: 86.5ms\tremaining: 3.84s\n",
      "22:\tlearn: 0.5535226\ttotal: 87.8ms\tremaining: 3.73s\n",
      "23:\tlearn: 0.5463356\ttotal: 89.3ms\tremaining: 3.63s\n",
      "24:\tlearn: 0.5386629\ttotal: 90.3ms\tremaining: 3.52s\n",
      "25:\tlearn: 0.5321529\ttotal: 91.7ms\tremaining: 3.43s\n",
      "26:\tlearn: 0.5271329\ttotal: 93.3ms\tremaining: 3.36s\n",
      "27:\tlearn: 0.5235162\ttotal: 94.8ms\tremaining: 3.29s\n",
      "28:\tlearn: 0.5166585\ttotal: 96.2ms\tremaining: 3.22s\n",
      "29:\tlearn: 0.5111315\ttotal: 97.5ms\tremaining: 3.15s\n",
      "30:\tlearn: 0.5057322\ttotal: 98.8ms\tremaining: 3.09s\n",
      "31:\tlearn: 0.5021632\ttotal: 100ms\tremaining: 3.03s\n",
      "32:\tlearn: 0.4961136\ttotal: 102ms\tremaining: 2.98s\n",
      "33:\tlearn: 0.4900315\ttotal: 103ms\tremaining: 2.93s\n",
      "34:\tlearn: 0.4839448\ttotal: 105ms\tremaining: 2.88s\n",
      "35:\tlearn: 0.4819810\ttotal: 106ms\tremaining: 2.84s\n",
      "36:\tlearn: 0.4765395\ttotal: 108ms\tremaining: 2.8s\n",
      "37:\tlearn: 0.4716165\ttotal: 109ms\tremaining: 2.75s\n",
      "38:\tlearn: 0.4695418\ttotal: 110ms\tremaining: 2.71s\n",
      "39:\tlearn: 0.4645756\ttotal: 112ms\tremaining: 2.68s\n",
      "40:\tlearn: 0.4598901\ttotal: 113ms\tremaining: 2.64s\n",
      "41:\tlearn: 0.4545127\ttotal: 114ms\tremaining: 2.61s\n",
      "42:\tlearn: 0.4507288\ttotal: 116ms\tremaining: 2.57s\n",
      "43:\tlearn: 0.4487004\ttotal: 117ms\tremaining: 2.54s\n",
      "44:\tlearn: 0.4457905\ttotal: 118ms\tremaining: 2.51s\n",
      "45:\tlearn: 0.4436207\ttotal: 120ms\tremaining: 2.48s\n",
      "46:\tlearn: 0.4394288\ttotal: 121ms\tremaining: 2.46s\n",
      "47:\tlearn: 0.4349257\ttotal: 122ms\tremaining: 2.43s\n",
      "48:\tlearn: 0.4323599\ttotal: 124ms\tremaining: 2.4s\n",
      "49:\tlearn: 0.4281694\ttotal: 125ms\tremaining: 2.38s\n",
      "50:\tlearn: 0.4224288\ttotal: 127ms\tremaining: 2.35s\n",
      "51:\tlearn: 0.4200138\ttotal: 128ms\tremaining: 2.34s\n",
      "52:\tlearn: 0.4151815\ttotal: 130ms\tremaining: 2.31s\n",
      "53:\tlearn: 0.4098756\ttotal: 131ms\tremaining: 2.29s\n",
      "54:\tlearn: 0.4065613\ttotal: 133ms\tremaining: 2.28s\n",
      "55:\tlearn: 0.4022210\ttotal: 134ms\tremaining: 2.26s\n",
      "56:\tlearn: 0.3984718\ttotal: 135ms\tremaining: 2.23s\n",
      "57:\tlearn: 0.3942156\ttotal: 136ms\tremaining: 2.21s\n",
      "58:\tlearn: 0.3906472\ttotal: 138ms\tremaining: 2.2s\n",
      "59:\tlearn: 0.3866580\ttotal: 139ms\tremaining: 2.18s\n",
      "60:\tlearn: 0.3820754\ttotal: 141ms\tremaining: 2.17s\n",
      "61:\tlearn: 0.3787687\ttotal: 142ms\tremaining: 2.15s\n",
      "62:\tlearn: 0.3759356\ttotal: 144ms\tremaining: 2.14s\n",
      "63:\tlearn: 0.3719108\ttotal: 145ms\tremaining: 2.12s\n",
      "64:\tlearn: 0.3683213\ttotal: 146ms\tremaining: 2.1s\n",
      "65:\tlearn: 0.3661413\ttotal: 148ms\tremaining: 2.09s\n",
      "66:\tlearn: 0.3627168\ttotal: 149ms\tremaining: 2.07s\n",
      "67:\tlearn: 0.3585929\ttotal: 150ms\tremaining: 2.06s\n",
      "68:\tlearn: 0.3551811\ttotal: 152ms\tremaining: 2.05s\n",
      "69:\tlearn: 0.3509607\ttotal: 153ms\tremaining: 2.03s\n",
      "70:\tlearn: 0.3493400\ttotal: 154ms\tremaining: 2.02s\n",
      "71:\tlearn: 0.3479132\ttotal: 156ms\tremaining: 2.01s\n",
      "72:\tlearn: 0.3443197\ttotal: 157ms\tremaining: 1.99s\n",
      "73:\tlearn: 0.3418380\ttotal: 158ms\tremaining: 1.98s\n",
      "74:\tlearn: 0.3400614\ttotal: 160ms\tremaining: 1.97s\n",
      "75:\tlearn: 0.3370801\ttotal: 161ms\tremaining: 1.96s\n",
      "76:\tlearn: 0.3342275\ttotal: 162ms\tremaining: 1.95s\n",
      "77:\tlearn: 0.3307020\ttotal: 164ms\tremaining: 1.94s\n",
      "78:\tlearn: 0.3274454\ttotal: 165ms\tremaining: 1.92s\n",
      "79:\tlearn: 0.3238293\ttotal: 166ms\tremaining: 1.91s\n",
      "80:\tlearn: 0.3222847\ttotal: 168ms\tremaining: 1.9s\n",
      "81:\tlearn: 0.3197270\ttotal: 169ms\tremaining: 1.89s\n",
      "82:\tlearn: 0.3163985\ttotal: 170ms\tremaining: 1.88s\n",
      "83:\tlearn: 0.3151155\ttotal: 171ms\tremaining: 1.87s\n",
      "84:\tlearn: 0.3130547\ttotal: 172ms\tremaining: 1.86s\n",
      "85:\tlearn: 0.3103371\ttotal: 174ms\tremaining: 1.85s\n",
      "86:\tlearn: 0.3066336\ttotal: 176ms\tremaining: 1.84s\n",
      "87:\tlearn: 0.3032111\ttotal: 177ms\tremaining: 1.83s\n",
      "88:\tlearn: 0.3004980\ttotal: 178ms\tremaining: 1.82s\n",
      "89:\tlearn: 0.2976352\ttotal: 180ms\tremaining: 1.82s\n",
      "90:\tlearn: 0.2961076\ttotal: 181ms\tremaining: 1.81s\n",
      "91:\tlearn: 0.2929376\ttotal: 183ms\tremaining: 1.8s\n",
      "92:\tlearn: 0.2900118\ttotal: 184ms\tremaining: 1.79s\n",
      "93:\tlearn: 0.2876180\ttotal: 185ms\tremaining: 1.79s\n",
      "94:\tlearn: 0.2855944\ttotal: 187ms\tremaining: 1.78s\n",
      "95:\tlearn: 0.2833320\ttotal: 188ms\tremaining: 1.77s\n",
      "96:\tlearn: 0.2813022\ttotal: 189ms\tremaining: 1.76s\n",
      "97:\tlearn: 0.2779349\ttotal: 191ms\tremaining: 1.75s\n",
      "98:\tlearn: 0.2757993\ttotal: 192ms\tremaining: 1.75s\n",
      "99:\tlearn: 0.2723605\ttotal: 193ms\tremaining: 1.73s\n",
      "100:\tlearn: 0.2695997\ttotal: 194ms\tremaining: 1.73s\n",
      "101:\tlearn: 0.2668882\ttotal: 195ms\tremaining: 1.72s\n",
      "102:\tlearn: 0.2646552\ttotal: 197ms\tremaining: 1.71s\n",
      "103:\tlearn: 0.2628153\ttotal: 198ms\tremaining: 1.71s\n",
      "104:\tlearn: 0.2602902\ttotal: 199ms\tremaining: 1.7s\n",
      "105:\tlearn: 0.2574585\ttotal: 201ms\tremaining: 1.69s\n",
      "106:\tlearn: 0.2548108\ttotal: 202ms\tremaining: 1.69s\n",
      "107:\tlearn: 0.2529591\ttotal: 203ms\tremaining: 1.68s\n",
      "108:\tlearn: 0.2508071\ttotal: 205ms\tremaining: 1.67s\n",
      "109:\tlearn: 0.2480589\ttotal: 206ms\tremaining: 1.67s\n",
      "110:\tlearn: 0.2455439\ttotal: 207ms\tremaining: 1.66s\n",
      "111:\tlearn: 0.2426522\ttotal: 208ms\tremaining: 1.65s\n",
      "112:\tlearn: 0.2405563\ttotal: 210ms\tremaining: 1.65s\n",
      "113:\tlearn: 0.2397058\ttotal: 212ms\tremaining: 1.64s\n",
      "114:\tlearn: 0.2373597\ttotal: 213ms\tremaining: 1.64s\n",
      "115:\tlearn: 0.2348775\ttotal: 214ms\tremaining: 1.63s\n",
      "116:\tlearn: 0.2327623\ttotal: 215ms\tremaining: 1.63s\n",
      "117:\tlearn: 0.2314505\ttotal: 217ms\tremaining: 1.62s\n",
      "118:\tlearn: 0.2288756\ttotal: 218ms\tremaining: 1.61s\n",
      "119:\tlearn: 0.2267808\ttotal: 220ms\tremaining: 1.61s\n",
      "120:\tlearn: 0.2245130\ttotal: 221ms\tremaining: 1.6s\n",
      "121:\tlearn: 0.2226633\ttotal: 222ms\tremaining: 1.6s\n",
      "122:\tlearn: 0.2216703\ttotal: 224ms\tremaining: 1.6s\n",
      "123:\tlearn: 0.2199465\ttotal: 225ms\tremaining: 1.59s\n",
      "124:\tlearn: 0.2178326\ttotal: 227ms\tremaining: 1.59s\n",
      "125:\tlearn: 0.2167381\ttotal: 228ms\tremaining: 1.58s\n",
      "126:\tlearn: 0.2148850\ttotal: 229ms\tremaining: 1.57s\n",
      "127:\tlearn: 0.2130886\ttotal: 231ms\tremaining: 1.57s\n",
      "128:\tlearn: 0.2116743\ttotal: 232ms\tremaining: 1.56s\n",
      "129:\tlearn: 0.2096347\ttotal: 233ms\tremaining: 1.56s\n",
      "130:\tlearn: 0.2076250\ttotal: 235ms\tremaining: 1.56s\n",
      "131:\tlearn: 0.2054657\ttotal: 236ms\tremaining: 1.55s\n",
      "132:\tlearn: 0.2035996\ttotal: 238ms\tremaining: 1.55s\n",
      "133:\tlearn: 0.2020457\ttotal: 239ms\tremaining: 1.54s\n",
      "134:\tlearn: 0.2001240\ttotal: 240ms\tremaining: 1.54s\n",
      "135:\tlearn: 0.1994561\ttotal: 242ms\tremaining: 1.53s\n",
      "136:\tlearn: 0.1976601\ttotal: 243ms\tremaining: 1.53s\n",
      "137:\tlearn: 0.1958176\ttotal: 244ms\tremaining: 1.53s\n",
      "138:\tlearn: 0.1943460\ttotal: 246ms\tremaining: 1.52s\n",
      "139:\tlearn: 0.1925837\ttotal: 252ms\tremaining: 1.55s\n",
      "140:\tlearn: 0.1906825\ttotal: 257ms\tremaining: 1.57s\n",
      "141:\tlearn: 0.1891458\ttotal: 258ms\tremaining: 1.56s\n",
      "142:\tlearn: 0.1875148\ttotal: 260ms\tremaining: 1.55s\n",
      "143:\tlearn: 0.1862955\ttotal: 261ms\tremaining: 1.55s\n",
      "144:\tlearn: 0.1849029\ttotal: 262ms\tremaining: 1.55s\n",
      "145:\tlearn: 0.1842312\ttotal: 264ms\tremaining: 1.54s\n",
      "146:\tlearn: 0.1824143\ttotal: 265ms\tremaining: 1.54s\n",
      "147:\tlearn: 0.1805774\ttotal: 267ms\tremaining: 1.54s\n",
      "148:\tlearn: 0.1791630\ttotal: 268ms\tremaining: 1.53s\n",
      "149:\tlearn: 0.1778884\ttotal: 269ms\tremaining: 1.53s\n",
      "150:\tlearn: 0.1765122\ttotal: 271ms\tremaining: 1.52s\n",
      "151:\tlearn: 0.1750729\ttotal: 272ms\tremaining: 1.52s\n",
      "152:\tlearn: 0.1733186\ttotal: 273ms\tremaining: 1.51s\n",
      "153:\tlearn: 0.1726347\ttotal: 275ms\tremaining: 1.51s\n",
      "154:\tlearn: 0.1718958\ttotal: 276ms\tremaining: 1.5s\n",
      "155:\tlearn: 0.1705833\ttotal: 277ms\tremaining: 1.5s\n",
      "156:\tlearn: 0.1695727\ttotal: 279ms\tremaining: 1.5s\n",
      "157:\tlearn: 0.1677609\ttotal: 281ms\tremaining: 1.5s\n",
      "158:\tlearn: 0.1669375\ttotal: 282ms\tremaining: 1.49s\n",
      "159:\tlearn: 0.1656414\ttotal: 284ms\tremaining: 1.49s\n",
      "160:\tlearn: 0.1640606\ttotal: 285ms\tremaining: 1.48s\n",
      "161:\tlearn: 0.1628697\ttotal: 286ms\tremaining: 1.48s\n",
      "162:\tlearn: 0.1616160\ttotal: 287ms\tremaining: 1.48s\n",
      "163:\tlearn: 0.1602517\ttotal: 289ms\tremaining: 1.47s\n",
      "164:\tlearn: 0.1597749\ttotal: 290ms\tremaining: 1.47s\n",
      "165:\tlearn: 0.1588695\ttotal: 291ms\tremaining: 1.46s\n",
      "166:\tlearn: 0.1573966\ttotal: 293ms\tremaining: 1.46s\n",
      "167:\tlearn: 0.1562588\ttotal: 294ms\tremaining: 1.46s\n",
      "168:\tlearn: 0.1551543\ttotal: 295ms\tremaining: 1.45s\n",
      "169:\tlearn: 0.1542624\ttotal: 297ms\tremaining: 1.45s\n",
      "170:\tlearn: 0.1529583\ttotal: 298ms\tremaining: 1.44s\n",
      "171:\tlearn: 0.1518843\ttotal: 300ms\tremaining: 1.44s\n",
      "172:\tlearn: 0.1506757\ttotal: 301ms\tremaining: 1.44s\n",
      "173:\tlearn: 0.1497071\ttotal: 302ms\tremaining: 1.43s\n",
      "174:\tlearn: 0.1487240\ttotal: 303ms\tremaining: 1.43s\n",
      "175:\tlearn: 0.1483563\ttotal: 305ms\tremaining: 1.43s\n",
      "176:\tlearn: 0.1471946\ttotal: 306ms\tremaining: 1.42s\n",
      "177:\tlearn: 0.1460736\ttotal: 307ms\tremaining: 1.42s\n",
      "178:\tlearn: 0.1448386\ttotal: 308ms\tremaining: 1.41s\n",
      "179:\tlearn: 0.1444025\ttotal: 309ms\tremaining: 1.41s\n",
      "180:\tlearn: 0.1439343\ttotal: 311ms\tremaining: 1.41s\n",
      "181:\tlearn: 0.1427884\ttotal: 312ms\tremaining: 1.4s\n",
      "182:\tlearn: 0.1419577\ttotal: 313ms\tremaining: 1.4s\n",
      "183:\tlearn: 0.1407603\ttotal: 314ms\tremaining: 1.39s\n",
      "184:\tlearn: 0.1399305\ttotal: 316ms\tremaining: 1.39s\n",
      "185:\tlearn: 0.1384389\ttotal: 317ms\tremaining: 1.39s\n",
      "186:\tlearn: 0.1373347\ttotal: 318ms\tremaining: 1.38s\n",
      "187:\tlearn: 0.1363969\ttotal: 319ms\tremaining: 1.38s\n",
      "188:\tlearn: 0.1353996\ttotal: 321ms\tremaining: 1.38s\n",
      "189:\tlearn: 0.1344239\ttotal: 322ms\tremaining: 1.37s\n",
      "190:\tlearn: 0.1330900\ttotal: 323ms\tremaining: 1.37s\n",
      "191:\tlearn: 0.1321828\ttotal: 325ms\tremaining: 1.36s\n",
      "192:\tlearn: 0.1312429\ttotal: 326ms\tremaining: 1.36s\n",
      "193:\tlearn: 0.1309037\ttotal: 327ms\tremaining: 1.36s\n",
      "194:\tlearn: 0.1299342\ttotal: 328ms\tremaining: 1.35s\n",
      "195:\tlearn: 0.1289893\ttotal: 330ms\tremaining: 1.35s\n",
      "196:\tlearn: 0.1281745\ttotal: 331ms\tremaining: 1.35s\n",
      "197:\tlearn: 0.1272708\ttotal: 332ms\tremaining: 1.34s\n",
      "198:\tlearn: 0.1263332\ttotal: 334ms\tremaining: 1.34s\n",
      "199:\tlearn: 0.1259374\ttotal: 335ms\tremaining: 1.34s\n",
      "200:\tlearn: 0.1250204\ttotal: 336ms\tremaining: 1.34s\n",
      "201:\tlearn: 0.1244070\ttotal: 338ms\tremaining: 1.33s\n",
      "202:\tlearn: 0.1236597\ttotal: 339ms\tremaining: 1.33s\n",
      "203:\tlearn: 0.1225303\ttotal: 340ms\tremaining: 1.33s\n",
      "204:\tlearn: 0.1215862\ttotal: 342ms\tremaining: 1.33s\n",
      "205:\tlearn: 0.1208410\ttotal: 343ms\tremaining: 1.32s\n",
      "206:\tlearn: 0.1198125\ttotal: 345ms\tremaining: 1.32s\n",
      "207:\tlearn: 0.1190143\ttotal: 347ms\tremaining: 1.32s\n",
      "208:\tlearn: 0.1182832\ttotal: 348ms\tremaining: 1.32s\n",
      "209:\tlearn: 0.1171632\ttotal: 349ms\tremaining: 1.31s\n",
      "210:\tlearn: 0.1166182\ttotal: 351ms\tremaining: 1.31s\n",
      "211:\tlearn: 0.1162431\ttotal: 352ms\tremaining: 1.31s\n",
      "212:\tlearn: 0.1155916\ttotal: 353ms\tremaining: 1.31s\n",
      "213:\tlearn: 0.1147822\ttotal: 355ms\tremaining: 1.3s\n",
      "214:\tlearn: 0.1140975\ttotal: 356ms\tremaining: 1.3s\n",
      "215:\tlearn: 0.1130721\ttotal: 357ms\tremaining: 1.3s\n",
      "216:\tlearn: 0.1121250\ttotal: 359ms\tremaining: 1.29s\n",
      "217:\tlearn: 0.1112743\ttotal: 360ms\tremaining: 1.29s\n",
      "218:\tlearn: 0.1104339\ttotal: 362ms\tremaining: 1.29s\n",
      "219:\tlearn: 0.1098543\ttotal: 363ms\tremaining: 1.29s\n",
      "220:\tlearn: 0.1091773\ttotal: 364ms\tremaining: 1.28s\n",
      "221:\tlearn: 0.1084966\ttotal: 365ms\tremaining: 1.28s\n",
      "222:\tlearn: 0.1081941\ttotal: 367ms\tremaining: 1.28s\n",
      "223:\tlearn: 0.1075927\ttotal: 368ms\tremaining: 1.27s\n",
      "224:\tlearn: 0.1065707\ttotal: 369ms\tremaining: 1.27s\n",
      "225:\tlearn: 0.1055731\ttotal: 371ms\tremaining: 1.27s\n",
      "226:\tlearn: 0.1048612\ttotal: 372ms\tremaining: 1.27s\n",
      "227:\tlearn: 0.1042235\ttotal: 373ms\tremaining: 1.26s\n",
      "228:\tlearn: 0.1035116\ttotal: 374ms\tremaining: 1.26s\n",
      "229:\tlearn: 0.1025062\ttotal: 376ms\tremaining: 1.26s\n",
      "230:\tlearn: 0.1016756\ttotal: 377ms\tremaining: 1.26s\n",
      "231:\tlearn: 0.1009819\ttotal: 379ms\tremaining: 1.25s\n",
      "232:\tlearn: 0.1002223\ttotal: 380ms\tremaining: 1.25s\n",
      "233:\tlearn: 0.0995863\ttotal: 382ms\tremaining: 1.25s\n",
      "234:\tlearn: 0.0992705\ttotal: 383ms\tremaining: 1.25s\n",
      "235:\tlearn: 0.0983207\ttotal: 384ms\tremaining: 1.24s\n",
      "236:\tlearn: 0.0978096\ttotal: 386ms\tremaining: 1.24s\n",
      "237:\tlearn: 0.0972913\ttotal: 387ms\tremaining: 1.24s\n",
      "238:\tlearn: 0.0968141\ttotal: 388ms\tremaining: 1.24s\n",
      "239:\tlearn: 0.0965305\ttotal: 389ms\tremaining: 1.23s\n",
      "240:\tlearn: 0.0960820\ttotal: 391ms\tremaining: 1.23s\n",
      "241:\tlearn: 0.0953812\ttotal: 392ms\tremaining: 1.23s\n",
      "242:\tlearn: 0.0948004\ttotal: 393ms\tremaining: 1.22s\n",
      "243:\tlearn: 0.0941108\ttotal: 394ms\tremaining: 1.22s\n",
      "244:\tlearn: 0.0934509\ttotal: 396ms\tremaining: 1.22s\n",
      "245:\tlearn: 0.0927449\ttotal: 397ms\tremaining: 1.22s\n",
      "246:\tlearn: 0.0922569\ttotal: 398ms\tremaining: 1.21s\n",
      "247:\tlearn: 0.0916860\ttotal: 400ms\tremaining: 1.21s\n",
      "248:\tlearn: 0.0911735\ttotal: 401ms\tremaining: 1.21s\n",
      "249:\tlearn: 0.0905462\ttotal: 402ms\tremaining: 1.21s\n",
      "250:\tlearn: 0.0899820\ttotal: 403ms\tremaining: 1.2s\n",
      "251:\tlearn: 0.0890632\ttotal: 405ms\tremaining: 1.2s\n",
      "252:\tlearn: 0.0884984\ttotal: 406ms\tremaining: 1.2s\n",
      "253:\tlearn: 0.0880416\ttotal: 407ms\tremaining: 1.2s\n",
      "254:\tlearn: 0.0875176\ttotal: 408ms\tremaining: 1.19s\n",
      "255:\tlearn: 0.0870228\ttotal: 410ms\tremaining: 1.19s\n",
      "256:\tlearn: 0.0864212\ttotal: 411ms\tremaining: 1.19s\n",
      "257:\tlearn: 0.0860603\ttotal: 412ms\tremaining: 1.19s\n",
      "258:\tlearn: 0.0855795\ttotal: 414ms\tremaining: 1.18s\n",
      "259:\tlearn: 0.0851920\ttotal: 415ms\tremaining: 1.18s\n",
      "260:\tlearn: 0.0847146\ttotal: 416ms\tremaining: 1.18s\n",
      "261:\tlearn: 0.0841476\ttotal: 418ms\tremaining: 1.18s\n",
      "262:\tlearn: 0.0835541\ttotal: 419ms\tremaining: 1.17s\n",
      "263:\tlearn: 0.0829888\ttotal: 420ms\tremaining: 1.17s\n",
      "264:\tlearn: 0.0824985\ttotal: 421ms\tremaining: 1.17s\n",
      "265:\tlearn: 0.0817176\ttotal: 423ms\tremaining: 1.17s\n",
      "266:\tlearn: 0.0812175\ttotal: 424ms\tremaining: 1.16s\n",
      "267:\tlearn: 0.0808454\ttotal: 425ms\tremaining: 1.16s\n",
      "268:\tlearn: 0.0803398\ttotal: 426ms\tremaining: 1.16s\n",
      "269:\tlearn: 0.0798398\ttotal: 428ms\tremaining: 1.16s\n",
      "270:\tlearn: 0.0796988\ttotal: 429ms\tremaining: 1.15s\n",
      "271:\tlearn: 0.0792753\ttotal: 431ms\tremaining: 1.15s\n",
      "272:\tlearn: 0.0788020\ttotal: 432ms\tremaining: 1.15s\n",
      "273:\tlearn: 0.0784715\ttotal: 433ms\tremaining: 1.15s\n",
      "274:\tlearn: 0.0779828\ttotal: 435ms\tremaining: 1.15s\n",
      "275:\tlearn: 0.0775552\ttotal: 436ms\tremaining: 1.14s\n",
      "276:\tlearn: 0.0771107\ttotal: 437ms\tremaining: 1.14s\n",
      "277:\tlearn: 0.0767188\ttotal: 438ms\tremaining: 1.14s\n",
      "278:\tlearn: 0.0762424\ttotal: 440ms\tremaining: 1.14s\n",
      "279:\tlearn: 0.0756786\ttotal: 441ms\tremaining: 1.13s\n",
      "280:\tlearn: 0.0751193\ttotal: 442ms\tremaining: 1.13s\n",
      "281:\tlearn: 0.0747260\ttotal: 444ms\tremaining: 1.13s\n",
      "282:\tlearn: 0.0742272\ttotal: 445ms\tremaining: 1.13s\n",
      "283:\tlearn: 0.0739072\ttotal: 446ms\tremaining: 1.13s\n",
      "284:\tlearn: 0.0735643\ttotal: 448ms\tremaining: 1.12s\n",
      "285:\tlearn: 0.0730191\ttotal: 449ms\tremaining: 1.12s\n",
      "286:\tlearn: 0.0728474\ttotal: 450ms\tremaining: 1.12s\n",
      "287:\tlearn: 0.0723548\ttotal: 452ms\tremaining: 1.12s\n",
      "288:\tlearn: 0.0722190\ttotal: 453ms\tremaining: 1.11s\n",
      "289:\tlearn: 0.0718117\ttotal: 454ms\tremaining: 1.11s\n",
      "290:\tlearn: 0.0713748\ttotal: 455ms\tremaining: 1.11s\n",
      "291:\tlearn: 0.0709702\ttotal: 457ms\tremaining: 1.11s\n",
      "292:\tlearn: 0.0705598\ttotal: 458ms\tremaining: 1.1s\n",
      "293:\tlearn: 0.0703659\ttotal: 459ms\tremaining: 1.1s\n",
      "294:\tlearn: 0.0699076\ttotal: 461ms\tremaining: 1.1s\n",
      "295:\tlearn: 0.0695155\ttotal: 462ms\tremaining: 1.1s\n",
      "296:\tlearn: 0.0690343\ttotal: 463ms\tremaining: 1.1s\n",
      "297:\tlearn: 0.0685798\ttotal: 465ms\tremaining: 1.09s\n",
      "298:\tlearn: 0.0683074\ttotal: 466ms\tremaining: 1.09s\n",
      "299:\tlearn: 0.0680085\ttotal: 467ms\tremaining: 1.09s\n",
      "300:\tlearn: 0.0675999\ttotal: 469ms\tremaining: 1.09s\n",
      "301:\tlearn: 0.0673070\ttotal: 470ms\tremaining: 1.08s\n",
      "302:\tlearn: 0.0668908\ttotal: 471ms\tremaining: 1.08s\n",
      "303:\tlearn: 0.0665120\ttotal: 473ms\tremaining: 1.08s\n",
      "304:\tlearn: 0.0660912\ttotal: 474ms\tremaining: 1.08s\n",
      "305:\tlearn: 0.0656792\ttotal: 475ms\tremaining: 1.08s\n",
      "306:\tlearn: 0.0653459\ttotal: 476ms\tremaining: 1.07s\n",
      "307:\tlearn: 0.0650646\ttotal: 478ms\tremaining: 1.07s\n",
      "308:\tlearn: 0.0647269\ttotal: 479ms\tremaining: 1.07s\n",
      "309:\tlearn: 0.0643988\ttotal: 480ms\tremaining: 1.07s\n",
      "310:\tlearn: 0.0640959\ttotal: 482ms\tremaining: 1.07s\n",
      "311:\tlearn: 0.0638176\ttotal: 483ms\tremaining: 1.06s\n",
      "312:\tlearn: 0.0634465\ttotal: 485ms\tremaining: 1.06s\n",
      "313:\tlearn: 0.0631479\ttotal: 486ms\tremaining: 1.06s\n",
      "314:\tlearn: 0.0627988\ttotal: 487ms\tremaining: 1.06s\n",
      "315:\tlearn: 0.0624107\ttotal: 488ms\tremaining: 1.06s\n",
      "316:\tlearn: 0.0620970\ttotal: 490ms\tremaining: 1.05s\n",
      "317:\tlearn: 0.0617719\ttotal: 491ms\tremaining: 1.05s\n",
      "318:\tlearn: 0.0615508\ttotal: 492ms\tremaining: 1.05s\n",
      "319:\tlearn: 0.0613032\ttotal: 493ms\tremaining: 1.05s\n",
      "320:\tlearn: 0.0609914\ttotal: 495ms\tremaining: 1.05s\n",
      "321:\tlearn: 0.0607888\ttotal: 496ms\tremaining: 1.04s\n",
      "322:\tlearn: 0.0606454\ttotal: 497ms\tremaining: 1.04s\n",
      "323:\tlearn: 0.0603834\ttotal: 499ms\tremaining: 1.04s\n",
      "324:\tlearn: 0.0600425\ttotal: 500ms\tremaining: 1.04s\n",
      "325:\tlearn: 0.0595970\ttotal: 502ms\tremaining: 1.04s\n",
      "326:\tlearn: 0.0593328\ttotal: 503ms\tremaining: 1.03s\n",
      "327:\tlearn: 0.0592151\ttotal: 504ms\tremaining: 1.03s\n",
      "328:\tlearn: 0.0590023\ttotal: 506ms\tremaining: 1.03s\n",
      "329:\tlearn: 0.0586417\ttotal: 507ms\tremaining: 1.03s\n",
      "330:\tlearn: 0.0584012\ttotal: 508ms\tremaining: 1.03s\n",
      "331:\tlearn: 0.0580724\ttotal: 510ms\tremaining: 1.02s\n",
      "332:\tlearn: 0.0578086\ttotal: 511ms\tremaining: 1.02s\n",
      "333:\tlearn: 0.0574241\ttotal: 512ms\tremaining: 1.02s\n",
      "334:\tlearn: 0.0570847\ttotal: 514ms\tremaining: 1.02s\n",
      "335:\tlearn: 0.0569661\ttotal: 515ms\tremaining: 1.02s\n",
      "336:\tlearn: 0.0567757\ttotal: 517ms\tremaining: 1.02s\n",
      "337:\tlearn: 0.0566669\ttotal: 518ms\tremaining: 1.01s\n",
      "338:\tlearn: 0.0563016\ttotal: 520ms\tremaining: 1.01s\n",
      "339:\tlearn: 0.0560505\ttotal: 521ms\tremaining: 1.01s\n",
      "340:\tlearn: 0.0556522\ttotal: 522ms\tremaining: 1.01s\n",
      "341:\tlearn: 0.0553710\ttotal: 524ms\tremaining: 1.01s\n",
      "342:\tlearn: 0.0552589\ttotal: 525ms\tremaining: 1s\n",
      "343:\tlearn: 0.0549149\ttotal: 526ms\tremaining: 1s\n",
      "344:\tlearn: 0.0546468\ttotal: 528ms\tremaining: 1s\n",
      "345:\tlearn: 0.0543357\ttotal: 529ms\tremaining: 1s\n",
      "346:\tlearn: 0.0540902\ttotal: 531ms\tremaining: 999ms\n",
      "347:\tlearn: 0.0537310\ttotal: 532ms\tremaining: 997ms\n",
      "348:\tlearn: 0.0535546\ttotal: 534ms\tremaining: 995ms\n",
      "349:\tlearn: 0.0532849\ttotal: 535ms\tremaining: 993ms\n",
      "350:\tlearn: 0.0531821\ttotal: 536ms\tremaining: 992ms\n",
      "351:\tlearn: 0.0528850\ttotal: 538ms\tremaining: 990ms\n",
      "352:\tlearn: 0.0526285\ttotal: 539ms\tremaining: 988ms\n",
      "353:\tlearn: 0.0523428\ttotal: 541ms\tremaining: 986ms\n",
      "354:\tlearn: 0.0520987\ttotal: 542ms\tremaining: 985ms\n",
      "355:\tlearn: 0.0517549\ttotal: 543ms\tremaining: 983ms\n",
      "356:\tlearn: 0.0516526\ttotal: 546ms\tremaining: 983ms\n",
      "357:\tlearn: 0.0515333\ttotal: 547ms\tremaining: 981ms\n",
      "358:\tlearn: 0.0513642\ttotal: 548ms\tremaining: 979ms\n",
      "359:\tlearn: 0.0511595\ttotal: 550ms\tremaining: 977ms\n",
      "360:\tlearn: 0.0509003\ttotal: 551ms\tremaining: 976ms\n",
      "361:\tlearn: 0.0506082\ttotal: 553ms\tremaining: 974ms\n",
      "362:\tlearn: 0.0503286\ttotal: 554ms\tremaining: 972ms\n",
      "363:\tlearn: 0.0501388\ttotal: 555ms\tremaining: 970ms\n",
      "364:\tlearn: 0.0499271\ttotal: 557ms\tremaining: 969ms\n",
      "365:\tlearn: 0.0496889\ttotal: 558ms\tremaining: 967ms\n",
      "366:\tlearn: 0.0495127\ttotal: 560ms\tremaining: 965ms\n",
      "367:\tlearn: 0.0492853\ttotal: 561ms\tremaining: 964ms\n",
      "368:\tlearn: 0.0490095\ttotal: 562ms\tremaining: 962ms\n",
      "369:\tlearn: 0.0487550\ttotal: 564ms\tremaining: 960ms\n",
      "370:\tlearn: 0.0484799\ttotal: 565ms\tremaining: 958ms\n",
      "371:\tlearn: 0.0481066\ttotal: 566ms\tremaining: 956ms\n",
      "372:\tlearn: 0.0479039\ttotal: 568ms\tremaining: 954ms\n",
      "373:\tlearn: 0.0476902\ttotal: 569ms\tremaining: 952ms\n",
      "374:\tlearn: 0.0473879\ttotal: 570ms\tremaining: 950ms\n",
      "375:\tlearn: 0.0470465\ttotal: 571ms\tremaining: 948ms\n",
      "376:\tlearn: 0.0467529\ttotal: 573ms\tremaining: 947ms\n",
      "377:\tlearn: 0.0464112\ttotal: 574ms\tremaining: 945ms\n",
      "378:\tlearn: 0.0461829\ttotal: 575ms\tremaining: 943ms\n",
      "379:\tlearn: 0.0459208\ttotal: 577ms\tremaining: 941ms\n",
      "380:\tlearn: 0.0457523\ttotal: 578ms\tremaining: 939ms\n",
      "381:\tlearn: 0.0455930\ttotal: 580ms\tremaining: 938ms\n",
      "382:\tlearn: 0.0453861\ttotal: 581ms\tremaining: 936ms\n",
      "383:\tlearn: 0.0451546\ttotal: 582ms\tremaining: 934ms\n",
      "384:\tlearn: 0.0450558\ttotal: 583ms\tremaining: 932ms\n",
      "385:\tlearn: 0.0448485\ttotal: 585ms\tremaining: 930ms\n",
      "386:\tlearn: 0.0447804\ttotal: 586ms\tremaining: 928ms\n",
      "387:\tlearn: 0.0446382\ttotal: 587ms\tremaining: 926ms\n",
      "388:\tlearn: 0.0445098\ttotal: 589ms\tremaining: 924ms\n",
      "389:\tlearn: 0.0443401\ttotal: 590ms\tremaining: 923ms\n",
      "390:\tlearn: 0.0440589\ttotal: 592ms\tremaining: 921ms\n",
      "391:\tlearn: 0.0438171\ttotal: 593ms\tremaining: 919ms\n",
      "392:\tlearn: 0.0436694\ttotal: 594ms\tremaining: 917ms\n",
      "393:\tlearn: 0.0434940\ttotal: 595ms\tremaining: 916ms\n",
      "394:\tlearn: 0.0433909\ttotal: 597ms\tremaining: 914ms\n",
      "395:\tlearn: 0.0432376\ttotal: 598ms\tremaining: 912ms\n",
      "396:\tlearn: 0.0430735\ttotal: 599ms\tremaining: 910ms\n",
      "397:\tlearn: 0.0430096\ttotal: 601ms\tremaining: 909ms\n",
      "398:\tlearn: 0.0428054\ttotal: 602ms\tremaining: 907ms\n",
      "399:\tlearn: 0.0426061\ttotal: 603ms\tremaining: 905ms\n",
      "400:\tlearn: 0.0423944\ttotal: 604ms\tremaining: 903ms\n",
      "401:\tlearn: 0.0421791\ttotal: 606ms\tremaining: 901ms\n",
      "402:\tlearn: 0.0420492\ttotal: 607ms\tremaining: 900ms\n",
      "403:\tlearn: 0.0417557\ttotal: 609ms\tremaining: 898ms\n",
      "404:\tlearn: 0.0416287\ttotal: 610ms\tremaining: 897ms\n",
      "405:\tlearn: 0.0414908\ttotal: 612ms\tremaining: 895ms\n",
      "406:\tlearn: 0.0413284\ttotal: 613ms\tremaining: 893ms\n",
      "407:\tlearn: 0.0411022\ttotal: 614ms\tremaining: 891ms\n",
      "408:\tlearn: 0.0409839\ttotal: 615ms\tremaining: 889ms\n",
      "409:\tlearn: 0.0407721\ttotal: 617ms\tremaining: 888ms\n",
      "410:\tlearn: 0.0406037\ttotal: 618ms\tremaining: 886ms\n",
      "411:\tlearn: 0.0404130\ttotal: 620ms\tremaining: 884ms\n",
      "412:\tlearn: 0.0402876\ttotal: 621ms\tremaining: 883ms\n",
      "413:\tlearn: 0.0401180\ttotal: 622ms\tremaining: 881ms\n",
      "414:\tlearn: 0.0399546\ttotal: 623ms\tremaining: 879ms\n",
      "415:\tlearn: 0.0397589\ttotal: 625ms\tremaining: 877ms\n",
      "416:\tlearn: 0.0396064\ttotal: 626ms\tremaining: 875ms\n",
      "417:\tlearn: 0.0394490\ttotal: 627ms\tremaining: 874ms\n",
      "418:\tlearn: 0.0392247\ttotal: 629ms\tremaining: 872ms\n",
      "419:\tlearn: 0.0390635\ttotal: 630ms\tremaining: 870ms\n",
      "420:\tlearn: 0.0389008\ttotal: 631ms\tremaining: 868ms\n",
      "421:\tlearn: 0.0386858\ttotal: 633ms\tremaining: 867ms\n",
      "422:\tlearn: 0.0384825\ttotal: 634ms\tremaining: 865ms\n",
      "423:\tlearn: 0.0383587\ttotal: 636ms\tremaining: 864ms\n",
      "424:\tlearn: 0.0381611\ttotal: 637ms\tremaining: 862ms\n",
      "425:\tlearn: 0.0379554\ttotal: 639ms\tremaining: 861ms\n",
      "426:\tlearn: 0.0377903\ttotal: 640ms\tremaining: 859ms\n",
      "427:\tlearn: 0.0376493\ttotal: 641ms\tremaining: 857ms\n",
      "428:\tlearn: 0.0375524\ttotal: 642ms\tremaining: 855ms\n",
      "429:\tlearn: 0.0374852\ttotal: 644ms\tremaining: 853ms\n",
      "430:\tlearn: 0.0373688\ttotal: 645ms\tremaining: 852ms\n",
      "431:\tlearn: 0.0372221\ttotal: 646ms\tremaining: 850ms\n",
      "432:\tlearn: 0.0371632\ttotal: 648ms\tremaining: 848ms\n",
      "433:\tlearn: 0.0370585\ttotal: 649ms\tremaining: 846ms\n",
      "434:\tlearn: 0.0369064\ttotal: 650ms\tremaining: 845ms\n",
      "435:\tlearn: 0.0367902\ttotal: 652ms\tremaining: 843ms\n",
      "436:\tlearn: 0.0367317\ttotal: 653ms\tremaining: 841ms\n",
      "437:\tlearn: 0.0366268\ttotal: 654ms\tremaining: 840ms\n",
      "438:\tlearn: 0.0364904\ttotal: 656ms\tremaining: 838ms\n",
      "439:\tlearn: 0.0364255\ttotal: 657ms\tremaining: 837ms\n",
      "440:\tlearn: 0.0362817\ttotal: 659ms\tremaining: 835ms\n",
      "441:\tlearn: 0.0361592\ttotal: 660ms\tremaining: 833ms\n",
      "442:\tlearn: 0.0360351\ttotal: 661ms\tremaining: 831ms\n",
      "443:\tlearn: 0.0359531\ttotal: 663ms\tremaining: 830ms\n",
      "444:\tlearn: 0.0358833\ttotal: 664ms\tremaining: 828ms\n",
      "445:\tlearn: 0.0358245\ttotal: 665ms\tremaining: 826ms\n",
      "446:\tlearn: 0.0357359\ttotal: 667ms\tremaining: 825ms\n",
      "447:\tlearn: 0.0356189\ttotal: 668ms\tremaining: 823ms\n",
      "448:\tlearn: 0.0353101\ttotal: 669ms\tremaining: 821ms\n",
      "449:\tlearn: 0.0352580\ttotal: 671ms\tremaining: 820ms\n",
      "450:\tlearn: 0.0350912\ttotal: 672ms\tremaining: 818ms\n",
      "451:\tlearn: 0.0349726\ttotal: 674ms\tremaining: 817ms\n",
      "452:\tlearn: 0.0348207\ttotal: 675ms\tremaining: 815ms\n",
      "453:\tlearn: 0.0346286\ttotal: 676ms\tremaining: 813ms\n",
      "454:\tlearn: 0.0344913\ttotal: 681ms\tremaining: 815ms\n",
      "455:\tlearn: 0.0343227\ttotal: 682ms\tremaining: 814ms\n",
      "456:\tlearn: 0.0342117\ttotal: 684ms\tremaining: 812ms\n",
      "457:\tlearn: 0.0341152\ttotal: 685ms\tremaining: 811ms\n",
      "458:\tlearn: 0.0340119\ttotal: 686ms\tremaining: 809ms\n",
      "459:\tlearn: 0.0338308\ttotal: 688ms\tremaining: 807ms\n",
      "460:\tlearn: 0.0337826\ttotal: 689ms\tremaining: 806ms\n",
      "461:\tlearn: 0.0337084\ttotal: 691ms\tremaining: 804ms\n",
      "462:\tlearn: 0.0336677\ttotal: 692ms\tremaining: 803ms\n",
      "463:\tlearn: 0.0336137\ttotal: 693ms\tremaining: 801ms\n",
      "464:\tlearn: 0.0335112\ttotal: 695ms\tremaining: 799ms\n",
      "465:\tlearn: 0.0334221\ttotal: 696ms\tremaining: 798ms\n",
      "466:\tlearn: 0.0332200\ttotal: 698ms\tremaining: 796ms\n",
      "467:\tlearn: 0.0331129\ttotal: 699ms\tremaining: 795ms\n",
      "468:\tlearn: 0.0330026\ttotal: 700ms\tremaining: 793ms\n",
      "469:\tlearn: 0.0328501\ttotal: 702ms\tremaining: 792ms\n",
      "470:\tlearn: 0.0327152\ttotal: 703ms\tremaining: 790ms\n",
      "471:\tlearn: 0.0326276\ttotal: 705ms\tremaining: 788ms\n",
      "472:\tlearn: 0.0325076\ttotal: 706ms\tremaining: 787ms\n",
      "473:\tlearn: 0.0323677\ttotal: 707ms\tremaining: 785ms\n",
      "474:\tlearn: 0.0323035\ttotal: 709ms\tremaining: 783ms\n",
      "475:\tlearn: 0.0321946\ttotal: 710ms\tremaining: 782ms\n",
      "476:\tlearn: 0.0320615\ttotal: 712ms\tremaining: 780ms\n",
      "477:\tlearn: 0.0319670\ttotal: 713ms\tremaining: 779ms\n",
      "478:\tlearn: 0.0318453\ttotal: 714ms\tremaining: 777ms\n",
      "479:\tlearn: 0.0316340\ttotal: 716ms\tremaining: 775ms\n",
      "480:\tlearn: 0.0315888\ttotal: 717ms\tremaining: 774ms\n",
      "481:\tlearn: 0.0315027\ttotal: 719ms\tremaining: 772ms\n",
      "482:\tlearn: 0.0313992\ttotal: 720ms\tremaining: 771ms\n",
      "483:\tlearn: 0.0312726\ttotal: 721ms\tremaining: 769ms\n",
      "484:\tlearn: 0.0312183\ttotal: 723ms\tremaining: 768ms\n",
      "485:\tlearn: 0.0311356\ttotal: 724ms\tremaining: 766ms\n",
      "486:\tlearn: 0.0310641\ttotal: 725ms\tremaining: 764ms\n",
      "487:\tlearn: 0.0309377\ttotal: 727ms\tremaining: 763ms\n",
      "488:\tlearn: 0.0307768\ttotal: 728ms\tremaining: 761ms\n",
      "489:\tlearn: 0.0306592\ttotal: 730ms\tremaining: 759ms\n",
      "490:\tlearn: 0.0305740\ttotal: 731ms\tremaining: 758ms\n",
      "491:\tlearn: 0.0304762\ttotal: 732ms\tremaining: 756ms\n",
      "492:\tlearn: 0.0303727\ttotal: 734ms\tremaining: 755ms\n",
      "493:\tlearn: 0.0302325\ttotal: 736ms\tremaining: 754ms\n",
      "494:\tlearn: 0.0301086\ttotal: 737ms\tremaining: 752ms\n",
      "495:\tlearn: 0.0300094\ttotal: 739ms\tremaining: 751ms\n",
      "496:\tlearn: 0.0299016\ttotal: 740ms\tremaining: 749ms\n",
      "497:\tlearn: 0.0298117\ttotal: 741ms\tremaining: 747ms\n",
      "498:\tlearn: 0.0296926\ttotal: 743ms\tremaining: 746ms\n",
      "499:\tlearn: 0.0295598\ttotal: 744ms\tremaining: 744ms\n",
      "500:\tlearn: 0.0294571\ttotal: 746ms\tremaining: 743ms\n",
      "501:\tlearn: 0.0293175\ttotal: 747ms\tremaining: 741ms\n",
      "502:\tlearn: 0.0292123\ttotal: 748ms\tremaining: 739ms\n",
      "503:\tlearn: 0.0291061\ttotal: 750ms\tremaining: 738ms\n",
      "504:\tlearn: 0.0290148\ttotal: 751ms\tremaining: 736ms\n",
      "505:\tlearn: 0.0288389\ttotal: 753ms\tremaining: 735ms\n",
      "506:\tlearn: 0.0287398\ttotal: 754ms\tremaining: 733ms\n",
      "507:\tlearn: 0.0286469\ttotal: 756ms\tremaining: 732ms\n",
      "508:\tlearn: 0.0285530\ttotal: 757ms\tremaining: 730ms\n",
      "509:\tlearn: 0.0284920\ttotal: 758ms\tremaining: 728ms\n",
      "510:\tlearn: 0.0284465\ttotal: 760ms\tremaining: 727ms\n",
      "511:\tlearn: 0.0283661\ttotal: 761ms\tremaining: 726ms\n",
      "512:\tlearn: 0.0282742\ttotal: 763ms\tremaining: 724ms\n",
      "513:\tlearn: 0.0281913\ttotal: 764ms\tremaining: 723ms\n",
      "514:\tlearn: 0.0281148\ttotal: 766ms\tremaining: 721ms\n",
      "515:\tlearn: 0.0280025\ttotal: 767ms\tremaining: 720ms\n",
      "516:\tlearn: 0.0279128\ttotal: 769ms\tremaining: 718ms\n",
      "517:\tlearn: 0.0277994\ttotal: 770ms\tremaining: 716ms\n",
      "518:\tlearn: 0.0277006\ttotal: 771ms\tremaining: 715ms\n",
      "519:\tlearn: 0.0276300\ttotal: 772ms\tremaining: 713ms\n",
      "520:\tlearn: 0.0275644\ttotal: 773ms\tremaining: 711ms\n",
      "521:\tlearn: 0.0274820\ttotal: 775ms\tremaining: 709ms\n",
      "522:\tlearn: 0.0274163\ttotal: 776ms\tremaining: 708ms\n",
      "523:\tlearn: 0.0273243\ttotal: 777ms\tremaining: 706ms\n",
      "524:\tlearn: 0.0271922\ttotal: 779ms\tremaining: 704ms\n",
      "525:\tlearn: 0.0270947\ttotal: 780ms\tremaining: 703ms\n",
      "526:\tlearn: 0.0270011\ttotal: 781ms\tremaining: 701ms\n",
      "527:\tlearn: 0.0269049\ttotal: 782ms\tremaining: 699ms\n",
      "528:\tlearn: 0.0268253\ttotal: 784ms\tremaining: 698ms\n",
      "529:\tlearn: 0.0266757\ttotal: 785ms\tremaining: 696ms\n",
      "530:\tlearn: 0.0266014\ttotal: 786ms\tremaining: 694ms\n",
      "531:\tlearn: 0.0264912\ttotal: 787ms\tremaining: 693ms\n",
      "532:\tlearn: 0.0264174\ttotal: 789ms\tremaining: 691ms\n",
      "533:\tlearn: 0.0263428\ttotal: 790ms\tremaining: 689ms\n",
      "534:\tlearn: 0.0261773\ttotal: 791ms\tremaining: 688ms\n",
      "535:\tlearn: 0.0261153\ttotal: 793ms\tremaining: 686ms\n",
      "536:\tlearn: 0.0260358\ttotal: 794ms\tremaining: 685ms\n",
      "537:\tlearn: 0.0259331\ttotal: 796ms\tremaining: 683ms\n",
      "538:\tlearn: 0.0258592\ttotal: 797ms\tremaining: 682ms\n",
      "539:\tlearn: 0.0258243\ttotal: 798ms\tremaining: 680ms\n",
      "540:\tlearn: 0.0257013\ttotal: 800ms\tremaining: 679ms\n",
      "541:\tlearn: 0.0256147\ttotal: 801ms\tremaining: 677ms\n",
      "542:\tlearn: 0.0255535\ttotal: 802ms\tremaining: 675ms\n",
      "543:\tlearn: 0.0254283\ttotal: 804ms\tremaining: 674ms\n",
      "544:\tlearn: 0.0253487\ttotal: 805ms\tremaining: 672ms\n",
      "545:\tlearn: 0.0252027\ttotal: 806ms\tremaining: 670ms\n",
      "546:\tlearn: 0.0251639\ttotal: 808ms\tremaining: 669ms\n",
      "547:\tlearn: 0.0251150\ttotal: 809ms\tremaining: 667ms\n",
      "548:\tlearn: 0.0250923\ttotal: 810ms\tremaining: 666ms\n",
      "549:\tlearn: 0.0250164\ttotal: 812ms\tremaining: 664ms\n",
      "550:\tlearn: 0.0249303\ttotal: 813ms\tremaining: 662ms\n",
      "551:\tlearn: 0.0248454\ttotal: 814ms\tremaining: 661ms\n",
      "552:\tlearn: 0.0247936\ttotal: 815ms\tremaining: 659ms\n",
      "553:\tlearn: 0.0247431\ttotal: 817ms\tremaining: 658ms\n",
      "554:\tlearn: 0.0246527\ttotal: 818ms\tremaining: 656ms\n",
      "555:\tlearn: 0.0245352\ttotal: 820ms\tremaining: 654ms\n",
      "556:\tlearn: 0.0244614\ttotal: 821ms\tremaining: 653ms\n",
      "557:\tlearn: 0.0243821\ttotal: 822ms\tremaining: 651ms\n",
      "558:\tlearn: 0.0243277\ttotal: 823ms\tremaining: 650ms\n",
      "559:\tlearn: 0.0242129\ttotal: 825ms\tremaining: 648ms\n",
      "560:\tlearn: 0.0241347\ttotal: 826ms\tremaining: 646ms\n",
      "561:\tlearn: 0.0240953\ttotal: 827ms\tremaining: 645ms\n",
      "562:\tlearn: 0.0240332\ttotal: 829ms\tremaining: 643ms\n",
      "563:\tlearn: 0.0239679\ttotal: 830ms\tremaining: 642ms\n",
      "564:\tlearn: 0.0238782\ttotal: 831ms\tremaining: 640ms\n",
      "565:\tlearn: 0.0237506\ttotal: 833ms\tremaining: 639ms\n",
      "566:\tlearn: 0.0237064\ttotal: 834ms\tremaining: 637ms\n",
      "567:\tlearn: 0.0236231\ttotal: 836ms\tremaining: 636ms\n",
      "568:\tlearn: 0.0235683\ttotal: 837ms\tremaining: 634ms\n",
      "569:\tlearn: 0.0234737\ttotal: 838ms\tremaining: 633ms\n",
      "570:\tlearn: 0.0234011\ttotal: 840ms\tremaining: 631ms\n",
      "571:\tlearn: 0.0233599\ttotal: 842ms\tremaining: 630ms\n",
      "572:\tlearn: 0.0233180\ttotal: 843ms\tremaining: 628ms\n",
      "573:\tlearn: 0.0232255\ttotal: 844ms\tremaining: 627ms\n",
      "574:\tlearn: 0.0231547\ttotal: 846ms\tremaining: 625ms\n",
      "575:\tlearn: 0.0231125\ttotal: 847ms\tremaining: 624ms\n",
      "576:\tlearn: 0.0230389\ttotal: 849ms\tremaining: 622ms\n",
      "577:\tlearn: 0.0229941\ttotal: 850ms\tremaining: 621ms\n",
      "578:\tlearn: 0.0229010\ttotal: 851ms\tremaining: 619ms\n",
      "579:\tlearn: 0.0228523\ttotal: 853ms\tremaining: 618ms\n",
      "580:\tlearn: 0.0227784\ttotal: 854ms\tremaining: 616ms\n",
      "581:\tlearn: 0.0227419\ttotal: 856ms\tremaining: 615ms\n",
      "582:\tlearn: 0.0226560\ttotal: 857ms\tremaining: 613ms\n",
      "583:\tlearn: 0.0225789\ttotal: 858ms\tremaining: 611ms\n",
      "584:\tlearn: 0.0224942\ttotal: 860ms\tremaining: 610ms\n",
      "585:\tlearn: 0.0224319\ttotal: 861ms\tremaining: 608ms\n",
      "586:\tlearn: 0.0223931\ttotal: 862ms\tremaining: 607ms\n",
      "587:\tlearn: 0.0223464\ttotal: 863ms\tremaining: 605ms\n",
      "588:\tlearn: 0.0222708\ttotal: 865ms\tremaining: 603ms\n",
      "589:\tlearn: 0.0222213\ttotal: 866ms\tremaining: 602ms\n",
      "590:\tlearn: 0.0221665\ttotal: 868ms\tremaining: 601ms\n",
      "591:\tlearn: 0.0220966\ttotal: 869ms\tremaining: 599ms\n",
      "592:\tlearn: 0.0220296\ttotal: 871ms\tremaining: 598ms\n",
      "593:\tlearn: 0.0219685\ttotal: 872ms\tremaining: 596ms\n",
      "594:\tlearn: 0.0219155\ttotal: 874ms\tremaining: 595ms\n",
      "595:\tlearn: 0.0218387\ttotal: 876ms\tremaining: 593ms\n",
      "596:\tlearn: 0.0217992\ttotal: 877ms\tremaining: 592ms\n",
      "597:\tlearn: 0.0217361\ttotal: 878ms\tremaining: 590ms\n",
      "598:\tlearn: 0.0216608\ttotal: 880ms\tremaining: 589ms\n",
      "599:\tlearn: 0.0216175\ttotal: 881ms\tremaining: 587ms\n",
      "600:\tlearn: 0.0215598\ttotal: 883ms\tremaining: 586ms\n",
      "601:\tlearn: 0.0215025\ttotal: 884ms\tremaining: 585ms\n",
      "602:\tlearn: 0.0214271\ttotal: 885ms\tremaining: 583ms\n",
      "603:\tlearn: 0.0213653\ttotal: 887ms\tremaining: 582ms\n",
      "604:\tlearn: 0.0213107\ttotal: 888ms\tremaining: 580ms\n",
      "605:\tlearn: 0.0211967\ttotal: 889ms\tremaining: 578ms\n",
      "606:\tlearn: 0.0211323\ttotal: 891ms\tremaining: 577ms\n",
      "607:\tlearn: 0.0210858\ttotal: 892ms\tremaining: 575ms\n",
      "608:\tlearn: 0.0210640\ttotal: 894ms\tremaining: 574ms\n",
      "609:\tlearn: 0.0209657\ttotal: 895ms\tremaining: 572ms\n",
      "610:\tlearn: 0.0209141\ttotal: 897ms\tremaining: 571ms\n",
      "611:\tlearn: 0.0208401\ttotal: 898ms\tremaining: 569ms\n",
      "612:\tlearn: 0.0207327\ttotal: 899ms\tremaining: 568ms\n",
      "613:\tlearn: 0.0207010\ttotal: 901ms\tremaining: 566ms\n",
      "614:\tlearn: 0.0206418\ttotal: 902ms\tremaining: 565ms\n",
      "615:\tlearn: 0.0206043\ttotal: 904ms\tremaining: 563ms\n",
      "616:\tlearn: 0.0205303\ttotal: 905ms\tremaining: 562ms\n",
      "617:\tlearn: 0.0204771\ttotal: 907ms\tremaining: 560ms\n",
      "618:\tlearn: 0.0204305\ttotal: 908ms\tremaining: 559ms\n",
      "619:\tlearn: 0.0203855\ttotal: 910ms\tremaining: 557ms\n",
      "620:\tlearn: 0.0203651\ttotal: 911ms\tremaining: 556ms\n",
      "621:\tlearn: 0.0203060\ttotal: 912ms\tremaining: 554ms\n",
      "622:\tlearn: 0.0202360\ttotal: 914ms\tremaining: 553ms\n",
      "623:\tlearn: 0.0201993\ttotal: 915ms\tremaining: 551ms\n",
      "624:\tlearn: 0.0201240\ttotal: 917ms\tremaining: 550ms\n",
      "625:\tlearn: 0.0200773\ttotal: 918ms\tremaining: 548ms\n",
      "626:\tlearn: 0.0200109\ttotal: 920ms\tremaining: 547ms\n",
      "627:\tlearn: 0.0199706\ttotal: 922ms\tremaining: 546ms\n",
      "628:\tlearn: 0.0199310\ttotal: 924ms\tremaining: 545ms\n",
      "629:\tlearn: 0.0198923\ttotal: 925ms\tremaining: 543ms\n",
      "630:\tlearn: 0.0198220\ttotal: 927ms\tremaining: 542ms\n",
      "631:\tlearn: 0.0197728\ttotal: 928ms\tremaining: 540ms\n",
      "632:\tlearn: 0.0197446\ttotal: 929ms\tremaining: 539ms\n",
      "633:\tlearn: 0.0197093\ttotal: 930ms\tremaining: 537ms\n",
      "634:\tlearn: 0.0196723\ttotal: 932ms\tremaining: 536ms\n",
      "635:\tlearn: 0.0196279\ttotal: 934ms\tremaining: 534ms\n",
      "636:\tlearn: 0.0195685\ttotal: 935ms\tremaining: 533ms\n",
      "637:\tlearn: 0.0195448\ttotal: 936ms\tremaining: 531ms\n",
      "638:\tlearn: 0.0194829\ttotal: 938ms\tremaining: 530ms\n",
      "639:\tlearn: 0.0194373\ttotal: 939ms\tremaining: 528ms\n",
      "640:\tlearn: 0.0193938\ttotal: 941ms\tremaining: 527ms\n",
      "641:\tlearn: 0.0193712\ttotal: 942ms\tremaining: 525ms\n",
      "642:\tlearn: 0.0192994\ttotal: 944ms\tremaining: 524ms\n",
      "643:\tlearn: 0.0192532\ttotal: 945ms\tremaining: 523ms\n",
      "644:\tlearn: 0.0192188\ttotal: 947ms\tremaining: 521ms\n",
      "645:\tlearn: 0.0191560\ttotal: 948ms\tremaining: 520ms\n",
      "646:\tlearn: 0.0191154\ttotal: 950ms\tremaining: 518ms\n",
      "647:\tlearn: 0.0190470\ttotal: 951ms\tremaining: 517ms\n",
      "648:\tlearn: 0.0190220\ttotal: 953ms\tremaining: 515ms\n",
      "649:\tlearn: 0.0189663\ttotal: 954ms\tremaining: 514ms\n",
      "650:\tlearn: 0.0188826\ttotal: 956ms\tremaining: 513ms\n",
      "651:\tlearn: 0.0188658\ttotal: 957ms\tremaining: 511ms\n",
      "652:\tlearn: 0.0188213\ttotal: 959ms\tremaining: 510ms\n",
      "653:\tlearn: 0.0187514\ttotal: 960ms\tremaining: 508ms\n",
      "654:\tlearn: 0.0187049\ttotal: 962ms\tremaining: 507ms\n",
      "655:\tlearn: 0.0186508\ttotal: 963ms\tremaining: 505ms\n",
      "656:\tlearn: 0.0185861\ttotal: 964ms\tremaining: 503ms\n",
      "657:\tlearn: 0.0185530\ttotal: 966ms\tremaining: 502ms\n",
      "658:\tlearn: 0.0185109\ttotal: 968ms\tremaining: 501ms\n",
      "659:\tlearn: 0.0184609\ttotal: 970ms\tremaining: 500ms\n",
      "660:\tlearn: 0.0184490\ttotal: 971ms\tremaining: 498ms\n",
      "661:\tlearn: 0.0183943\ttotal: 973ms\tremaining: 497ms\n",
      "662:\tlearn: 0.0183575\ttotal: 974ms\tremaining: 495ms\n",
      "663:\tlearn: 0.0183157\ttotal: 975ms\tremaining: 494ms\n",
      "664:\tlearn: 0.0182609\ttotal: 977ms\tremaining: 492ms\n",
      "665:\tlearn: 0.0182058\ttotal: 978ms\tremaining: 491ms\n",
      "666:\tlearn: 0.0181718\ttotal: 980ms\tremaining: 489ms\n",
      "667:\tlearn: 0.0181239\ttotal: 981ms\tremaining: 488ms\n",
      "668:\tlearn: 0.0180773\ttotal: 982ms\tremaining: 486ms\n",
      "669:\tlearn: 0.0180376\ttotal: 984ms\tremaining: 485ms\n",
      "670:\tlearn: 0.0179995\ttotal: 985ms\tremaining: 483ms\n",
      "671:\tlearn: 0.0179354\ttotal: 987ms\tremaining: 482ms\n",
      "672:\tlearn: 0.0178752\ttotal: 988ms\tremaining: 480ms\n",
      "673:\tlearn: 0.0178312\ttotal: 989ms\tremaining: 479ms\n",
      "674:\tlearn: 0.0178113\ttotal: 991ms\tremaining: 477ms\n",
      "675:\tlearn: 0.0177678\ttotal: 992ms\tremaining: 475ms\n",
      "676:\tlearn: 0.0177379\ttotal: 993ms\tremaining: 474ms\n",
      "677:\tlearn: 0.0176863\ttotal: 995ms\tremaining: 472ms\n",
      "678:\tlearn: 0.0176420\ttotal: 996ms\tremaining: 471ms\n",
      "679:\tlearn: 0.0176169\ttotal: 997ms\tremaining: 469ms\n",
      "680:\tlearn: 0.0175505\ttotal: 999ms\tremaining: 468ms\n",
      "681:\tlearn: 0.0174935\ttotal: 1s\tremaining: 467ms\n",
      "682:\tlearn: 0.0174608\ttotal: 1s\tremaining: 465ms\n",
      "683:\tlearn: 0.0174024\ttotal: 1s\tremaining: 464ms\n",
      "684:\tlearn: 0.0173844\ttotal: 1s\tremaining: 462ms\n",
      "685:\tlearn: 0.0173711\ttotal: 1s\tremaining: 460ms\n",
      "686:\tlearn: 0.0173294\ttotal: 1.01s\tremaining: 459ms\n",
      "687:\tlearn: 0.0172920\ttotal: 1.01s\tremaining: 457ms\n",
      "688:\tlearn: 0.0172412\ttotal: 1.01s\tremaining: 456ms\n",
      "689:\tlearn: 0.0171972\ttotal: 1.01s\tremaining: 454ms\n",
      "690:\tlearn: 0.0171631\ttotal: 1.01s\tremaining: 453ms\n",
      "691:\tlearn: 0.0170793\ttotal: 1.01s\tremaining: 451ms\n",
      "692:\tlearn: 0.0170432\ttotal: 1.01s\tremaining: 450ms\n",
      "693:\tlearn: 0.0170275\ttotal: 1.02s\tremaining: 449ms\n",
      "694:\tlearn: 0.0169928\ttotal: 1.02s\tremaining: 447ms\n",
      "695:\tlearn: 0.0169667\ttotal: 1.02s\tremaining: 446ms\n",
      "696:\tlearn: 0.0169303\ttotal: 1.02s\tremaining: 444ms\n",
      "697:\tlearn: 0.0168975\ttotal: 1.02s\tremaining: 443ms\n",
      "698:\tlearn: 0.0168506\ttotal: 1.02s\tremaining: 441ms\n",
      "699:\tlearn: 0.0168033\ttotal: 1.02s\tremaining: 440ms\n",
      "700:\tlearn: 0.0167731\ttotal: 1.03s\tremaining: 438ms\n",
      "701:\tlearn: 0.0167322\ttotal: 1.03s\tremaining: 437ms\n",
      "702:\tlearn: 0.0167082\ttotal: 1.03s\tremaining: 435ms\n",
      "703:\tlearn: 0.0166665\ttotal: 1.03s\tremaining: 434ms\n",
      "704:\tlearn: 0.0166369\ttotal: 1.03s\tremaining: 432ms\n",
      "705:\tlearn: 0.0165972\ttotal: 1.03s\tremaining: 431ms\n",
      "706:\tlearn: 0.0165653\ttotal: 1.04s\tremaining: 430ms\n",
      "707:\tlearn: 0.0165179\ttotal: 1.04s\tremaining: 428ms\n",
      "708:\tlearn: 0.0164853\ttotal: 1.04s\tremaining: 427ms\n",
      "709:\tlearn: 0.0164483\ttotal: 1.04s\tremaining: 425ms\n",
      "710:\tlearn: 0.0164122\ttotal: 1.04s\tremaining: 424ms\n",
      "711:\tlearn: 0.0163706\ttotal: 1.04s\tremaining: 423ms\n",
      "712:\tlearn: 0.0163535\ttotal: 1.05s\tremaining: 421ms\n",
      "713:\tlearn: 0.0162886\ttotal: 1.05s\tremaining: 420ms\n",
      "714:\tlearn: 0.0162411\ttotal: 1.05s\tremaining: 418ms\n",
      "715:\tlearn: 0.0162113\ttotal: 1.05s\tremaining: 416ms\n",
      "716:\tlearn: 0.0161655\ttotal: 1.05s\tremaining: 415ms\n",
      "717:\tlearn: 0.0161365\ttotal: 1.05s\tremaining: 414ms\n",
      "718:\tlearn: 0.0161074\ttotal: 1.05s\tremaining: 412ms\n",
      "719:\tlearn: 0.0160723\ttotal: 1.05s\tremaining: 411ms\n",
      "720:\tlearn: 0.0160403\ttotal: 1.06s\tremaining: 409ms\n",
      "721:\tlearn: 0.0159960\ttotal: 1.06s\tremaining: 408ms\n",
      "722:\tlearn: 0.0159782\ttotal: 1.06s\tremaining: 406ms\n",
      "723:\tlearn: 0.0159691\ttotal: 1.06s\tremaining: 405ms\n",
      "724:\tlearn: 0.0159290\ttotal: 1.06s\tremaining: 403ms\n",
      "725:\tlearn: 0.0158984\ttotal: 1.06s\tremaining: 402ms\n",
      "726:\tlearn: 0.0158600\ttotal: 1.06s\tremaining: 400ms\n",
      "727:\tlearn: 0.0158208\ttotal: 1.07s\tremaining: 399ms\n",
      "728:\tlearn: 0.0158005\ttotal: 1.07s\tremaining: 397ms\n",
      "729:\tlearn: 0.0157702\ttotal: 1.07s\tremaining: 396ms\n",
      "730:\tlearn: 0.0157306\ttotal: 1.07s\tremaining: 394ms\n",
      "731:\tlearn: 0.0156962\ttotal: 1.07s\tremaining: 393ms\n",
      "732:\tlearn: 0.0156700\ttotal: 1.07s\tremaining: 391ms\n",
      "733:\tlearn: 0.0156427\ttotal: 1.07s\tremaining: 390ms\n",
      "734:\tlearn: 0.0156061\ttotal: 1.08s\tremaining: 388ms\n",
      "735:\tlearn: 0.0155611\ttotal: 1.08s\tremaining: 387ms\n",
      "736:\tlearn: 0.0155039\ttotal: 1.08s\tremaining: 385ms\n",
      "737:\tlearn: 0.0154491\ttotal: 1.08s\tremaining: 384ms\n",
      "738:\tlearn: 0.0154229\ttotal: 1.08s\tremaining: 382ms\n",
      "739:\tlearn: 0.0153781\ttotal: 1.08s\tremaining: 381ms\n",
      "740:\tlearn: 0.0153403\ttotal: 1.08s\tremaining: 379ms\n",
      "741:\tlearn: 0.0152843\ttotal: 1.09s\tremaining: 378ms\n",
      "742:\tlearn: 0.0152531\ttotal: 1.09s\tremaining: 376ms\n",
      "743:\tlearn: 0.0152295\ttotal: 1.09s\tremaining: 375ms\n",
      "744:\tlearn: 0.0152092\ttotal: 1.09s\tremaining: 373ms\n",
      "745:\tlearn: 0.0151659\ttotal: 1.09s\tremaining: 372ms\n",
      "746:\tlearn: 0.0151434\ttotal: 1.09s\tremaining: 370ms\n",
      "747:\tlearn: 0.0151067\ttotal: 1.09s\tremaining: 369ms\n",
      "748:\tlearn: 0.0150844\ttotal: 1.09s\tremaining: 367ms\n",
      "749:\tlearn: 0.0150496\ttotal: 1.1s\tremaining: 366ms\n",
      "750:\tlearn: 0.0150378\ttotal: 1.1s\tremaining: 364ms\n",
      "751:\tlearn: 0.0150033\ttotal: 1.1s\tremaining: 363ms\n",
      "752:\tlearn: 0.0149803\ttotal: 1.1s\tremaining: 361ms\n",
      "753:\tlearn: 0.0149419\ttotal: 1.1s\tremaining: 360ms\n",
      "754:\tlearn: 0.0149177\ttotal: 1.1s\tremaining: 358ms\n",
      "755:\tlearn: 0.0148818\ttotal: 1.1s\tremaining: 357ms\n",
      "756:\tlearn: 0.0148438\ttotal: 1.11s\tremaining: 355ms\n",
      "757:\tlearn: 0.0148168\ttotal: 1.11s\tremaining: 354ms\n",
      "758:\tlearn: 0.0147881\ttotal: 1.11s\tremaining: 352ms\n",
      "759:\tlearn: 0.0147413\ttotal: 1.11s\tremaining: 351ms\n",
      "760:\tlearn: 0.0147004\ttotal: 1.11s\tremaining: 349ms\n",
      "761:\tlearn: 0.0146774\ttotal: 1.11s\tremaining: 348ms\n",
      "762:\tlearn: 0.0146408\ttotal: 1.11s\tremaining: 346ms\n",
      "763:\tlearn: 0.0146252\ttotal: 1.11s\tremaining: 345ms\n",
      "764:\tlearn: 0.0146050\ttotal: 1.12s\tremaining: 343ms\n",
      "765:\tlearn: 0.0145816\ttotal: 1.12s\tremaining: 342ms\n",
      "766:\tlearn: 0.0145594\ttotal: 1.12s\tremaining: 340ms\n",
      "767:\tlearn: 0.0145106\ttotal: 1.12s\tremaining: 339ms\n",
      "768:\tlearn: 0.0144837\ttotal: 1.12s\tremaining: 337ms\n",
      "769:\tlearn: 0.0144617\ttotal: 1.12s\tremaining: 336ms\n",
      "770:\tlearn: 0.0144250\ttotal: 1.13s\tremaining: 334ms\n",
      "771:\tlearn: 0.0144035\ttotal: 1.13s\tremaining: 333ms\n",
      "772:\tlearn: 0.0143828\ttotal: 1.13s\tremaining: 331ms\n",
      "773:\tlearn: 0.0143625\ttotal: 1.13s\tremaining: 330ms\n",
      "774:\tlearn: 0.0143352\ttotal: 1.13s\tremaining: 328ms\n",
      "775:\tlearn: 0.0142988\ttotal: 1.13s\tremaining: 327ms\n",
      "776:\tlearn: 0.0142633\ttotal: 1.13s\tremaining: 325ms\n",
      "777:\tlearn: 0.0142370\ttotal: 1.13s\tremaining: 324ms\n",
      "778:\tlearn: 0.0142093\ttotal: 1.14s\tremaining: 322ms\n",
      "779:\tlearn: 0.0141765\ttotal: 1.14s\tremaining: 321ms\n",
      "780:\tlearn: 0.0141579\ttotal: 1.14s\tremaining: 319ms\n",
      "781:\tlearn: 0.0141291\ttotal: 1.14s\tremaining: 318ms\n",
      "782:\tlearn: 0.0141196\ttotal: 1.14s\tremaining: 316ms\n",
      "783:\tlearn: 0.0140868\ttotal: 1.14s\tremaining: 315ms\n",
      "784:\tlearn: 0.0140553\ttotal: 1.14s\tremaining: 313ms\n",
      "785:\tlearn: 0.0140321\ttotal: 1.15s\tremaining: 312ms\n",
      "786:\tlearn: 0.0140123\ttotal: 1.15s\tremaining: 310ms\n",
      "787:\tlearn: 0.0140052\ttotal: 1.15s\tremaining: 309ms\n",
      "788:\tlearn: 0.0139550\ttotal: 1.15s\tremaining: 307ms\n",
      "789:\tlearn: 0.0139163\ttotal: 1.15s\tremaining: 306ms\n",
      "790:\tlearn: 0.0138923\ttotal: 1.15s\tremaining: 304ms\n",
      "791:\tlearn: 0.0138563\ttotal: 1.15s\tremaining: 303ms\n",
      "792:\tlearn: 0.0138377\ttotal: 1.15s\tremaining: 301ms\n",
      "793:\tlearn: 0.0138115\ttotal: 1.16s\tremaining: 300ms\n",
      "794:\tlearn: 0.0137778\ttotal: 1.16s\tremaining: 299ms\n",
      "795:\tlearn: 0.0137596\ttotal: 1.16s\tremaining: 297ms\n",
      "796:\tlearn: 0.0137358\ttotal: 1.16s\tremaining: 296ms\n",
      "797:\tlearn: 0.0136895\ttotal: 1.16s\tremaining: 294ms\n",
      "798:\tlearn: 0.0136534\ttotal: 1.16s\tremaining: 293ms\n",
      "799:\tlearn: 0.0136097\ttotal: 1.17s\tremaining: 291ms\n",
      "800:\tlearn: 0.0135816\ttotal: 1.17s\tremaining: 290ms\n",
      "801:\tlearn: 0.0135420\ttotal: 1.17s\tremaining: 288ms\n",
      "802:\tlearn: 0.0135153\ttotal: 1.17s\tremaining: 287ms\n",
      "803:\tlearn: 0.0134985\ttotal: 1.17s\tremaining: 285ms\n",
      "804:\tlearn: 0.0134796\ttotal: 1.17s\tremaining: 284ms\n",
      "805:\tlearn: 0.0134576\ttotal: 1.17s\tremaining: 283ms\n",
      "806:\tlearn: 0.0134341\ttotal: 1.18s\tremaining: 281ms\n",
      "807:\tlearn: 0.0133948\ttotal: 1.18s\tremaining: 280ms\n",
      "808:\tlearn: 0.0133839\ttotal: 1.18s\tremaining: 278ms\n",
      "809:\tlearn: 0.0133559\ttotal: 1.18s\tremaining: 277ms\n",
      "810:\tlearn: 0.0133323\ttotal: 1.18s\tremaining: 275ms\n",
      "811:\tlearn: 0.0133080\ttotal: 1.18s\tremaining: 274ms\n",
      "812:\tlearn: 0.0132592\ttotal: 1.18s\tremaining: 272ms\n",
      "813:\tlearn: 0.0132423\ttotal: 1.19s\tremaining: 271ms\n",
      "814:\tlearn: 0.0132112\ttotal: 1.19s\tremaining: 269ms\n",
      "815:\tlearn: 0.0131941\ttotal: 1.19s\tremaining: 268ms\n",
      "816:\tlearn: 0.0131547\ttotal: 1.19s\tremaining: 266ms\n",
      "817:\tlearn: 0.0131382\ttotal: 1.19s\tremaining: 265ms\n",
      "818:\tlearn: 0.0131216\ttotal: 1.19s\tremaining: 264ms\n",
      "819:\tlearn: 0.0130895\ttotal: 1.19s\tremaining: 262ms\n",
      "820:\tlearn: 0.0130685\ttotal: 1.2s\tremaining: 261ms\n",
      "821:\tlearn: 0.0130332\ttotal: 1.2s\tremaining: 259ms\n",
      "822:\tlearn: 0.0130106\ttotal: 1.2s\tremaining: 258ms\n",
      "823:\tlearn: 0.0129714\ttotal: 1.2s\tremaining: 256ms\n",
      "824:\tlearn: 0.0129357\ttotal: 1.2s\tremaining: 255ms\n",
      "825:\tlearn: 0.0129184\ttotal: 1.2s\tremaining: 253ms\n",
      "826:\tlearn: 0.0128808\ttotal: 1.2s\tremaining: 252ms\n",
      "827:\tlearn: 0.0128597\ttotal: 1.21s\tremaining: 250ms\n",
      "828:\tlearn: 0.0128352\ttotal: 1.21s\tremaining: 249ms\n",
      "829:\tlearn: 0.0128227\ttotal: 1.21s\tremaining: 247ms\n",
      "830:\tlearn: 0.0128042\ttotal: 1.21s\tremaining: 246ms\n",
      "831:\tlearn: 0.0127703\ttotal: 1.21s\tremaining: 245ms\n",
      "832:\tlearn: 0.0127410\ttotal: 1.21s\tremaining: 243ms\n",
      "833:\tlearn: 0.0127133\ttotal: 1.21s\tremaining: 242ms\n",
      "834:\tlearn: 0.0126896\ttotal: 1.22s\tremaining: 240ms\n",
      "835:\tlearn: 0.0126632\ttotal: 1.22s\tremaining: 239ms\n",
      "836:\tlearn: 0.0126549\ttotal: 1.22s\tremaining: 237ms\n",
      "837:\tlearn: 0.0126401\ttotal: 1.22s\tremaining: 236ms\n",
      "838:\tlearn: 0.0126034\ttotal: 1.22s\tremaining: 234ms\n",
      "839:\tlearn: 0.0125867\ttotal: 1.22s\tremaining: 233ms\n",
      "840:\tlearn: 0.0125663\ttotal: 1.22s\tremaining: 231ms\n",
      "841:\tlearn: 0.0125374\ttotal: 1.23s\tremaining: 230ms\n",
      "842:\tlearn: 0.0124975\ttotal: 1.23s\tremaining: 228ms\n",
      "843:\tlearn: 0.0124654\ttotal: 1.23s\tremaining: 227ms\n",
      "844:\tlearn: 0.0124455\ttotal: 1.23s\tremaining: 226ms\n",
      "845:\tlearn: 0.0124270\ttotal: 1.23s\tremaining: 224ms\n",
      "846:\tlearn: 0.0124017\ttotal: 1.23s\tremaining: 223ms\n",
      "847:\tlearn: 0.0123771\ttotal: 1.23s\tremaining: 221ms\n",
      "848:\tlearn: 0.0123532\ttotal: 1.24s\tremaining: 220ms\n",
      "849:\tlearn: 0.0123262\ttotal: 1.24s\tremaining: 218ms\n",
      "850:\tlearn: 0.0123125\ttotal: 1.24s\tremaining: 217ms\n",
      "851:\tlearn: 0.0123031\ttotal: 1.24s\tremaining: 215ms\n",
      "852:\tlearn: 0.0122881\ttotal: 1.24s\tremaining: 214ms\n",
      "853:\tlearn: 0.0122587\ttotal: 1.24s\tremaining: 212ms\n",
      "854:\tlearn: 0.0122381\ttotal: 1.24s\tremaining: 211ms\n",
      "855:\tlearn: 0.0122146\ttotal: 1.25s\tremaining: 209ms\n",
      "856:\tlearn: 0.0121927\ttotal: 1.25s\tremaining: 208ms\n",
      "857:\tlearn: 0.0121657\ttotal: 1.25s\tremaining: 207ms\n",
      "858:\tlearn: 0.0121476\ttotal: 1.25s\tremaining: 205ms\n",
      "859:\tlearn: 0.0121261\ttotal: 1.25s\tremaining: 204ms\n",
      "860:\tlearn: 0.0121026\ttotal: 1.25s\tremaining: 202ms\n",
      "861:\tlearn: 0.0120714\ttotal: 1.25s\tremaining: 201ms\n",
      "862:\tlearn: 0.0120547\ttotal: 1.25s\tremaining: 199ms\n",
      "863:\tlearn: 0.0120196\ttotal: 1.26s\tremaining: 198ms\n",
      "864:\tlearn: 0.0119853\ttotal: 1.26s\tremaining: 196ms\n",
      "865:\tlearn: 0.0119569\ttotal: 1.26s\tremaining: 195ms\n",
      "866:\tlearn: 0.0119341\ttotal: 1.26s\tremaining: 194ms\n",
      "867:\tlearn: 0.0119019\ttotal: 1.26s\tremaining: 192ms\n",
      "868:\tlearn: 0.0118692\ttotal: 1.26s\tremaining: 191ms\n",
      "869:\tlearn: 0.0118413\ttotal: 1.26s\tremaining: 189ms\n",
      "870:\tlearn: 0.0118251\ttotal: 1.27s\tremaining: 188ms\n",
      "871:\tlearn: 0.0117963\ttotal: 1.27s\tremaining: 186ms\n",
      "872:\tlearn: 0.0117761\ttotal: 1.27s\tremaining: 185ms\n",
      "873:\tlearn: 0.0117450\ttotal: 1.27s\tremaining: 183ms\n",
      "874:\tlearn: 0.0117254\ttotal: 1.27s\tremaining: 182ms\n",
      "875:\tlearn: 0.0116951\ttotal: 1.27s\tremaining: 180ms\n",
      "876:\tlearn: 0.0116806\ttotal: 1.27s\tremaining: 179ms\n",
      "877:\tlearn: 0.0116616\ttotal: 1.28s\tremaining: 177ms\n",
      "878:\tlearn: 0.0116499\ttotal: 1.28s\tremaining: 176ms\n",
      "879:\tlearn: 0.0116280\ttotal: 1.28s\tremaining: 175ms\n",
      "880:\tlearn: 0.0116143\ttotal: 1.28s\tremaining: 173ms\n",
      "881:\tlearn: 0.0115903\ttotal: 1.28s\tremaining: 172ms\n",
      "882:\tlearn: 0.0115728\ttotal: 1.28s\tremaining: 170ms\n",
      "883:\tlearn: 0.0115506\ttotal: 1.29s\tremaining: 169ms\n",
      "884:\tlearn: 0.0115357\ttotal: 1.29s\tremaining: 167ms\n",
      "885:\tlearn: 0.0115036\ttotal: 1.29s\tremaining: 166ms\n",
      "886:\tlearn: 0.0114846\ttotal: 1.29s\tremaining: 164ms\n",
      "887:\tlearn: 0.0114675\ttotal: 1.29s\tremaining: 163ms\n",
      "888:\tlearn: 0.0114542\ttotal: 1.29s\tremaining: 161ms\n",
      "889:\tlearn: 0.0114235\ttotal: 1.29s\tremaining: 160ms\n",
      "890:\tlearn: 0.0114026\ttotal: 1.3s\tremaining: 159ms\n",
      "891:\tlearn: 0.0113877\ttotal: 1.3s\tremaining: 157ms\n",
      "892:\tlearn: 0.0113689\ttotal: 1.3s\tremaining: 156ms\n",
      "893:\tlearn: 0.0113430\ttotal: 1.3s\tremaining: 154ms\n",
      "894:\tlearn: 0.0113166\ttotal: 1.3s\tremaining: 153ms\n",
      "895:\tlearn: 0.0112982\ttotal: 1.3s\tremaining: 151ms\n",
      "896:\tlearn: 0.0112812\ttotal: 1.3s\tremaining: 150ms\n",
      "897:\tlearn: 0.0112583\ttotal: 1.3s\tremaining: 148ms\n",
      "898:\tlearn: 0.0112381\ttotal: 1.31s\tremaining: 147ms\n",
      "899:\tlearn: 0.0112257\ttotal: 1.31s\tremaining: 145ms\n",
      "900:\tlearn: 0.0112184\ttotal: 1.31s\tremaining: 144ms\n",
      "901:\tlearn: 0.0112020\ttotal: 1.31s\tremaining: 143ms\n",
      "902:\tlearn: 0.0111874\ttotal: 1.31s\tremaining: 141ms\n",
      "903:\tlearn: 0.0111731\ttotal: 1.31s\tremaining: 140ms\n",
      "904:\tlearn: 0.0111505\ttotal: 1.32s\tremaining: 138ms\n",
      "905:\tlearn: 0.0111304\ttotal: 1.32s\tremaining: 137ms\n",
      "906:\tlearn: 0.0111071\ttotal: 1.32s\tremaining: 135ms\n",
      "907:\tlearn: 0.0110939\ttotal: 1.32s\tremaining: 134ms\n",
      "908:\tlearn: 0.0110709\ttotal: 1.32s\tremaining: 132ms\n",
      "909:\tlearn: 0.0110445\ttotal: 1.32s\tremaining: 131ms\n",
      "910:\tlearn: 0.0110273\ttotal: 1.33s\tremaining: 130ms\n",
      "911:\tlearn: 0.0110119\ttotal: 1.33s\tremaining: 128ms\n",
      "912:\tlearn: 0.0109809\ttotal: 1.33s\tremaining: 127ms\n",
      "913:\tlearn: 0.0109553\ttotal: 1.33s\tremaining: 125ms\n",
      "914:\tlearn: 0.0109274\ttotal: 1.33s\tremaining: 124ms\n",
      "915:\tlearn: 0.0109111\ttotal: 1.33s\tremaining: 122ms\n",
      "916:\tlearn: 0.0108889\ttotal: 1.33s\tremaining: 121ms\n",
      "917:\tlearn: 0.0108673\ttotal: 1.34s\tremaining: 119ms\n",
      "918:\tlearn: 0.0108528\ttotal: 1.34s\tremaining: 118ms\n",
      "919:\tlearn: 0.0108381\ttotal: 1.34s\tremaining: 116ms\n",
      "920:\tlearn: 0.0108224\ttotal: 1.34s\tremaining: 115ms\n",
      "921:\tlearn: 0.0107977\ttotal: 1.34s\tremaining: 114ms\n",
      "922:\tlearn: 0.0107850\ttotal: 1.34s\tremaining: 112ms\n",
      "923:\tlearn: 0.0107594\ttotal: 1.34s\tremaining: 111ms\n",
      "924:\tlearn: 0.0107375\ttotal: 1.35s\tremaining: 109ms\n",
      "925:\tlearn: 0.0107115\ttotal: 1.35s\tremaining: 108ms\n",
      "926:\tlearn: 0.0106945\ttotal: 1.35s\tremaining: 106ms\n",
      "927:\tlearn: 0.0106797\ttotal: 1.35s\tremaining: 105ms\n",
      "928:\tlearn: 0.0106555\ttotal: 1.35s\tremaining: 103ms\n",
      "929:\tlearn: 0.0106396\ttotal: 1.35s\tremaining: 102ms\n",
      "930:\tlearn: 0.0106172\ttotal: 1.35s\tremaining: 100ms\n",
      "931:\tlearn: 0.0106004\ttotal: 1.36s\tremaining: 98.9ms\n",
      "932:\tlearn: 0.0105846\ttotal: 1.36s\tremaining: 97.5ms\n",
      "933:\tlearn: 0.0105580\ttotal: 1.36s\tremaining: 96ms\n",
      "934:\tlearn: 0.0105412\ttotal: 1.36s\tremaining: 94.6ms\n",
      "935:\tlearn: 0.0105009\ttotal: 1.36s\tremaining: 93.1ms\n",
      "936:\tlearn: 0.0104811\ttotal: 1.36s\tremaining: 91.6ms\n",
      "937:\tlearn: 0.0104435\ttotal: 1.36s\tremaining: 90.2ms\n",
      "938:\tlearn: 0.0104312\ttotal: 1.36s\tremaining: 88.7ms\n",
      "939:\tlearn: 0.0104122\ttotal: 1.37s\tremaining: 87.3ms\n",
      "940:\tlearn: 0.0103961\ttotal: 1.37s\tremaining: 85.8ms\n",
      "941:\tlearn: 0.0103765\ttotal: 1.37s\tremaining: 84.3ms\n",
      "942:\tlearn: 0.0103586\ttotal: 1.37s\tremaining: 82.9ms\n",
      "943:\tlearn: 0.0103417\ttotal: 1.37s\tremaining: 81.4ms\n",
      "944:\tlearn: 0.0103215\ttotal: 1.37s\tremaining: 80ms\n",
      "945:\tlearn: 0.0103072\ttotal: 1.38s\tremaining: 78.5ms\n",
      "946:\tlearn: 0.0102939\ttotal: 1.38s\tremaining: 77ms\n",
      "947:\tlearn: 0.0102718\ttotal: 1.38s\tremaining: 75.6ms\n",
      "948:\tlearn: 0.0102570\ttotal: 1.38s\tremaining: 74.1ms\n",
      "949:\tlearn: 0.0102363\ttotal: 1.38s\tremaining: 72.7ms\n",
      "950:\tlearn: 0.0102248\ttotal: 1.38s\tremaining: 71.2ms\n",
      "951:\tlearn: 0.0102119\ttotal: 1.38s\tremaining: 69.8ms\n",
      "952:\tlearn: 0.0101922\ttotal: 1.39s\tremaining: 68.3ms\n",
      "953:\tlearn: 0.0101742\ttotal: 1.39s\tremaining: 66.9ms\n",
      "954:\tlearn: 0.0101589\ttotal: 1.39s\tremaining: 65.4ms\n",
      "955:\tlearn: 0.0101412\ttotal: 1.39s\tremaining: 64ms\n",
      "956:\tlearn: 0.0101218\ttotal: 1.39s\tremaining: 62.5ms\n",
      "957:\tlearn: 0.0100912\ttotal: 1.39s\tremaining: 61ms\n",
      "958:\tlearn: 0.0100765\ttotal: 1.39s\tremaining: 59.6ms\n",
      "959:\tlearn: 0.0100698\ttotal: 1.4s\tremaining: 58.1ms\n",
      "960:\tlearn: 0.0100615\ttotal: 1.4s\tremaining: 56.7ms\n",
      "961:\tlearn: 0.0100544\ttotal: 1.4s\tremaining: 55.2ms\n",
      "962:\tlearn: 0.0100439\ttotal: 1.4s\tremaining: 53.8ms\n",
      "963:\tlearn: 0.0100288\ttotal: 1.4s\tremaining: 52.3ms\n",
      "964:\tlearn: 0.0100061\ttotal: 1.4s\tremaining: 50.9ms\n",
      "965:\tlearn: 0.0099926\ttotal: 1.4s\tremaining: 49.4ms\n",
      "966:\tlearn: 0.0099805\ttotal: 1.41s\tremaining: 48ms\n",
      "967:\tlearn: 0.0099685\ttotal: 1.41s\tremaining: 46.5ms\n",
      "968:\tlearn: 0.0099553\ttotal: 1.41s\tremaining: 45ms\n",
      "969:\tlearn: 0.0099360\ttotal: 1.41s\tremaining: 43.6ms\n",
      "970:\tlearn: 0.0099159\ttotal: 1.41s\tremaining: 42.1ms\n",
      "971:\tlearn: 0.0099002\ttotal: 1.41s\tremaining: 40.7ms\n",
      "972:\tlearn: 0.0098822\ttotal: 1.41s\tremaining: 39.2ms\n",
      "973:\tlearn: 0.0098601\ttotal: 1.42s\tremaining: 37.8ms\n",
      "974:\tlearn: 0.0098503\ttotal: 1.42s\tremaining: 36.3ms\n",
      "975:\tlearn: 0.0098300\ttotal: 1.42s\tremaining: 34.9ms\n",
      "976:\tlearn: 0.0098182\ttotal: 1.42s\tremaining: 33.4ms\n",
      "977:\tlearn: 0.0098045\ttotal: 1.42s\tremaining: 32ms\n",
      "978:\tlearn: 0.0097798\ttotal: 1.42s\tremaining: 30.5ms\n",
      "979:\tlearn: 0.0097682\ttotal: 1.42s\tremaining: 29.1ms\n",
      "980:\tlearn: 0.0097605\ttotal: 1.43s\tremaining: 27.6ms\n",
      "981:\tlearn: 0.0097485\ttotal: 1.43s\tremaining: 26.2ms\n",
      "982:\tlearn: 0.0097230\ttotal: 1.43s\tremaining: 24.7ms\n",
      "983:\tlearn: 0.0097089\ttotal: 1.43s\tremaining: 23.2ms\n",
      "984:\tlearn: 0.0096930\ttotal: 1.43s\tremaining: 21.8ms\n",
      "985:\tlearn: 0.0096842\ttotal: 1.43s\tremaining: 20.3ms\n",
      "986:\tlearn: 0.0096760\ttotal: 1.43s\tremaining: 18.9ms\n",
      "987:\tlearn: 0.0096643\ttotal: 1.43s\tremaining: 17.4ms\n",
      "988:\tlearn: 0.0096515\ttotal: 1.44s\tremaining: 16ms\n",
      "989:\tlearn: 0.0096291\ttotal: 1.44s\tremaining: 14.5ms\n",
      "990:\tlearn: 0.0096174\ttotal: 1.44s\tremaining: 13.1ms\n",
      "991:\tlearn: 0.0095900\ttotal: 1.44s\tremaining: 11.6ms\n",
      "992:\tlearn: 0.0095641\ttotal: 1.44s\tremaining: 10.2ms\n",
      "993:\tlearn: 0.0095511\ttotal: 1.44s\tremaining: 8.71ms\n",
      "994:\tlearn: 0.0095399\ttotal: 1.44s\tremaining: 7.25ms\n",
      "995:\tlearn: 0.0095306\ttotal: 1.45s\tremaining: 5.8ms\n",
      "996:\tlearn: 0.0095182\ttotal: 1.45s\tremaining: 4.35ms\n",
      "997:\tlearn: 0.0095029\ttotal: 1.45s\tremaining: 2.9ms\n",
      "998:\tlearn: 0.0094907\ttotal: 1.45s\tremaining: 1.45ms\n",
      "999:\tlearn: 0.0094740\ttotal: 1.45s\tremaining: 0us\n"
     ]
    },
    {
     "data": {
      "text/plain": [
       "<catboost.core.CatBoostClassifier at 0x153037d3dc8>"
      ]
     },
     "execution_count": 78,
     "metadata": {},
     "output_type": "execute_result"
    }
   ],
   "source": [
    "y = df['status']\n",
    "X = df.drop('status', axis=1)\n",
    "\n",
    "scaler=StandardScaler()\n",
    "X_scl=scaler.fit_transform(X)\n",
    "\n",
    "X_train, X_test, y_train, y_test =  train_test_split(X,y, test_size=0.20, random_state=40, stratify = y)\n",
    "\n",
    "catboost = CatBoostClassifier()\n",
    "catboost.fit(X_train,y_train)"
   ]
  },
  {
   "cell_type": "code",
   "execution_count": 79,
   "metadata": {},
   "outputs": [],
   "source": [
    "test_preds=catboost.predict(X_test)\n",
    "train_preds=catboost.predict(X_train)"
   ]
  },
  {
   "cell_type": "code",
   "execution_count": 80,
   "metadata": {},
   "outputs": [
    {
     "name": "stdout",
     "output_type": "stream",
     "text": [
      "Precision Score: 1.0\n",
      "Recall Score   : 0.9666666666666667\n",
      "Accuracy Score : 0.9767441860465116\n",
      "F1 Score       : 0.983050847457627\n",
      "AUC Score      : 0.9833333333333334\n"
     ]
    }
   ],
   "source": [
    "metric(y_test,test_preds) #test score"
   ]
  },
  {
   "cell_type": "code",
   "execution_count": 81,
   "metadata": {},
   "outputs": [
    {
     "name": "stdout",
     "output_type": "stream",
     "text": [
      "Precision Score: 1.0\n",
      "Recall Score   : 1.0\n",
      "Accuracy Score : 1.0\n",
      "F1 Score       : 1.0\n",
      "AUC Score      : 0.9833333333333334\n"
     ]
    }
   ],
   "source": [
    "metric(y_train,train_preds) #train score"
   ]
  },
  {
   "cell_type": "markdown",
   "metadata": {},
   "source": [
    "# CatBoost Model Tuning"
   ]
  },
  {
   "cell_type": "code",
   "execution_count": 85,
   "metadata": {
    "collapsed": true,
    "jupyter": {
     "outputs_hidden": true
    }
   },
   "outputs": [
    {
     "name": "stdout",
     "output_type": "stream",
     "text": [
      "Fitting 10 folds for each of 12 candidates, totalling 120 fits\n"
     ]
    },
    {
     "name": "stderr",
     "output_type": "stream",
     "text": [
      "[Parallel(n_jobs=-1)]: Using backend LokyBackend with 8 concurrent workers.\n",
      "[Parallel(n_jobs=-1)]: Done  25 tasks      | elapsed:    8.2s\n",
      "[Parallel(n_jobs=-1)]: Done 120 out of 120 | elapsed:   45.5s finished\n"
     ]
    },
    {
     "name": "stdout",
     "output_type": "stream",
     "text": [
      "0:\tlearn: 0.4834719\ttotal: 1.39ms\tremaining: 277ms\n",
      "1:\tlearn: 0.4304762\ttotal: 2.39ms\tremaining: 237ms\n",
      "2:\tlearn: 0.3283331\ttotal: 3.38ms\tremaining: 222ms\n",
      "3:\tlearn: 0.2442315\ttotal: 4.36ms\tremaining: 214ms\n",
      "4:\tlearn: 0.2240644\ttotal: 5.36ms\tremaining: 209ms\n",
      "5:\tlearn: 0.1727791\ttotal: 6.37ms\tremaining: 206ms\n",
      "6:\tlearn: 0.1436809\ttotal: 7.4ms\tremaining: 204ms\n",
      "7:\tlearn: 0.1152141\ttotal: 8.41ms\tremaining: 202ms\n",
      "8:\tlearn: 0.0898920\ttotal: 9.38ms\tremaining: 199ms\n",
      "9:\tlearn: 0.0758652\ttotal: 10.3ms\tremaining: 196ms\n",
      "10:\tlearn: 0.0709197\ttotal: 11.3ms\tremaining: 194ms\n",
      "11:\tlearn: 0.0593309\ttotal: 12.3ms\tremaining: 192ms\n",
      "12:\tlearn: 0.0495701\ttotal: 13.3ms\tremaining: 191ms\n",
      "13:\tlearn: 0.0468877\ttotal: 14.2ms\tremaining: 189ms\n",
      "14:\tlearn: 0.0399343\ttotal: 15.3ms\tremaining: 189ms\n",
      "15:\tlearn: 0.0392115\ttotal: 16.1ms\tremaining: 185ms\n",
      "16:\tlearn: 0.0333275\ttotal: 17.1ms\tremaining: 184ms\n",
      "17:\tlearn: 0.0284621\ttotal: 18.1ms\tremaining: 183ms\n",
      "18:\tlearn: 0.0276805\ttotal: 19.1ms\tremaining: 182ms\n",
      "19:\tlearn: 0.0254317\ttotal: 20.1ms\tremaining: 181ms\n",
      "20:\tlearn: 0.0248940\ttotal: 20.9ms\tremaining: 178ms\n",
      "21:\tlearn: 0.0241208\ttotal: 21.8ms\tremaining: 176ms\n",
      "22:\tlearn: 0.0213459\ttotal: 22.6ms\tremaining: 174ms\n",
      "23:\tlearn: 0.0202588\ttotal: 23.4ms\tremaining: 171ms\n",
      "24:\tlearn: 0.0177787\ttotal: 24.1ms\tremaining: 169ms\n",
      "25:\tlearn: 0.0162607\ttotal: 25.1ms\tremaining: 168ms\n",
      "26:\tlearn: 0.0148530\ttotal: 25.8ms\tremaining: 165ms\n",
      "27:\tlearn: 0.0139603\ttotal: 26.8ms\tremaining: 165ms\n",
      "28:\tlearn: 0.0127756\ttotal: 27.6ms\tremaining: 163ms\n",
      "29:\tlearn: 0.0123978\ttotal: 28.4ms\tremaining: 161ms\n",
      "30:\tlearn: 0.0114072\ttotal: 29.2ms\tremaining: 159ms\n",
      "31:\tlearn: 0.0106444\ttotal: 30ms\tremaining: 158ms\n",
      "32:\tlearn: 0.0099258\ttotal: 30.8ms\tremaining: 156ms\n",
      "33:\tlearn: 0.0097188\ttotal: 31.6ms\tremaining: 154ms\n",
      "34:\tlearn: 0.0094379\ttotal: 32.5ms\tremaining: 153ms\n",
      "35:\tlearn: 0.0093514\ttotal: 33.6ms\tremaining: 153ms\n",
      "36:\tlearn: 0.0085700\ttotal: 34.6ms\tremaining: 153ms\n",
      "37:\tlearn: 0.0080461\ttotal: 35.6ms\tremaining: 152ms\n",
      "38:\tlearn: 0.0076172\ttotal: 36.4ms\tremaining: 150ms\n",
      "39:\tlearn: 0.0072561\ttotal: 37.4ms\tremaining: 150ms\n",
      "40:\tlearn: 0.0068538\ttotal: 38.3ms\tremaining: 149ms\n",
      "41:\tlearn: 0.0064732\ttotal: 39.2ms\tremaining: 147ms\n",
      "42:\tlearn: 0.0062240\ttotal: 40.2ms\tremaining: 147ms\n",
      "43:\tlearn: 0.0058851\ttotal: 41.2ms\tremaining: 146ms\n",
      "44:\tlearn: 0.0056880\ttotal: 42.2ms\tremaining: 146ms\n",
      "45:\tlearn: 0.0054227\ttotal: 43.3ms\tremaining: 145ms\n",
      "46:\tlearn: 0.0052647\ttotal: 44.3ms\tremaining: 144ms\n",
      "47:\tlearn: 0.0049597\ttotal: 45.3ms\tremaining: 143ms\n",
      "48:\tlearn: 0.0046855\ttotal: 46.4ms\tremaining: 143ms\n",
      "49:\tlearn: 0.0044836\ttotal: 47.2ms\tremaining: 142ms\n",
      "50:\tlearn: 0.0042545\ttotal: 48ms\tremaining: 140ms\n",
      "51:\tlearn: 0.0041061\ttotal: 48.8ms\tremaining: 139ms\n",
      "52:\tlearn: 0.0039113\ttotal: 49.6ms\tremaining: 138ms\n",
      "53:\tlearn: 0.0037330\ttotal: 50.5ms\tremaining: 137ms\n",
      "54:\tlearn: 0.0037155\ttotal: 51.6ms\tremaining: 136ms\n",
      "55:\tlearn: 0.0035951\ttotal: 52.4ms\tremaining: 135ms\n",
      "56:\tlearn: 0.0035157\ttotal: 53.5ms\tremaining: 134ms\n",
      "57:\tlearn: 0.0033669\ttotal: 54.5ms\tremaining: 133ms\n",
      "58:\tlearn: 0.0033485\ttotal: 55.5ms\tremaining: 133ms\n",
      "59:\tlearn: 0.0032136\ttotal: 56.3ms\tremaining: 131ms\n",
      "60:\tlearn: 0.0030887\ttotal: 57.2ms\tremaining: 130ms\n",
      "61:\tlearn: 0.0029714\ttotal: 58ms\tremaining: 129ms\n",
      "62:\tlearn: 0.0028622\ttotal: 59ms\tremaining: 128ms\n",
      "63:\tlearn: 0.0027616\ttotal: 59.9ms\tremaining: 127ms\n",
      "64:\tlearn: 0.0026674\ttotal: 60.9ms\tremaining: 127ms\n",
      "65:\tlearn: 0.0026514\ttotal: 61.9ms\tremaining: 126ms\n",
      "66:\tlearn: 0.0025642\ttotal: 63ms\tremaining: 125ms\n",
      "67:\tlearn: 0.0025486\ttotal: 64ms\tremaining: 124ms\n",
      "68:\tlearn: 0.0024677\ttotal: 64.8ms\tremaining: 123ms\n",
      "69:\tlearn: 0.0024605\ttotal: 65.6ms\tremaining: 122ms\n",
      "70:\tlearn: 0.0024468\ttotal: 66.6ms\tremaining: 121ms\n",
      "71:\tlearn: 0.0024350\ttotal: 67.7ms\tremaining: 120ms\n",
      "72:\tlearn: 0.0023605\ttotal: 68.8ms\tremaining: 120ms\n",
      "73:\tlearn: 0.0023170\ttotal: 69.8ms\tremaining: 119ms\n",
      "74:\tlearn: 0.0022492\ttotal: 70.7ms\tremaining: 118ms\n",
      "75:\tlearn: 0.0021851\ttotal: 71.8ms\tremaining: 117ms\n",
      "76:\tlearn: 0.0021748\ttotal: 73ms\tremaining: 117ms\n",
      "77:\tlearn: 0.0021650\ttotal: 74ms\tremaining: 116ms\n",
      "78:\tlearn: 0.0021649\ttotal: 75ms\tremaining: 115ms\n",
      "79:\tlearn: 0.0021045\ttotal: 76ms\tremaining: 114ms\n",
      "80:\tlearn: 0.0021044\ttotal: 77ms\tremaining: 113ms\n",
      "81:\tlearn: 0.0020948\ttotal: 78.1ms\tremaining: 112ms\n",
      "82:\tlearn: 0.0020388\ttotal: 79.2ms\tremaining: 112ms\n",
      "83:\tlearn: 0.0020301\ttotal: 80.2ms\tremaining: 111ms\n",
      "84:\tlearn: 0.0019770\ttotal: 81.1ms\tremaining: 110ms\n",
      "85:\tlearn: 0.0019725\ttotal: 81.9ms\tremaining: 109ms\n",
      "86:\tlearn: 0.0019647\ttotal: 82.8ms\tremaining: 108ms\n",
      "87:\tlearn: 0.0019556\ttotal: 83.8ms\tremaining: 107ms\n",
      "88:\tlearn: 0.0019479\ttotal: 84.9ms\tremaining: 106ms\n",
      "89:\tlearn: 0.0019479\ttotal: 85.8ms\tremaining: 105ms\n",
      "90:\tlearn: 0.0019403\ttotal: 86.9ms\tremaining: 104ms\n",
      "91:\tlearn: 0.0019327\ttotal: 87.9ms\tremaining: 103ms\n",
      "92:\tlearn: 0.0018844\ttotal: 88.9ms\tremaining: 102ms\n",
      "93:\tlearn: 0.0018384\ttotal: 89.9ms\tremaining: 101ms\n",
      "94:\tlearn: 0.0017945\ttotal: 90.7ms\tremaining: 100ms\n",
      "95:\tlearn: 0.0017943\ttotal: 91.6ms\tremaining: 99.2ms\n",
      "96:\tlearn: 0.0017878\ttotal: 92.6ms\tremaining: 98.3ms\n",
      "97:\tlearn: 0.0017462\ttotal: 93.6ms\tremaining: 97.4ms\n",
      "98:\tlearn: 0.0017064\ttotal: 94.6ms\tremaining: 96.5ms\n",
      "99:\tlearn: 0.0017062\ttotal: 95.5ms\tremaining: 95.5ms\n",
      "100:\tlearn: 0.0017007\ttotal: 96.4ms\tremaining: 94.5ms\n",
      "101:\tlearn: 0.0016629\ttotal: 97.4ms\tremaining: 93.6ms\n",
      "102:\tlearn: 0.0016595\ttotal: 98.3ms\tremaining: 92.6ms\n",
      "103:\tlearn: 0.0016595\ttotal: 99ms\tremaining: 91.4ms\n",
      "104:\tlearn: 0.0016550\ttotal: 99.8ms\tremaining: 90.3ms\n",
      "105:\tlearn: 0.0016190\ttotal: 101ms\tremaining: 89.2ms\n",
      "106:\tlearn: 0.0016189\ttotal: 101ms\tremaining: 88.2ms\n",
      "107:\tlearn: 0.0016140\ttotal: 102ms\tremaining: 87.1ms\n",
      "108:\tlearn: 0.0015797\ttotal: 103ms\tremaining: 86.2ms\n",
      "109:\tlearn: 0.0015757\ttotal: 104ms\tremaining: 85.3ms\n",
      "110:\tlearn: 0.0015430\ttotal: 105ms\tremaining: 84.4ms\n",
      "111:\tlearn: 0.0015116\ttotal: 106ms\tremaining: 83.5ms\n",
      "112:\tlearn: 0.0014814\ttotal: 107ms\tremaining: 82.6ms\n",
      "113:\tlearn: 0.0014813\ttotal: 108ms\tremaining: 81.6ms\n",
      "114:\tlearn: 0.0014813\ttotal: 109ms\tremaining: 80.6ms\n",
      "115:\tlearn: 0.0014812\ttotal: 110ms\tremaining: 79.7ms\n",
      "116:\tlearn: 0.0014521\ttotal: 111ms\tremaining: 78.8ms\n",
      "117:\tlearn: 0.0014242\ttotal: 112ms\tremaining: 77.9ms\n",
      "118:\tlearn: 0.0013973\ttotal: 113ms\tremaining: 77.1ms\n",
      "119:\tlearn: 0.0013973\ttotal: 114ms\tremaining: 76.1ms\n",
      "120:\tlearn: 0.0013959\ttotal: 115ms\tremaining: 75.1ms\n",
      "121:\tlearn: 0.0013701\ttotal: 116ms\tremaining: 74.1ms\n",
      "122:\tlearn: 0.0013700\ttotal: 117ms\tremaining: 73.1ms\n",
      "123:\tlearn: 0.0013678\ttotal: 118ms\tremaining: 72.1ms\n",
      "124:\tlearn: 0.0013673\ttotal: 118ms\tremaining: 71ms\n",
      "125:\tlearn: 0.0013637\ttotal: 119ms\tremaining: 70ms\n",
      "126:\tlearn: 0.0013390\ttotal: 120ms\tremaining: 69.1ms\n",
      "127:\tlearn: 0.0013151\ttotal: 121ms\tremaining: 68.1ms\n",
      "128:\tlearn: 0.0013118\ttotal: 122ms\tremaining: 67.1ms\n",
      "129:\tlearn: 0.0012889\ttotal: 123ms\tremaining: 66.2ms\n",
      "130:\tlearn: 0.0012807\ttotal: 124ms\tremaining: 65.3ms\n",
      "131:\tlearn: 0.0012807\ttotal: 125ms\tremaining: 64.3ms\n",
      "132:\tlearn: 0.0012588\ttotal: 126ms\tremaining: 63.3ms\n",
      "133:\tlearn: 0.0012588\ttotal: 127ms\tremaining: 62.3ms\n",
      "134:\tlearn: 0.0012587\ttotal: 127ms\tremaining: 61.3ms\n",
      "135:\tlearn: 0.0012453\ttotal: 128ms\tremaining: 60.4ms\n",
      "136:\tlearn: 0.0012452\ttotal: 129ms\tremaining: 59.4ms\n",
      "137:\tlearn: 0.0012452\ttotal: 130ms\tremaining: 58.4ms\n",
      "138:\tlearn: 0.0012451\ttotal: 131ms\tremaining: 57.4ms\n",
      "139:\tlearn: 0.0012451\ttotal: 132ms\tremaining: 56.4ms\n",
      "140:\tlearn: 0.0012450\ttotal: 133ms\tremaining: 55.4ms\n",
      "141:\tlearn: 0.0012450\ttotal: 133ms\tremaining: 54.5ms\n",
      "142:\tlearn: 0.0012450\ttotal: 134ms\tremaining: 53.6ms\n",
      "143:\tlearn: 0.0012449\ttotal: 135ms\tremaining: 52.6ms\n",
      "144:\tlearn: 0.0012440\ttotal: 136ms\tremaining: 51.7ms\n",
      "145:\tlearn: 0.0012440\ttotal: 137ms\tremaining: 50.8ms\n",
      "146:\tlearn: 0.0012439\ttotal: 138ms\tremaining: 49.8ms\n",
      "147:\tlearn: 0.0012388\ttotal: 139ms\tremaining: 48.8ms\n",
      "148:\tlearn: 0.0012388\ttotal: 140ms\tremaining: 47.8ms\n",
      "149:\tlearn: 0.0012371\ttotal: 141ms\tremaining: 46.9ms\n",
      "150:\tlearn: 0.0012371\ttotal: 142ms\tremaining: 46ms\n",
      "151:\tlearn: 0.0012271\ttotal: 143ms\tremaining: 45ms\n",
      "152:\tlearn: 0.0012195\ttotal: 143ms\tremaining: 44.1ms\n",
      "153:\tlearn: 0.0012195\ttotal: 144ms\tremaining: 43.1ms\n",
      "154:\tlearn: 0.0012195\ttotal: 145ms\tremaining: 42.1ms\n",
      "155:\tlearn: 0.0012194\ttotal: 146ms\tremaining: 41.2ms\n",
      "156:\tlearn: 0.0012194\ttotal: 147ms\tremaining: 40.3ms\n",
      "157:\tlearn: 0.0012068\ttotal: 148ms\tremaining: 39.4ms\n",
      "158:\tlearn: 0.0012019\ttotal: 149ms\tremaining: 38.5ms\n",
      "159:\tlearn: 0.0012018\ttotal: 150ms\tremaining: 37.5ms\n",
      "160:\tlearn: 0.0012018\ttotal: 151ms\tremaining: 36.5ms\n",
      "161:\tlearn: 0.0011995\ttotal: 152ms\tremaining: 35.6ms\n",
      "162:\tlearn: 0.0011995\ttotal: 153ms\tremaining: 34.6ms\n",
      "163:\tlearn: 0.0011994\ttotal: 153ms\tremaining: 33.7ms\n",
      "164:\tlearn: 0.0011978\ttotal: 154ms\tremaining: 32.7ms\n",
      "165:\tlearn: 0.0011978\ttotal: 155ms\tremaining: 31.8ms\n",
      "166:\tlearn: 0.0011978\ttotal: 156ms\tremaining: 30.8ms\n",
      "167:\tlearn: 0.0011977\ttotal: 157ms\tremaining: 29.8ms\n",
      "168:\tlearn: 0.0011976\ttotal: 157ms\tremaining: 28.9ms\n",
      "169:\tlearn: 0.0011976\ttotal: 158ms\tremaining: 27.9ms\n",
      "170:\tlearn: 0.0011973\ttotal: 159ms\tremaining: 27ms\n",
      "171:\tlearn: 0.0011973\ttotal: 161ms\tremaining: 26.2ms\n",
      "172:\tlearn: 0.0011880\ttotal: 161ms\tremaining: 25.2ms\n",
      "173:\tlearn: 0.0011868\ttotal: 162ms\tremaining: 24.3ms\n",
      "174:\tlearn: 0.0011867\ttotal: 163ms\tremaining: 23.3ms\n",
      "175:\tlearn: 0.0011867\ttotal: 164ms\tremaining: 22.4ms\n",
      "176:\tlearn: 0.0011867\ttotal: 165ms\tremaining: 21.4ms\n",
      "177:\tlearn: 0.0011867\ttotal: 166ms\tremaining: 20.5ms\n",
      "178:\tlearn: 0.0011867\ttotal: 167ms\tremaining: 19.6ms\n",
      "179:\tlearn: 0.0011865\ttotal: 168ms\tremaining: 18.6ms\n",
      "180:\tlearn: 0.0011819\ttotal: 168ms\tremaining: 17.7ms\n",
      "181:\tlearn: 0.0011819\ttotal: 169ms\tremaining: 16.7ms\n",
      "182:\tlearn: 0.0011819\ttotal: 170ms\tremaining: 15.8ms\n",
      "183:\tlearn: 0.0011818\ttotal: 171ms\tremaining: 14.9ms\n",
      "184:\tlearn: 0.0011818\ttotal: 172ms\tremaining: 13.9ms\n",
      "185:\tlearn: 0.0011818\ttotal: 172ms\tremaining: 13ms\n",
      "186:\tlearn: 0.0011818\ttotal: 173ms\tremaining: 12.1ms\n",
      "187:\tlearn: 0.0011818\ttotal: 174ms\tremaining: 11.1ms\n",
      "188:\tlearn: 0.0011802\ttotal: 175ms\tremaining: 10.2ms\n",
      "189:\tlearn: 0.0011663\ttotal: 176ms\tremaining: 9.26ms\n",
      "190:\tlearn: 0.0011662\ttotal: 177ms\tremaining: 8.32ms\n",
      "191:\tlearn: 0.0011662\ttotal: 178ms\tremaining: 7.4ms\n",
      "192:\tlearn: 0.0011662\ttotal: 179ms\tremaining: 6.47ms\n",
      "193:\tlearn: 0.0011662\ttotal: 179ms\tremaining: 5.54ms\n",
      "194:\tlearn: 0.0011662\ttotal: 180ms\tremaining: 4.61ms\n",
      "195:\tlearn: 0.0011662\ttotal: 181ms\tremaining: 3.69ms\n",
      "196:\tlearn: 0.0011661\ttotal: 182ms\tremaining: 2.77ms\n",
      "197:\tlearn: 0.0011661\ttotal: 182ms\tremaining: 1.84ms\n",
      "198:\tlearn: 0.0011660\ttotal: 183ms\tremaining: 920us\n",
      "199:\tlearn: 0.0011660\ttotal: 184ms\tremaining: 0us\n"
     ]
    },
    {
     "data": {
      "text/plain": [
       "GridSearchCV(cv=10,\n",
       "             estimator=<catboost.core.CatBoostClassifier object at 0x0000019BE8484C08>,\n",
       "             n_jobs=-1,\n",
       "             param_grid={'depth': [3, 5, 6], 'iterations': [200, 500],\n",
       "                         'learning_rate': [0.1, 0.05]},\n",
       "             verbose=2)"
      ]
     },
     "execution_count": 85,
     "metadata": {},
     "output_type": "execute_result"
    }
   ],
   "source": [
    "catboost_params = {'iterations':[200,500],\n",
    "             \"depth\":[3,5,6],\n",
    "             \"learning_rate\":[0.1,0.05]}\n",
    "\n",
    "catboost = CatBoostClassifier()\n",
    "catboost_cv_model = GridSearchCV(catboost , catboost_params, cv = 10 , n_jobs= -1 , verbose=2)\n",
    "catboost_cv_model.fit(X_train, y_train)"
   ]
  },
  {
   "cell_type": "code",
   "execution_count": 86,
   "metadata": {},
   "outputs": [
    {
     "name": "stdout",
     "output_type": "stream",
     "text": [
      "Thw best params : {'depth': 3, 'iterations': 200, 'learning_rate': 0.1}\n"
     ]
    }
   ],
   "source": [
    "print(\"Thw best params : \"+str(catboost_cv_model.best_params_))"
   ]
  },
  {
   "cell_type": "markdown",
   "metadata": {},
   "source": [
    "# CatBoost Model Tuning Results"
   ]
  },
  {
   "cell_type": "code",
   "execution_count": 82,
   "metadata": {},
   "outputs": [],
   "source": [
    "catboost = CatBoostClassifier(depth=3,iterations=200,learning_rate=0.1 )"
   ]
  },
  {
   "cell_type": "code",
   "execution_count": 84,
   "metadata": {
    "collapsed": true,
    "jupyter": {
     "outputs_hidden": true
    }
   },
   "outputs": [
    {
     "name": "stdout",
     "output_type": "stream",
     "text": [
      "0:\tlearn: 0.5245495\ttotal: 1.34ms\tremaining: 267ms\n",
      "1:\tlearn: 0.4670066\ttotal: 2.38ms\tremaining: 236ms\n",
      "2:\tlearn: 0.3696534\ttotal: 3.29ms\tremaining: 216ms\n",
      "3:\tlearn: 0.2716915\ttotal: 4.09ms\tremaining: 200ms\n",
      "4:\tlearn: 0.2418949\ttotal: 5.17ms\tremaining: 202ms\n",
      "5:\tlearn: 0.1870346\ttotal: 6.07ms\tremaining: 196ms\n",
      "6:\tlearn: 0.1442273\ttotal: 6.98ms\tremaining: 193ms\n",
      "7:\tlearn: 0.1195454\ttotal: 7.84ms\tremaining: 188ms\n",
      "8:\tlearn: 0.0961730\ttotal: 8.72ms\tremaining: 185ms\n",
      "9:\tlearn: 0.0772930\ttotal: 9.63ms\tremaining: 183ms\n",
      "10:\tlearn: 0.0746291\ttotal: 10.5ms\tremaining: 180ms\n",
      "11:\tlearn: 0.0614172\ttotal: 11.4ms\tremaining: 179ms\n",
      "12:\tlearn: 0.0525601\ttotal: 12.3ms\tremaining: 177ms\n",
      "13:\tlearn: 0.0492861\ttotal: 13.4ms\tremaining: 178ms\n",
      "14:\tlearn: 0.0413055\ttotal: 14.5ms\tremaining: 179ms\n",
      "15:\tlearn: 0.0405450\ttotal: 15.4ms\tremaining: 177ms\n",
      "16:\tlearn: 0.0335714\ttotal: 16.3ms\tremaining: 175ms\n",
      "17:\tlearn: 0.0285633\ttotal: 17.2ms\tremaining: 174ms\n",
      "18:\tlearn: 0.0273554\ttotal: 18.1ms\tremaining: 172ms\n",
      "19:\tlearn: 0.0244179\ttotal: 19ms\tremaining: 171ms\n",
      "20:\tlearn: 0.0212925\ttotal: 20.1ms\tremaining: 171ms\n",
      "21:\tlearn: 0.0206730\ttotal: 21.3ms\tremaining: 172ms\n",
      "22:\tlearn: 0.0185276\ttotal: 22.1ms\tremaining: 170ms\n",
      "23:\tlearn: 0.0166685\ttotal: 23.1ms\tremaining: 169ms\n",
      "24:\tlearn: 0.0153886\ttotal: 24.1ms\tremaining: 169ms\n",
      "25:\tlearn: 0.0149445\ttotal: 25.2ms\tremaining: 169ms\n",
      "26:\tlearn: 0.0137197\ttotal: 26.3ms\tremaining: 168ms\n",
      "27:\tlearn: 0.0135165\ttotal: 27.4ms\tremaining: 168ms\n",
      "28:\tlearn: 0.0123541\ttotal: 28.4ms\tremaining: 168ms\n",
      "29:\tlearn: 0.0120167\ttotal: 29.4ms\tremaining: 166ms\n",
      "30:\tlearn: 0.0117638\ttotal: 30.3ms\tremaining: 165ms\n",
      "31:\tlearn: 0.0109033\ttotal: 31.3ms\tremaining: 165ms\n",
      "32:\tlearn: 0.0101620\ttotal: 32.5ms\tremaining: 164ms\n",
      "33:\tlearn: 0.0095060\ttotal: 33.4ms\tremaining: 163ms\n",
      "34:\tlearn: 0.0092061\ttotal: 34.3ms\tremaining: 161ms\n",
      "35:\tlearn: 0.0086525\ttotal: 35.3ms\tremaining: 161ms\n",
      "36:\tlearn: 0.0079595\ttotal: 36.4ms\tremaining: 160ms\n",
      "37:\tlearn: 0.0074812\ttotal: 37.2ms\tremaining: 159ms\n",
      "38:\tlearn: 0.0070967\ttotal: 38.1ms\tremaining: 157ms\n",
      "39:\tlearn: 0.0067308\ttotal: 39.2ms\tremaining: 157ms\n",
      "40:\tlearn: 0.0063390\ttotal: 40.1ms\tremaining: 155ms\n",
      "41:\tlearn: 0.0062328\ttotal: 41.1ms\tremaining: 155ms\n",
      "42:\tlearn: 0.0059518\ttotal: 42.2ms\tremaining: 154ms\n",
      "43:\tlearn: 0.0055839\ttotal: 43.1ms\tremaining: 153ms\n",
      "44:\tlearn: 0.0053772\ttotal: 44ms\tremaining: 152ms\n",
      "45:\tlearn: 0.0051153\ttotal: 45.1ms\tremaining: 151ms\n",
      "46:\tlearn: 0.0048884\ttotal: 46.2ms\tremaining: 150ms\n",
      "47:\tlearn: 0.0046500\ttotal: 47.4ms\tremaining: 150ms\n",
      "48:\tlearn: 0.0044705\ttotal: 48.5ms\tremaining: 150ms\n",
      "49:\tlearn: 0.0043083\ttotal: 49.4ms\tremaining: 148ms\n",
      "50:\tlearn: 0.0041569\ttotal: 50.5ms\tremaining: 148ms\n",
      "51:\tlearn: 0.0039833\ttotal: 51.6ms\tremaining: 147ms\n",
      "52:\tlearn: 0.0037896\ttotal: 52.7ms\tremaining: 146ms\n",
      "53:\tlearn: 0.0036855\ttotal: 53.8ms\tremaining: 145ms\n",
      "54:\tlearn: 0.0035433\ttotal: 54.6ms\tremaining: 144ms\n",
      "55:\tlearn: 0.0034320\ttotal: 55.5ms\tremaining: 143ms\n",
      "56:\tlearn: 0.0033033\ttotal: 56.4ms\tremaining: 142ms\n",
      "57:\tlearn: 0.0032145\ttotal: 57.3ms\tremaining: 140ms\n",
      "58:\tlearn: 0.0031123\ttotal: 58.3ms\tremaining: 139ms\n",
      "59:\tlearn: 0.0029876\ttotal: 59.2ms\tremaining: 138ms\n",
      "60:\tlearn: 0.0028742\ttotal: 60.3ms\tremaining: 137ms\n",
      "61:\tlearn: 0.0027920\ttotal: 61.1ms\tremaining: 136ms\n",
      "62:\tlearn: 0.0026904\ttotal: 62ms\tremaining: 135ms\n",
      "63:\tlearn: 0.0026182\ttotal: 62.9ms\tremaining: 134ms\n",
      "64:\tlearn: 0.0025291\ttotal: 63.9ms\tremaining: 133ms\n",
      "65:\tlearn: 0.0024798\ttotal: 65ms\tremaining: 132ms\n",
      "66:\tlearn: 0.0024007\ttotal: 66.1ms\tremaining: 131ms\n",
      "67:\tlearn: 0.0023381\ttotal: 67ms\tremaining: 130ms\n",
      "68:\tlearn: 0.0022658\ttotal: 67.9ms\tremaining: 129ms\n",
      "69:\tlearn: 0.0021981\ttotal: 69ms\tremaining: 128ms\n",
      "70:\tlearn: 0.0021339\ttotal: 70.1ms\tremaining: 127ms\n",
      "71:\tlearn: 0.0020724\ttotal: 71ms\tremaining: 126ms\n",
      "72:\tlearn: 0.0020153\ttotal: 71.9ms\tremaining: 125ms\n",
      "73:\tlearn: 0.0020056\ttotal: 72.8ms\tremaining: 124ms\n",
      "74:\tlearn: 0.0019518\ttotal: 73.7ms\tremaining: 123ms\n",
      "75:\tlearn: 0.0018999\ttotal: 74.8ms\tremaining: 122ms\n",
      "76:\tlearn: 0.0018999\ttotal: 75.6ms\tremaining: 121ms\n",
      "77:\tlearn: 0.0018514\ttotal: 76.5ms\tremaining: 120ms\n",
      "78:\tlearn: 0.0018132\ttotal: 77.4ms\tremaining: 118ms\n",
      "79:\tlearn: 0.0017813\ttotal: 78.2ms\tremaining: 117ms\n",
      "80:\tlearn: 0.0017812\ttotal: 79.2ms\tremaining: 116ms\n",
      "81:\tlearn: 0.0017461\ttotal: 80.2ms\tremaining: 115ms\n",
      "82:\tlearn: 0.0017123\ttotal: 81.2ms\tremaining: 114ms\n",
      "83:\tlearn: 0.0017107\ttotal: 82ms\tremaining: 113ms\n",
      "84:\tlearn: 0.0017075\ttotal: 83.1ms\tremaining: 112ms\n",
      "85:\tlearn: 0.0016754\ttotal: 84.1ms\tremaining: 111ms\n",
      "86:\tlearn: 0.0016367\ttotal: 85ms\tremaining: 110ms\n",
      "87:\tlearn: 0.0016003\ttotal: 85.9ms\tremaining: 109ms\n",
      "88:\tlearn: 0.0015723\ttotal: 86.8ms\tremaining: 108ms\n",
      "89:\tlearn: 0.0015697\ttotal: 87.7ms\tremaining: 107ms\n",
      "90:\tlearn: 0.0015687\ttotal: 88.6ms\tremaining: 106ms\n",
      "91:\tlearn: 0.0015418\ttotal: 89.8ms\tremaining: 105ms\n",
      "92:\tlearn: 0.0015158\ttotal: 90.7ms\tremaining: 104ms\n",
      "93:\tlearn: 0.0014845\ttotal: 91.9ms\tremaining: 104ms\n",
      "94:\tlearn: 0.0014605\ttotal: 93ms\tremaining: 103ms\n",
      "95:\tlearn: 0.0014560\ttotal: 94.1ms\tremaining: 102ms\n",
      "96:\tlearn: 0.0014540\ttotal: 95.1ms\tremaining: 101ms\n",
      "97:\tlearn: 0.0014345\ttotal: 96ms\tremaining: 99.9ms\n",
      "98:\tlearn: 0.0014064\ttotal: 97.1ms\tremaining: 99.1ms\n",
      "99:\tlearn: 0.0014063\ttotal: 98.2ms\tremaining: 98.2ms\n",
      "100:\tlearn: 0.0014063\ttotal: 99.4ms\tremaining: 97.5ms\n",
      "101:\tlearn: 0.0013846\ttotal: 100ms\tremaining: 96.5ms\n",
      "102:\tlearn: 0.0013637\ttotal: 102ms\tremaining: 95.7ms\n",
      "103:\tlearn: 0.0013637\ttotal: 103ms\tremaining: 94.9ms\n",
      "104:\tlearn: 0.0013636\ttotal: 104ms\tremaining: 94ms\n",
      "105:\tlearn: 0.0013635\ttotal: 105ms\tremaining: 92.9ms\n",
      "106:\tlearn: 0.0013632\ttotal: 106ms\tremaining: 91.9ms\n",
      "107:\tlearn: 0.0013624\ttotal: 107ms\tremaining: 90.8ms\n",
      "108:\tlearn: 0.0013577\ttotal: 107ms\tremaining: 89.7ms\n",
      "109:\tlearn: 0.0013376\ttotal: 108ms\tremaining: 88.6ms\n",
      "110:\tlearn: 0.0013256\ttotal: 109ms\tremaining: 87.6ms\n",
      "111:\tlearn: 0.0013114\ttotal: 110ms\tremaining: 86.5ms\n",
      "112:\tlearn: 0.0013114\ttotal: 111ms\tremaining: 85.5ms\n",
      "113:\tlearn: 0.0013114\ttotal: 112ms\tremaining: 84.5ms\n",
      "114:\tlearn: 0.0013113\ttotal: 113ms\tremaining: 83.4ms\n",
      "115:\tlearn: 0.0013113\ttotal: 114ms\tremaining: 82.3ms\n",
      "116:\tlearn: 0.0013113\ttotal: 114ms\tremaining: 81.2ms\n",
      "117:\tlearn: 0.0013111\ttotal: 115ms\tremaining: 80.1ms\n",
      "118:\tlearn: 0.0013111\ttotal: 116ms\tremaining: 79.1ms\n",
      "119:\tlearn: 0.0013111\ttotal: 117ms\tremaining: 78.1ms\n",
      "120:\tlearn: 0.0013074\ttotal: 118ms\tremaining: 77.1ms\n",
      "121:\tlearn: 0.0012973\ttotal: 119ms\tremaining: 76ms\n",
      "122:\tlearn: 0.0012971\ttotal: 120ms\tremaining: 75ms\n",
      "123:\tlearn: 0.0012971\ttotal: 121ms\tremaining: 74ms\n",
      "124:\tlearn: 0.0012970\ttotal: 122ms\tremaining: 73.1ms\n",
      "125:\tlearn: 0.0012970\ttotal: 123ms\tremaining: 72ms\n",
      "126:\tlearn: 0.0012970\ttotal: 124ms\tremaining: 71ms\n",
      "127:\tlearn: 0.0012970\ttotal: 125ms\tremaining: 70.1ms\n",
      "128:\tlearn: 0.0012970\ttotal: 125ms\tremaining: 69ms\n",
      "129:\tlearn: 0.0012970\ttotal: 126ms\tremaining: 67.9ms\n",
      "130:\tlearn: 0.0012969\ttotal: 127ms\tremaining: 66.8ms\n",
      "131:\tlearn: 0.0012969\ttotal: 128ms\tremaining: 65.8ms\n",
      "132:\tlearn: 0.0012969\ttotal: 129ms\tremaining: 64.8ms\n",
      "133:\tlearn: 0.0012969\ttotal: 130ms\tremaining: 63.8ms\n",
      "134:\tlearn: 0.0012969\ttotal: 131ms\tremaining: 62.9ms\n",
      "135:\tlearn: 0.0012969\ttotal: 131ms\tremaining: 61.9ms\n",
      "136:\tlearn: 0.0012949\ttotal: 132ms\tremaining: 60.9ms\n",
      "137:\tlearn: 0.0012948\ttotal: 133ms\tremaining: 59.9ms\n",
      "138:\tlearn: 0.0012948\ttotal: 134ms\tremaining: 58.8ms\n",
      "139:\tlearn: 0.0012948\ttotal: 135ms\tremaining: 57.8ms\n",
      "140:\tlearn: 0.0012948\ttotal: 136ms\tremaining: 56.8ms\n",
      "141:\tlearn: 0.0012947\ttotal: 137ms\tremaining: 55.8ms\n",
      "142:\tlearn: 0.0012947\ttotal: 137ms\tremaining: 54.8ms\n",
      "143:\tlearn: 0.0012947\ttotal: 138ms\tremaining: 53.8ms\n",
      "144:\tlearn: 0.0012947\ttotal: 139ms\tremaining: 52.8ms\n",
      "145:\tlearn: 0.0012947\ttotal: 140ms\tremaining: 51.7ms\n",
      "146:\tlearn: 0.0012946\ttotal: 141ms\tremaining: 50.7ms\n",
      "147:\tlearn: 0.0012945\ttotal: 142ms\tremaining: 49.8ms\n",
      "148:\tlearn: 0.0012945\ttotal: 142ms\tremaining: 48.7ms\n",
      "149:\tlearn: 0.0012945\ttotal: 143ms\tremaining: 47.8ms\n",
      "150:\tlearn: 0.0012944\ttotal: 144ms\tremaining: 46.8ms\n",
      "151:\tlearn: 0.0012913\ttotal: 145ms\tremaining: 45.8ms\n",
      "152:\tlearn: 0.0012913\ttotal: 146ms\tremaining: 44.8ms\n",
      "153:\tlearn: 0.0012913\ttotal: 147ms\tremaining: 43.8ms\n",
      "154:\tlearn: 0.0012913\ttotal: 147ms\tremaining: 42.8ms\n",
      "155:\tlearn: 0.0012913\ttotal: 148ms\tremaining: 41.8ms\n",
      "156:\tlearn: 0.0012912\ttotal: 149ms\tremaining: 40.8ms\n",
      "157:\tlearn: 0.0012908\ttotal: 150ms\tremaining: 39.8ms\n",
      "158:\tlearn: 0.0012908\ttotal: 151ms\tremaining: 38.8ms\n",
      "159:\tlearn: 0.0012908\ttotal: 151ms\tremaining: 37.8ms\n",
      "160:\tlearn: 0.0012901\ttotal: 152ms\tremaining: 36.8ms\n",
      "161:\tlearn: 0.0012901\ttotal: 153ms\tremaining: 35.9ms\n",
      "162:\tlearn: 0.0012900\ttotal: 154ms\tremaining: 34.9ms\n",
      "163:\tlearn: 0.0012900\ttotal: 155ms\tremaining: 33.9ms\n",
      "164:\tlearn: 0.0012900\ttotal: 155ms\tremaining: 32.9ms\n",
      "165:\tlearn: 0.0012899\ttotal: 156ms\tremaining: 32ms\n",
      "166:\tlearn: 0.0012898\ttotal: 157ms\tremaining: 31ms\n",
      "167:\tlearn: 0.0012898\ttotal: 158ms\tremaining: 30.1ms\n",
      "168:\tlearn: 0.0012898\ttotal: 159ms\tremaining: 29.2ms\n",
      "169:\tlearn: 0.0012898\ttotal: 160ms\tremaining: 28.3ms\n",
      "170:\tlearn: 0.0012897\ttotal: 161ms\tremaining: 27.3ms\n",
      "171:\tlearn: 0.0012897\ttotal: 162ms\tremaining: 26.3ms\n",
      "172:\tlearn: 0.0012897\ttotal: 163ms\tremaining: 25.4ms\n",
      "173:\tlearn: 0.0012896\ttotal: 164ms\tremaining: 24.5ms\n",
      "174:\tlearn: 0.0012896\ttotal: 165ms\tremaining: 23.5ms\n",
      "175:\tlearn: 0.0012896\ttotal: 165ms\tremaining: 22.5ms\n",
      "176:\tlearn: 0.0012896\ttotal: 166ms\tremaining: 21.6ms\n",
      "177:\tlearn: 0.0012895\ttotal: 167ms\tremaining: 20.6ms\n",
      "178:\tlearn: 0.0012894\ttotal: 168ms\tremaining: 19.7ms\n",
      "179:\tlearn: 0.0012894\ttotal: 169ms\tremaining: 18.8ms\n",
      "180:\tlearn: 0.0012886\ttotal: 170ms\tremaining: 17.8ms\n",
      "181:\tlearn: 0.0012886\ttotal: 170ms\tremaining: 16.9ms\n",
      "182:\tlearn: 0.0012886\ttotal: 171ms\tremaining: 15.9ms\n",
      "183:\tlearn: 0.0012885\ttotal: 172ms\tremaining: 15ms\n",
      "184:\tlearn: 0.0012860\ttotal: 173ms\tremaining: 14ms\n",
      "185:\tlearn: 0.0012857\ttotal: 174ms\tremaining: 13.1ms\n",
      "186:\tlearn: 0.0012789\ttotal: 175ms\tremaining: 12.1ms\n",
      "187:\tlearn: 0.0012789\ttotal: 175ms\tremaining: 11.2ms\n",
      "188:\tlearn: 0.0012789\ttotal: 176ms\tremaining: 10.3ms\n",
      "189:\tlearn: 0.0012788\ttotal: 177ms\tremaining: 9.32ms\n",
      "190:\tlearn: 0.0012787\ttotal: 178ms\tremaining: 8.38ms\n",
      "191:\tlearn: 0.0012784\ttotal: 179ms\tremaining: 7.45ms\n",
      "192:\tlearn: 0.0012784\ttotal: 180ms\tremaining: 6.52ms\n",
      "193:\tlearn: 0.0012784\ttotal: 181ms\tremaining: 5.58ms\n",
      "194:\tlearn: 0.0012773\ttotal: 181ms\tremaining: 4.65ms\n",
      "195:\tlearn: 0.0012773\ttotal: 182ms\tremaining: 3.72ms\n",
      "196:\tlearn: 0.0012772\ttotal: 183ms\tremaining: 2.79ms\n",
      "197:\tlearn: 0.0012771\ttotal: 184ms\tremaining: 1.86ms\n",
      "198:\tlearn: 0.0012771\ttotal: 185ms\tremaining: 928us\n",
      "199:\tlearn: 0.0012748\ttotal: 186ms\tremaining: 0us\n"
     ]
    }
   ],
   "source": [
    "metrics=metrics.append(create_model(X_scl,y,catboost,tip='catboost'))"
   ]
  },
  {
   "cell_type": "markdown",
   "metadata": {},
   "source": [
    "# All Model Results "
   ]
  },
  {
   "cell_type": "code",
   "execution_count": 85,
   "metadata": {},
   "outputs": [
    {
     "data": {
      "text/html": [
       "<div>\n",
       "<style scoped>\n",
       "    .dataframe tbody tr th:only-of-type {\n",
       "        vertical-align: middle;\n",
       "    }\n",
       "\n",
       "    .dataframe tbody tr th {\n",
       "        vertical-align: top;\n",
       "    }\n",
       "\n",
       "    .dataframe thead th {\n",
       "        text-align: right;\n",
       "    }\n",
       "</style>\n",
       "<table border=\"1\" class=\"dataframe\">\n",
       "  <thead>\n",
       "    <tr style=\"text-align: right;\">\n",
       "      <th></th>\n",
       "      <th>AUC Score</th>\n",
       "      <th>Accuracy_Test</th>\n",
       "      <th>Accuracy_Train</th>\n",
       "      <th>F1 Score_Test</th>\n",
       "      <th>F1 Score_Train</th>\n",
       "      <th>Precision_Test</th>\n",
       "      <th>Precision_Train</th>\n",
       "      <th>Recall_Test</th>\n",
       "      <th>Recall_Train</th>\n",
       "    </tr>\n",
       "  </thead>\n",
       "  <tbody>\n",
       "    <tr>\n",
       "      <td>Logistic_Regr.</td>\n",
       "      <td>0.974359</td>\n",
       "      <td>0.953488</td>\n",
       "      <td>0.872093</td>\n",
       "      <td>0.966667</td>\n",
       "      <td>0.908333</td>\n",
       "      <td>0.966667</td>\n",
       "      <td>0.893443</td>\n",
       "      <td>0.966667</td>\n",
       "      <td>0.923729</td>\n",
       "    </tr>\n",
       "    <tr>\n",
       "      <td>Knn_model.</td>\n",
       "      <td>0.741026</td>\n",
       "      <td>0.790698</td>\n",
       "      <td>1.000000</td>\n",
       "      <td>0.852459</td>\n",
       "      <td>1.000000</td>\n",
       "      <td>0.838710</td>\n",
       "      <td>1.000000</td>\n",
       "      <td>0.866667</td>\n",
       "      <td>1.000000</td>\n",
       "    </tr>\n",
       "    <tr>\n",
       "      <td>cart_model.</td>\n",
       "      <td>0.944872</td>\n",
       "      <td>0.953488</td>\n",
       "      <td>1.000000</td>\n",
       "      <td>0.966667</td>\n",
       "      <td>1.000000</td>\n",
       "      <td>0.966667</td>\n",
       "      <td>1.000000</td>\n",
       "      <td>0.966667</td>\n",
       "      <td>1.000000</td>\n",
       "    </tr>\n",
       "    <tr>\n",
       "      <td>Random_Forest_Model</td>\n",
       "      <td>1.000000</td>\n",
       "      <td>1.000000</td>\n",
       "      <td>1.000000</td>\n",
       "      <td>1.000000</td>\n",
       "      <td>1.000000</td>\n",
       "      <td>1.000000</td>\n",
       "      <td>1.000000</td>\n",
       "      <td>1.000000</td>\n",
       "      <td>1.000000</td>\n",
       "    </tr>\n",
       "    <tr>\n",
       "      <td>SVC_model</td>\n",
       "      <td>0.906410</td>\n",
       "      <td>0.930233</td>\n",
       "      <td>0.889535</td>\n",
       "      <td>0.950820</td>\n",
       "      <td>0.919831</td>\n",
       "      <td>0.935484</td>\n",
       "      <td>0.915966</td>\n",
       "      <td>0.966667</td>\n",
       "      <td>0.923729</td>\n",
       "    </tr>\n",
       "    <tr>\n",
       "      <td>SVC_rbf_model</td>\n",
       "      <td>0.906410</td>\n",
       "      <td>0.930233</td>\n",
       "      <td>0.889535</td>\n",
       "      <td>0.950820</td>\n",
       "      <td>0.919831</td>\n",
       "      <td>0.935484</td>\n",
       "      <td>0.915966</td>\n",
       "      <td>0.966667</td>\n",
       "      <td>0.923729</td>\n",
       "    </tr>\n",
       "    <tr>\n",
       "      <td>xgb_model</td>\n",
       "      <td>1.000000</td>\n",
       "      <td>0.976744</td>\n",
       "      <td>1.000000</td>\n",
       "      <td>0.983051</td>\n",
       "      <td>1.000000</td>\n",
       "      <td>1.000000</td>\n",
       "      <td>1.000000</td>\n",
       "      <td>0.966667</td>\n",
       "      <td>1.000000</td>\n",
       "    </tr>\n",
       "    <tr>\n",
       "      <td>lgbm_model</td>\n",
       "      <td>1.000000</td>\n",
       "      <td>0.976744</td>\n",
       "      <td>1.000000</td>\n",
       "      <td>0.983051</td>\n",
       "      <td>1.000000</td>\n",
       "      <td>1.000000</td>\n",
       "      <td>1.000000</td>\n",
       "      <td>0.966667</td>\n",
       "      <td>1.000000</td>\n",
       "    </tr>\n",
       "    <tr>\n",
       "      <td>catboost</td>\n",
       "      <td>1.000000</td>\n",
       "      <td>0.976744</td>\n",
       "      <td>1.000000</td>\n",
       "      <td>0.983051</td>\n",
       "      <td>1.000000</td>\n",
       "      <td>1.000000</td>\n",
       "      <td>1.000000</td>\n",
       "      <td>0.966667</td>\n",
       "      <td>1.000000</td>\n",
       "    </tr>\n",
       "    <tr>\n",
       "      <td>catboost</td>\n",
       "      <td>1.000000</td>\n",
       "      <td>0.976744</td>\n",
       "      <td>1.000000</td>\n",
       "      <td>0.983051</td>\n",
       "      <td>1.000000</td>\n",
       "      <td>1.000000</td>\n",
       "      <td>1.000000</td>\n",
       "      <td>0.966667</td>\n",
       "      <td>1.000000</td>\n",
       "    </tr>\n",
       "  </tbody>\n",
       "</table>\n",
       "</div>"
      ],
      "text/plain": [
       "                     AUC Score  Accuracy_Test  Accuracy_Train  F1 Score_Test  \\\n",
       "Logistic_Regr.        0.974359       0.953488        0.872093       0.966667   \n",
       "Knn_model.            0.741026       0.790698        1.000000       0.852459   \n",
       "cart_model.           0.944872       0.953488        1.000000       0.966667   \n",
       "Random_Forest_Model   1.000000       1.000000        1.000000       1.000000   \n",
       "SVC_model             0.906410       0.930233        0.889535       0.950820   \n",
       "SVC_rbf_model         0.906410       0.930233        0.889535       0.950820   \n",
       "xgb_model             1.000000       0.976744        1.000000       0.983051   \n",
       "lgbm_model            1.000000       0.976744        1.000000       0.983051   \n",
       "catboost              1.000000       0.976744        1.000000       0.983051   \n",
       "catboost              1.000000       0.976744        1.000000       0.983051   \n",
       "\n",
       "                     F1 Score_Train  Precision_Test  Precision_Train  \\\n",
       "Logistic_Regr.             0.908333        0.966667         0.893443   \n",
       "Knn_model.                 1.000000        0.838710         1.000000   \n",
       "cart_model.                1.000000        0.966667         1.000000   \n",
       "Random_Forest_Model        1.000000        1.000000         1.000000   \n",
       "SVC_model                  0.919831        0.935484         0.915966   \n",
       "SVC_rbf_model              0.919831        0.935484         0.915966   \n",
       "xgb_model                  1.000000        1.000000         1.000000   \n",
       "lgbm_model                 1.000000        1.000000         1.000000   \n",
       "catboost                   1.000000        1.000000         1.000000   \n",
       "catboost                   1.000000        1.000000         1.000000   \n",
       "\n",
       "                     Recall_Test  Recall_Train  \n",
       "Logistic_Regr.          0.966667      0.923729  \n",
       "Knn_model.              0.866667      1.000000  \n",
       "cart_model.             0.966667      1.000000  \n",
       "Random_Forest_Model     1.000000      1.000000  \n",
       "SVC_model               0.966667      0.923729  \n",
       "SVC_rbf_model           0.966667      0.923729  \n",
       "xgb_model               0.966667      1.000000  \n",
       "lgbm_model              0.966667      1.000000  \n",
       "catboost                0.966667      1.000000  \n",
       "catboost                0.966667      1.000000  "
      ]
     },
     "execution_count": 85,
     "metadata": {},
     "output_type": "execute_result"
    }
   ],
   "source": [
    "metrics"
   ]
  },
  {
   "cell_type": "code",
   "execution_count": null,
   "metadata": {},
   "outputs": [],
   "source": []
  }
 ],
 "metadata": {
  "kernelspec": {
   "display_name": "Python 3",
   "language": "python",
   "name": "python3"
  },
  "language_info": {
   "codemirror_mode": {
    "name": "ipython",
    "version": 3
   },
   "file_extension": ".py",
   "mimetype": "text/x-python",
   "name": "python",
   "nbconvert_exporter": "python",
   "pygments_lexer": "ipython3",
   "version": "3.7.4"
  }
 },
 "nbformat": 4,
 "nbformat_minor": 4
}
